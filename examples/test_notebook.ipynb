{
 "cells": [
  {
   "cell_type": "code",
   "execution_count": null,
   "id": "0165684f",
   "metadata": {},
   "outputs": [],
   "source": [
    "import sys\n",
    "import os\n",
    "import polars as pl\n",
    "sys.path.insert(0, os.path.abspath(os.path.join(os.pardir, \"src\")))\n",
    "from cytodataparser import CytoGateParser"
   ]
  },
  {
   "cell_type": "markdown",
   "id": "9177ea75",
   "metadata": {},
   "source": [
    "# Structures/Core Testing"
   ]
  },
  {
   "cell_type": "markdown",
   "id": "2150184e",
   "metadata": {},
   "source": [
    "## GateNode Testing"
   ]
  },
  {
   "cell_type": "code",
   "execution_count": null,
   "id": "3e4ceba1",
   "metadata": {},
   "outputs": [],
   "source": [
    "from cytodataparser.structures import GateNode"
   ]
  },
  {
   "cell_type": "code",
   "execution_count": null,
   "id": "213f4245",
   "metadata": {},
   "outputs": [],
   "source": [
    "root = GateNode(\"Root\")\n",
    "child = GateNode(\"Root/Child\", parent=root)\n",
    "root.add_child(child)\n",
    "\n",
    "assert root.is_root()\n",
    "assert not root.is_leaf()\n",
    "assert child.is_leaf()\n",
    "assert child.depth() == 1\n",
    "assert root.height() == 1\n",
    "assert child.parent == root\n",
    "assert root.children == [child]"
   ]
  },
  {
   "cell_type": "markdown",
   "id": "29ea7f75",
   "metadata": {},
   "source": [
    "## GateTree Testing"
   ]
  },
  {
   "cell_type": "code",
   "execution_count": null,
   "id": "bd53eb9b",
   "metadata": {},
   "outputs": [],
   "source": [
    "from cytodataparser.structures import GateTree\n",
    "import polars as pl"
   ]
  },
  {
   "cell_type": "code",
   "execution_count": null,
   "id": "34b5c6ee",
   "metadata": {},
   "outputs": [],
   "source": [
    "row = pl.DataFrame({\n",
    "    \"Cells | Count\": [1000, 10],\n",
    "    \"Cells/CD4 | Count\": [600, 1],\n",
    "    \"Cells/CD4/Living | Count\": [500, 1],\n",
    "    \"Cells/CD4/Living/Next | Count\": [300, 1],\n",
    "    \"Cells/CD4/Living/Next/No | Count\": [300, 1],\n",
    "    \"Cells/CD8 | Count\": [400, 20],\n",
    "}).row(0, named=True)\n",
    "tree = GateTree(row)\n",
    "assert tree.root.name == \"Cells\"\n",
    "assert \"Cells/CD4\" in tree.nodes\n",
    "assert tree.get_nodes(\"Cells/CD8\")[0].measures[\"Count\"] == 400\n",
    "assert tree.get_nodes(\"Cells/CD8\")[0].measures[\"pct_parent\"] == 400 / 1000 * 100\n",
    "assert tree.max_depth() == 4\n",
    "assert tree.get_nodes(\"Cells/CD4/Ungated\")[0].measures[\"Count\"] == 100\n"
   ]
  },
  {
   "cell_type": "markdown",
   "id": "fe379e76",
   "metadata": {},
   "source": [
    "## Test Utils"
   ]
  },
  {
   "cell_type": "code",
   "execution_count": null,
   "id": "0eb0b159",
   "metadata": {},
   "outputs": [],
   "source": [
    "from cytodataparser.utils.predicates import parse_string_condition, from_range, matches_regex"
   ]
  },
  {
   "cell_type": "code",
   "execution_count": null,
   "id": "ab260483",
   "metadata": {},
   "outputs": [],
   "source": [
    "cond = parse_string_condition(\"> 10 and < 20\")\n",
    "assert cond(15)\n",
    "assert not cond(25)\n",
    "\n",
    "cond = parse_string_condition(\"== 10\")\n",
    "assert cond(10)\n",
    "assert not cond(15)\n",
    "\n",
    "cond = parse_string_condition(\"<= 10\")\n",
    "assert cond(9)\n",
    "assert not cond(15)\n",
    "\n",
    "cond = parse_string_condition(\">= 10\")\n",
    "assert not cond(9)\n",
    "assert cond(15)\n",
    "\n",
    "cond = parse_string_condition(\"!= 10\")\n",
    "assert cond(9)\n",
    "assert not cond(10)\n",
    "\n",
    "cond = parse_string_condition(\"!= Hello\")\n",
    "assert not cond(\"Hello\")\n",
    "assert cond(\"Goodbye\")\n",
    "\n",
    "cond = from_range(range(10, 20))\n",
    "assert cond(15)\n",
    "assert not cond(25)\n",
    "\n",
    "cond = matches_regex(r\"^AB\\d{3}Z$\")\n",
    "assert cond(\"AB123Z\")\n",
    "assert not cond(\"AB12Z\")"
   ]
  },
  {
   "cell_type": "markdown",
   "id": "8e8b9f22",
   "metadata": {},
   "source": [
    "## Test Core"
   ]
  },
  {
   "cell_type": "code",
   "execution_count": 1,
   "id": "12463e8b",
   "metadata": {},
   "outputs": [],
   "source": [
    "from cytodataparser import CytoGateParser\n",
    "import cytodataparser.plotting as plt\n",
    "import flowkit as fk"
   ]
  },
  {
   "cell_type": "code",
   "execution_count": 2,
   "id": "077da1d6",
   "metadata": {},
   "outputs": [
    {
     "name": "stderr",
     "output_type": "stream",
     "text": [
      "c:\\Users\\brend\\anaconda3\\envs\\flow_analysis_dup\\Lib\\site-packages\\flowkit\\_models\\workspace.py:123: UserWarning: WSP references 3 LN.fcs, but sample was not loaded.\n",
      "  warnings.warn(msg)\n",
      "c:\\Users\\brend\\anaconda3\\envs\\flow_analysis_dup\\Lib\\site-packages\\flowkit\\_models\\workspace.py:123: UserWarning: WSP references 3 Spl.fcs, but sample was not loaded.\n",
      "  warnings.warn(msg)\n",
      "c:\\Users\\brend\\anaconda3\\envs\\flow_analysis_dup\\Lib\\site-packages\\flowkit\\_models\\workspace.py:123: UserWarning: WSP references 1 Spl.fcs, but sample was not loaded.\n",
      "  warnings.warn(msg)\n",
      "c:\\Users\\brend\\anaconda3\\envs\\flow_analysis_dup\\Lib\\site-packages\\flowkit\\_models\\workspace.py:123: UserWarning: WSP references 2 LN.fcs, but sample was not loaded.\n",
      "  warnings.warn(msg)\n",
      "c:\\Users\\brend\\anaconda3\\envs\\flow_analysis_dup\\Lib\\site-packages\\flowkit\\_models\\workspace.py:123: UserWarning: WSP references 2 Spl.fcs, but sample was not loaded.\n",
      "  warnings.warn(msg)\n",
      "c:\\Users\\brend\\anaconda3\\envs\\flow_analysis_dup\\Lib\\site-packages\\flowkit\\_models\\workspace.py:123: UserWarning: WSP references 3 LN.fcs, but sample was not loaded.\n",
      "  warnings.warn(msg)\n",
      "c:\\Users\\brend\\anaconda3\\envs\\flow_analysis_dup\\Lib\\site-packages\\flowkit\\_models\\workspace.py:123: UserWarning: WSP references 3 Spl.fcs, but sample was not loaded.\n",
      "  warnings.warn(msg)\n",
      "c:\\Users\\brend\\anaconda3\\envs\\flow_analysis_dup\\Lib\\site-packages\\flowkit\\_models\\workspace.py:123: UserWarning: WSP references 1 LN.fcs, but sample was not loaded.\n",
      "  warnings.warn(msg)\n",
      "c:\\Users\\brend\\anaconda3\\envs\\flow_analysis_dup\\Lib\\site-packages\\flowkit\\_models\\workspace.py:123: UserWarning: WSP references 2 LN.fcs, but sample was not loaded.\n",
      "  warnings.warn(msg)\n",
      "c:\\Users\\brend\\anaconda3\\envs\\flow_analysis_dup\\Lib\\site-packages\\flowkit\\_models\\workspace.py:123: UserWarning: WSP references 2 Spl.fcs, but sample was not loaded.\n",
      "  warnings.warn(msg)\n",
      "c:\\Users\\brend\\anaconda3\\envs\\flow_analysis_dup\\Lib\\site-packages\\flowkit\\_models\\workspace.py:123: UserWarning: WSP references 3 LN.fcs, but sample was not loaded.\n",
      "  warnings.warn(msg)\n",
      "c:\\Users\\brend\\anaconda3\\envs\\flow_analysis_dup\\Lib\\site-packages\\flowkit\\_models\\workspace.py:123: UserWarning: WSP references 3 Spl.fcs, but sample was not loaded.\n",
      "  warnings.warn(msg)\n",
      "c:\\Users\\brend\\anaconda3\\envs\\flow_analysis_dup\\Lib\\site-packages\\flowkit\\_models\\workspace.py:123: UserWarning: WSP references 1 LN.fcs, but sample was not loaded.\n",
      "  warnings.warn(msg)\n",
      "c:\\Users\\brend\\anaconda3\\envs\\flow_analysis_dup\\Lib\\site-packages\\flowkit\\_models\\workspace.py:123: UserWarning: WSP references 1 Spl.fcs, but sample was not loaded.\n",
      "  warnings.warn(msg)\n",
      "c:\\Users\\brend\\anaconda3\\envs\\flow_analysis_dup\\Lib\\site-packages\\flowkit\\_models\\workspace.py:123: UserWarning: WSP references 2 Spl.fcs, but sample was not loaded.\n",
      "  warnings.warn(msg)\n",
      "c:\\Users\\brend\\anaconda3\\envs\\flow_analysis_dup\\Lib\\site-packages\\flowkit\\_models\\workspace.py:123: UserWarning: WSP references 3 LN.fcs, but sample was not loaded.\n",
      "  warnings.warn(msg)\n",
      "c:\\Users\\brend\\anaconda3\\envs\\flow_analysis_dup\\Lib\\site-packages\\flowkit\\_models\\workspace.py:123: UserWarning: WSP references 3 Spl.fcs, but sample was not loaded.\n",
      "  warnings.warn(msg)\n",
      "c:\\Users\\brend\\anaconda3\\envs\\flow_analysis_dup\\Lib\\site-packages\\flowkit\\_models\\workspace.py:123: UserWarning: WSP references 1 LN.fcs, but sample was not loaded.\n",
      "  warnings.warn(msg)\n",
      "c:\\Users\\brend\\anaconda3\\envs\\flow_analysis_dup\\Lib\\site-packages\\flowkit\\_models\\workspace.py:123: UserWarning: WSP references 1 Spl.fcs, but sample was not loaded.\n",
      "  warnings.warn(msg)\n",
      "c:\\Users\\brend\\anaconda3\\envs\\flow_analysis_dup\\Lib\\site-packages\\flowkit\\_models\\workspace.py:123: UserWarning: WSP references 2 LN.fcs, but sample was not loaded.\n",
      "  warnings.warn(msg)\n",
      "c:\\Users\\brend\\anaconda3\\envs\\flow_analysis_dup\\Lib\\site-packages\\flowkit\\_models\\workspace.py:123: UserWarning: WSP references 3 Spl.fcs, but sample was not loaded.\n",
      "  warnings.warn(msg)\n",
      "c:\\Users\\brend\\anaconda3\\envs\\flow_analysis_dup\\Lib\\site-packages\\flowkit\\_models\\workspace.py:123: UserWarning: WSP references 1 LN.fcs, but sample was not loaded.\n",
      "  warnings.warn(msg)\n",
      "c:\\Users\\brend\\anaconda3\\envs\\flow_analysis_dup\\Lib\\site-packages\\flowkit\\_models\\workspace.py:123: UserWarning: WSP references 1 Spl.fcs, but sample was not loaded.\n",
      "  warnings.warn(msg)\n",
      "c:\\Users\\brend\\anaconda3\\envs\\flow_analysis_dup\\Lib\\site-packages\\flowkit\\_models\\workspace.py:123: UserWarning: WSP references 2 LN.fcs, but sample was not loaded.\n",
      "  warnings.warn(msg)\n",
      "c:\\Users\\brend\\anaconda3\\envs\\flow_analysis_dup\\Lib\\site-packages\\flowkit\\_models\\workspace.py:123: UserWarning: WSP references 2 Spl.fcs, but sample was not loaded.\n",
      "  warnings.warn(msg)\n",
      "c:\\Users\\brend\\anaconda3\\envs\\flow_analysis_dup\\Lib\\site-packages\\flowkit\\_models\\workspace.py:123: UserWarning: WSP references 3 LN.fcs, but sample was not loaded.\n",
      "  warnings.warn(msg)\n",
      "c:\\Users\\brend\\anaconda3\\envs\\flow_analysis_dup\\Lib\\site-packages\\flowkit\\_models\\workspace.py:123: UserWarning: WSP references 1 LN.fcs, but sample was not loaded.\n",
      "  warnings.warn(msg)\n",
      "c:\\Users\\brend\\anaconda3\\envs\\flow_analysis_dup\\Lib\\site-packages\\flowkit\\_models\\workspace.py:123: UserWarning: WSP references 1 Spl.fcs, but sample was not loaded.\n",
      "  warnings.warn(msg)\n",
      "c:\\Users\\brend\\anaconda3\\envs\\flow_analysis_dup\\Lib\\site-packages\\flowkit\\_models\\workspace.py:123: UserWarning: WSP references 2 LN.fcs, but sample was not loaded.\n",
      "  warnings.warn(msg)\n",
      "c:\\Users\\brend\\anaconda3\\envs\\flow_analysis_dup\\Lib\\site-packages\\flowkit\\_models\\workspace.py:123: UserWarning: WSP references 2 Spl.fcs, but sample was not loaded.\n",
      "  warnings.warn(msg)\n",
      "c:\\Users\\brend\\anaconda3\\envs\\flow_analysis_dup\\Lib\\site-packages\\flowkit\\_models\\workspace.py:123: UserWarning: WSP references 3 LN.fcs, but sample was not loaded.\n",
      "  warnings.warn(msg)\n",
      "c:\\Users\\brend\\anaconda3\\envs\\flow_analysis_dup\\Lib\\site-packages\\flowkit\\_models\\workspace.py:123: UserWarning: WSP references 3 Spl.fcs, but sample was not loaded.\n",
      "  warnings.warn(msg)\n",
      "c:\\Users\\brend\\anaconda3\\envs\\flow_analysis_dup\\Lib\\site-packages\\flowkit\\_models\\workspace.py:123: UserWarning: WSP references 1 Spl.fcs, but sample was not loaded.\n",
      "  warnings.warn(msg)\n",
      "c:\\Users\\brend\\anaconda3\\envs\\flow_analysis_dup\\Lib\\site-packages\\flowkit\\_models\\workspace.py:123: UserWarning: WSP references 2 LN.fcs, but sample was not loaded.\n",
      "  warnings.warn(msg)\n",
      "c:\\Users\\brend\\anaconda3\\envs\\flow_analysis_dup\\Lib\\site-packages\\flowkit\\_models\\workspace.py:123: UserWarning: WSP references 2 Spl.fcs, but sample was not loaded.\n",
      "  warnings.warn(msg)\n",
      "c:\\Users\\brend\\anaconda3\\envs\\flow_analysis_dup\\Lib\\site-packages\\flowkit\\_models\\workspace.py:123: UserWarning: WSP references 3 LN.fcs, but sample was not loaded.\n",
      "  warnings.warn(msg)\n",
      "c:\\Users\\brend\\anaconda3\\envs\\flow_analysis_dup\\Lib\\site-packages\\flowkit\\_models\\workspace.py:123: UserWarning: WSP references 3 Spl.fcs, but sample was not loaded.\n",
      "  warnings.warn(msg)\n",
      "c:\\Users\\brend\\anaconda3\\envs\\flow_analysis_dup\\Lib\\site-packages\\flowkit\\_models\\workspace.py:123: UserWarning: WSP references 1 LN.fcs, but sample was not loaded.\n",
      "  warnings.warn(msg)\n",
      "c:\\Users\\brend\\anaconda3\\envs\\flow_analysis_dup\\Lib\\site-packages\\flowkit\\_models\\workspace.py:123: UserWarning: WSP references 2 LN.fcs, but sample was not loaded.\n",
      "  warnings.warn(msg)\n",
      "c:\\Users\\brend\\anaconda3\\envs\\flow_analysis_dup\\Lib\\site-packages\\flowkit\\_models\\workspace.py:123: UserWarning: WSP references 2 Spl.fcs, but sample was not loaded.\n",
      "  warnings.warn(msg)\n",
      "c:\\Users\\brend\\anaconda3\\envs\\flow_analysis_dup\\Lib\\site-packages\\flowkit\\_models\\workspace.py:123: UserWarning: WSP references 3 LN.fcs, but sample was not loaded.\n",
      "  warnings.warn(msg)\n",
      "c:\\Users\\brend\\anaconda3\\envs\\flow_analysis_dup\\Lib\\site-packages\\flowkit\\_models\\workspace.py:123: UserWarning: WSP references 3 Spl.fcs, but sample was not loaded.\n",
      "  warnings.warn(msg)\n",
      "c:\\Users\\brend\\anaconda3\\envs\\flow_analysis_dup\\Lib\\site-packages\\flowkit\\_models\\workspace.py:123: UserWarning: WSP references 1 LN.fcs, but sample was not loaded.\n",
      "  warnings.warn(msg)\n",
      "c:\\Users\\brend\\anaconda3\\envs\\flow_analysis_dup\\Lib\\site-packages\\flowkit\\_models\\workspace.py:123: UserWarning: WSP references 1 Spl.fcs, but sample was not loaded.\n",
      "  warnings.warn(msg)\n",
      "c:\\Users\\brend\\anaconda3\\envs\\flow_analysis_dup\\Lib\\site-packages\\flowkit\\_models\\workspace.py:123: UserWarning: WSP references 2 Spl.fcs, but sample was not loaded.\n",
      "  warnings.warn(msg)\n",
      "c:\\Users\\brend\\anaconda3\\envs\\flow_analysis_dup\\Lib\\site-packages\\flowkit\\_models\\workspace.py:123: UserWarning: WSP references 3 LN.fcs, but sample was not loaded.\n",
      "  warnings.warn(msg)\n",
      "c:\\Users\\brend\\anaconda3\\envs\\flow_analysis_dup\\Lib\\site-packages\\flowkit\\_models\\workspace.py:123: UserWarning: WSP references 3 Spl.fcs, but sample was not loaded.\n",
      "  warnings.warn(msg)\n",
      "c:\\Users\\brend\\anaconda3\\envs\\flow_analysis_dup\\Lib\\site-packages\\flowkit\\_models\\workspace.py:123: UserWarning: WSP references 1 LN.fcs, but sample was not loaded.\n",
      "  warnings.warn(msg)\n",
      "c:\\Users\\brend\\anaconda3\\envs\\flow_analysis_dup\\Lib\\site-packages\\flowkit\\_models\\workspace.py:123: UserWarning: WSP references 1 Spl.fcs, but sample was not loaded.\n",
      "  warnings.warn(msg)\n",
      "c:\\Users\\brend\\anaconda3\\envs\\flow_analysis_dup\\Lib\\site-packages\\flowkit\\_models\\workspace.py:123: UserWarning: WSP references 2 LN.fcs, but sample was not loaded.\n",
      "  warnings.warn(msg)\n",
      "c:\\Users\\brend\\anaconda3\\envs\\flow_analysis_dup\\Lib\\site-packages\\flowkit\\_models\\workspace.py:123: UserWarning: WSP references 3 Spl.fcs, but sample was not loaded.\n",
      "  warnings.warn(msg)\n",
      "c:\\Users\\brend\\anaconda3\\envs\\flow_analysis_dup\\Lib\\site-packages\\flowkit\\_models\\workspace.py:123: UserWarning: WSP references 1 LN.fcs, but sample was not loaded.\n",
      "  warnings.warn(msg)\n",
      "c:\\Users\\brend\\anaconda3\\envs\\flow_analysis_dup\\Lib\\site-packages\\flowkit\\_models\\workspace.py:123: UserWarning: WSP references 1 Spl.fcs, but sample was not loaded.\n",
      "  warnings.warn(msg)\n",
      "c:\\Users\\brend\\anaconda3\\envs\\flow_analysis_dup\\Lib\\site-packages\\flowkit\\_models\\workspace.py:123: UserWarning: WSP references 2 LN.fcs, but sample was not loaded.\n",
      "  warnings.warn(msg)\n",
      "c:\\Users\\brend\\anaconda3\\envs\\flow_analysis_dup\\Lib\\site-packages\\flowkit\\_models\\workspace.py:123: UserWarning: WSP references 2 Spl.fcs, but sample was not loaded.\n",
      "  warnings.warn(msg)\n",
      "c:\\Users\\brend\\anaconda3\\envs\\flow_analysis_dup\\Lib\\site-packages\\flowkit\\_models\\workspace.py:123: UserWarning: WSP references 3 LN.fcs, but sample was not loaded.\n",
      "  warnings.warn(msg)\n",
      "c:\\Users\\brend\\anaconda3\\envs\\flow_analysis_dup\\Lib\\site-packages\\flowkit\\_models\\workspace.py:123: UserWarning: WSP references 1 LN.fcs, but sample was not loaded.\n",
      "  warnings.warn(msg)\n",
      "c:\\Users\\brend\\anaconda3\\envs\\flow_analysis_dup\\Lib\\site-packages\\flowkit\\_models\\workspace.py:123: UserWarning: WSP references 1 Spl.fcs, but sample was not loaded.\n",
      "  warnings.warn(msg)\n",
      "c:\\Users\\brend\\anaconda3\\envs\\flow_analysis_dup\\Lib\\site-packages\\flowkit\\_models\\workspace.py:123: UserWarning: WSP references 2 LN.fcs, but sample was not loaded.\n",
      "  warnings.warn(msg)\n",
      "c:\\Users\\brend\\anaconda3\\envs\\flow_analysis_dup\\Lib\\site-packages\\flowkit\\_models\\workspace.py:123: UserWarning: WSP references 2 Spl.fcs, but sample was not loaded.\n",
      "  warnings.warn(msg)\n"
     ]
    }
   ],
   "source": [
    "cgp = CytoGateParser.from_file(r\"C:\\Users\\brend\\OneDrive\\Individual Research\\CytoDataParser\\examples\\2025-06-20 Skin Tx Characterization\\23-Jun-2025.wsp\", fcs_files=r\"C:\\Users\\brend\\OneDrive\\Individual Research\\CytoDataParser\\examples\\2025-06-20 Skin Tx Characterization\\Unmixed\")"
   ]
  },
  {
   "cell_type": "code",
   "execution_count": 5,
   "id": "315a5870",
   "metadata": {},
   "outputs": [
    {
     "name": "stdout",
     "output_type": "stream",
     "text": [
      "Running ANOVA\n",
      "Warning: significance annotation failed — ANOVA requires ≥3 groups; found: [None]\n"
     ]
    },
    {
     "name": "stderr",
     "output_type": "stream",
     "text": [
      "C:\\Users\\brend\\OneDrive\\Individual Research\\CytoDataParser\\src\\cytodataparser\\plotting\\categorical.py:189: RuntimeWarning:\n",
      "\n",
      "Using first node: root/Cells/Singlets/CD45.1+ CD4+\n",
      "Nodes found: ['root/Cells/Singlets/CD45.1+ CD4+']\n",
      "\n",
      "\n",
      "C:\\Users\\brend\\OneDrive\\Individual Research\\CytoDataParser\\src\\cytodataparser\\plotting\\categorical.py:198: RuntimeWarning:\n",
      "\n",
      "Color column not found in DataFrame\n",
      "\n"
     ]
    },
    {
     "data": {
      "application/vnd.plotly.v1+json": {
       "config": {
        "plotlyServerURL": "https://plot.ly"
       },
       "data": [
        {
         "alignmentgroup": "True",
         "boxpoints": "outliers",
         "hovertemplate": "x_axis=%{x}<br>relative_percent=%{y}<extra></extra>",
         "legendgroup": "",
         "marker": {
          "color": "#636efa"
         },
         "name": "",
         "notched": false,
         "offsetgroup": "",
         "orientation": "v",
         "showlegend": false,
         "type": "box",
         "x": [
          "1_LN",
          "1_Spleen",
          "2_LN",
          "2_Spleen",
          "3_LN",
          "3_Spleen",
          "1_LN",
          "1_Spleen",
          "2_LN",
          "2_Spleen",
          "3_LN",
          "3_Spleen"
         ],
         "x0": " ",
         "xaxis": "x",
         "y": {
          "bdata": "BY+xcNbE+T+N2MXZM8NOQCXV1W8wt/8/5ClBnhJkSEAYIOb73HvqP0GrZDSlND1Ay01gRVX48D+Q3Dzj/rRFQHdCfbVaf+U/B5DEBIzhQEA+Nzusx+sHQPMSyWbA/T5A",
          "dtype": "f8"
         },
         "y0": " ",
         "yaxis": "y"
        }
       ],
       "layout": {
        "boxmode": "group",
        "legend": {
         "tracegroupgap": 0
        },
        "margin": {
         "b": 40,
         "l": 40,
         "r": 40,
         "t": 100
        },
        "template": {
         "data": {
          "bar": [
           {
            "error_x": {
             "color": "#2a3f5f"
            },
            "error_y": {
             "color": "#2a3f5f"
            },
            "marker": {
             "line": {
              "color": "#E5ECF6",
              "width": 0.5
             },
             "pattern": {
              "fillmode": "overlay",
              "size": 10,
              "solidity": 0.2
             }
            },
            "type": "bar"
           }
          ],
          "barpolar": [
           {
            "marker": {
             "line": {
              "color": "#E5ECF6",
              "width": 0.5
             },
             "pattern": {
              "fillmode": "overlay",
              "size": 10,
              "solidity": 0.2
             }
            },
            "type": "barpolar"
           }
          ],
          "carpet": [
           {
            "aaxis": {
             "endlinecolor": "#2a3f5f",
             "gridcolor": "white",
             "linecolor": "white",
             "minorgridcolor": "white",
             "startlinecolor": "#2a3f5f"
            },
            "baxis": {
             "endlinecolor": "#2a3f5f",
             "gridcolor": "white",
             "linecolor": "white",
             "minorgridcolor": "white",
             "startlinecolor": "#2a3f5f"
            },
            "type": "carpet"
           }
          ],
          "choropleth": [
           {
            "colorbar": {
             "outlinewidth": 0,
             "ticks": ""
            },
            "type": "choropleth"
           }
          ],
          "contour": [
           {
            "colorbar": {
             "outlinewidth": 0,
             "ticks": ""
            },
            "colorscale": [
             [
              0,
              "#0d0887"
             ],
             [
              0.1111111111111111,
              "#46039f"
             ],
             [
              0.2222222222222222,
              "#7201a8"
             ],
             [
              0.3333333333333333,
              "#9c179e"
             ],
             [
              0.4444444444444444,
              "#bd3786"
             ],
             [
              0.5555555555555556,
              "#d8576b"
             ],
             [
              0.6666666666666666,
              "#ed7953"
             ],
             [
              0.7777777777777778,
              "#fb9f3a"
             ],
             [
              0.8888888888888888,
              "#fdca26"
             ],
             [
              1,
              "#f0f921"
             ]
            ],
            "type": "contour"
           }
          ],
          "contourcarpet": [
           {
            "colorbar": {
             "outlinewidth": 0,
             "ticks": ""
            },
            "type": "contourcarpet"
           }
          ],
          "heatmap": [
           {
            "colorbar": {
             "outlinewidth": 0,
             "ticks": ""
            },
            "colorscale": [
             [
              0,
              "#0d0887"
             ],
             [
              0.1111111111111111,
              "#46039f"
             ],
             [
              0.2222222222222222,
              "#7201a8"
             ],
             [
              0.3333333333333333,
              "#9c179e"
             ],
             [
              0.4444444444444444,
              "#bd3786"
             ],
             [
              0.5555555555555556,
              "#d8576b"
             ],
             [
              0.6666666666666666,
              "#ed7953"
             ],
             [
              0.7777777777777778,
              "#fb9f3a"
             ],
             [
              0.8888888888888888,
              "#fdca26"
             ],
             [
              1,
              "#f0f921"
             ]
            ],
            "type": "heatmap"
           }
          ],
          "histogram": [
           {
            "marker": {
             "pattern": {
              "fillmode": "overlay",
              "size": 10,
              "solidity": 0.2
             }
            },
            "type": "histogram"
           }
          ],
          "histogram2d": [
           {
            "colorbar": {
             "outlinewidth": 0,
             "ticks": ""
            },
            "colorscale": [
             [
              0,
              "#0d0887"
             ],
             [
              0.1111111111111111,
              "#46039f"
             ],
             [
              0.2222222222222222,
              "#7201a8"
             ],
             [
              0.3333333333333333,
              "#9c179e"
             ],
             [
              0.4444444444444444,
              "#bd3786"
             ],
             [
              0.5555555555555556,
              "#d8576b"
             ],
             [
              0.6666666666666666,
              "#ed7953"
             ],
             [
              0.7777777777777778,
              "#fb9f3a"
             ],
             [
              0.8888888888888888,
              "#fdca26"
             ],
             [
              1,
              "#f0f921"
             ]
            ],
            "type": "histogram2d"
           }
          ],
          "histogram2dcontour": [
           {
            "colorbar": {
             "outlinewidth": 0,
             "ticks": ""
            },
            "colorscale": [
             [
              0,
              "#0d0887"
             ],
             [
              0.1111111111111111,
              "#46039f"
             ],
             [
              0.2222222222222222,
              "#7201a8"
             ],
             [
              0.3333333333333333,
              "#9c179e"
             ],
             [
              0.4444444444444444,
              "#bd3786"
             ],
             [
              0.5555555555555556,
              "#d8576b"
             ],
             [
              0.6666666666666666,
              "#ed7953"
             ],
             [
              0.7777777777777778,
              "#fb9f3a"
             ],
             [
              0.8888888888888888,
              "#fdca26"
             ],
             [
              1,
              "#f0f921"
             ]
            ],
            "type": "histogram2dcontour"
           }
          ],
          "mesh3d": [
           {
            "colorbar": {
             "outlinewidth": 0,
             "ticks": ""
            },
            "type": "mesh3d"
           }
          ],
          "parcoords": [
           {
            "line": {
             "colorbar": {
              "outlinewidth": 0,
              "ticks": ""
             }
            },
            "type": "parcoords"
           }
          ],
          "pie": [
           {
            "automargin": true,
            "type": "pie"
           }
          ],
          "scatter": [
           {
            "fillpattern": {
             "fillmode": "overlay",
             "size": 10,
             "solidity": 0.2
            },
            "type": "scatter"
           }
          ],
          "scatter3d": [
           {
            "line": {
             "colorbar": {
              "outlinewidth": 0,
              "ticks": ""
             }
            },
            "marker": {
             "colorbar": {
              "outlinewidth": 0,
              "ticks": ""
             }
            },
            "type": "scatter3d"
           }
          ],
          "scattercarpet": [
           {
            "marker": {
             "colorbar": {
              "outlinewidth": 0,
              "ticks": ""
             }
            },
            "type": "scattercarpet"
           }
          ],
          "scattergeo": [
           {
            "marker": {
             "colorbar": {
              "outlinewidth": 0,
              "ticks": ""
             }
            },
            "type": "scattergeo"
           }
          ],
          "scattergl": [
           {
            "marker": {
             "colorbar": {
              "outlinewidth": 0,
              "ticks": ""
             }
            },
            "type": "scattergl"
           }
          ],
          "scattermap": [
           {
            "marker": {
             "colorbar": {
              "outlinewidth": 0,
              "ticks": ""
             }
            },
            "type": "scattermap"
           }
          ],
          "scattermapbox": [
           {
            "marker": {
             "colorbar": {
              "outlinewidth": 0,
              "ticks": ""
             }
            },
            "type": "scattermapbox"
           }
          ],
          "scatterpolar": [
           {
            "marker": {
             "colorbar": {
              "outlinewidth": 0,
              "ticks": ""
             }
            },
            "type": "scatterpolar"
           }
          ],
          "scatterpolargl": [
           {
            "marker": {
             "colorbar": {
              "outlinewidth": 0,
              "ticks": ""
             }
            },
            "type": "scatterpolargl"
           }
          ],
          "scatterternary": [
           {
            "marker": {
             "colorbar": {
              "outlinewidth": 0,
              "ticks": ""
             }
            },
            "type": "scatterternary"
           }
          ],
          "surface": [
           {
            "colorbar": {
             "outlinewidth": 0,
             "ticks": ""
            },
            "colorscale": [
             [
              0,
              "#0d0887"
             ],
             [
              0.1111111111111111,
              "#46039f"
             ],
             [
              0.2222222222222222,
              "#7201a8"
             ],
             [
              0.3333333333333333,
              "#9c179e"
             ],
             [
              0.4444444444444444,
              "#bd3786"
             ],
             [
              0.5555555555555556,
              "#d8576b"
             ],
             [
              0.6666666666666666,
              "#ed7953"
             ],
             [
              0.7777777777777778,
              "#fb9f3a"
             ],
             [
              0.8888888888888888,
              "#fdca26"
             ],
             [
              1,
              "#f0f921"
             ]
            ],
            "type": "surface"
           }
          ],
          "table": [
           {
            "cells": {
             "fill": {
              "color": "#EBF0F8"
             },
             "line": {
              "color": "white"
             }
            },
            "header": {
             "fill": {
              "color": "#C8D4E3"
             },
             "line": {
              "color": "white"
             }
            },
            "type": "table"
           }
          ]
         },
         "layout": {
          "annotationdefaults": {
           "arrowcolor": "#2a3f5f",
           "arrowhead": 0,
           "arrowwidth": 1
          },
          "autotypenumbers": "strict",
          "coloraxis": {
           "colorbar": {
            "outlinewidth": 0,
            "ticks": ""
           }
          },
          "colorscale": {
           "diverging": [
            [
             0,
             "#8e0152"
            ],
            [
             0.1,
             "#c51b7d"
            ],
            [
             0.2,
             "#de77ae"
            ],
            [
             0.3,
             "#f1b6da"
            ],
            [
             0.4,
             "#fde0ef"
            ],
            [
             0.5,
             "#f7f7f7"
            ],
            [
             0.6,
             "#e6f5d0"
            ],
            [
             0.7,
             "#b8e186"
            ],
            [
             0.8,
             "#7fbc41"
            ],
            [
             0.9,
             "#4d9221"
            ],
            [
             1,
             "#276419"
            ]
           ],
           "sequential": [
            [
             0,
             "#0d0887"
            ],
            [
             0.1111111111111111,
             "#46039f"
            ],
            [
             0.2222222222222222,
             "#7201a8"
            ],
            [
             0.3333333333333333,
             "#9c179e"
            ],
            [
             0.4444444444444444,
             "#bd3786"
            ],
            [
             0.5555555555555556,
             "#d8576b"
            ],
            [
             0.6666666666666666,
             "#ed7953"
            ],
            [
             0.7777777777777778,
             "#fb9f3a"
            ],
            [
             0.8888888888888888,
             "#fdca26"
            ],
            [
             1,
             "#f0f921"
            ]
           ],
           "sequentialminus": [
            [
             0,
             "#0d0887"
            ],
            [
             0.1111111111111111,
             "#46039f"
            ],
            [
             0.2222222222222222,
             "#7201a8"
            ],
            [
             0.3333333333333333,
             "#9c179e"
            ],
            [
             0.4444444444444444,
             "#bd3786"
            ],
            [
             0.5555555555555556,
             "#d8576b"
            ],
            [
             0.6666666666666666,
             "#ed7953"
            ],
            [
             0.7777777777777778,
             "#fb9f3a"
            ],
            [
             0.8888888888888888,
             "#fdca26"
            ],
            [
             1,
             "#f0f921"
            ]
           ]
          },
          "colorway": [
           "#636efa",
           "#EF553B",
           "#00cc96",
           "#ab63fa",
           "#FFA15A",
           "#19d3f3",
           "#FF6692",
           "#B6E880",
           "#FF97FF",
           "#FECB52"
          ],
          "font": {
           "color": "#2a3f5f"
          },
          "geo": {
           "bgcolor": "white",
           "lakecolor": "white",
           "landcolor": "#E5ECF6",
           "showlakes": true,
           "showland": true,
           "subunitcolor": "white"
          },
          "hoverlabel": {
           "align": "left"
          },
          "hovermode": "closest",
          "mapbox": {
           "style": "light"
          },
          "paper_bgcolor": "white",
          "plot_bgcolor": "#E5ECF6",
          "polar": {
           "angularaxis": {
            "gridcolor": "white",
            "linecolor": "white",
            "ticks": ""
           },
           "bgcolor": "#E5ECF6",
           "radialaxis": {
            "gridcolor": "white",
            "linecolor": "white",
            "ticks": ""
           }
          },
          "scene": {
           "xaxis": {
            "backgroundcolor": "#E5ECF6",
            "gridcolor": "white",
            "gridwidth": 2,
            "linecolor": "white",
            "showbackground": true,
            "ticks": "",
            "zerolinecolor": "white"
           },
           "yaxis": {
            "backgroundcolor": "#E5ECF6",
            "gridcolor": "white",
            "gridwidth": 2,
            "linecolor": "white",
            "showbackground": true,
            "ticks": "",
            "zerolinecolor": "white"
           },
           "zaxis": {
            "backgroundcolor": "#E5ECF6",
            "gridcolor": "white",
            "gridwidth": 2,
            "linecolor": "white",
            "showbackground": true,
            "ticks": "",
            "zerolinecolor": "white"
           }
          },
          "shapedefaults": {
           "line": {
            "color": "#2a3f5f"
           }
          },
          "ternary": {
           "aaxis": {
            "gridcolor": "white",
            "linecolor": "white",
            "ticks": ""
           },
           "baxis": {
            "gridcolor": "white",
            "linecolor": "white",
            "ticks": ""
           },
           "bgcolor": "#E5ECF6",
           "caxis": {
            "gridcolor": "white",
            "linecolor": "white",
            "ticks": ""
           }
          },
          "title": {
           "x": 0.05
          },
          "xaxis": {
           "automargin": true,
           "gridcolor": "white",
           "linecolor": "white",
           "ticks": "",
           "title": {
            "standoff": 15
           },
           "zerolinecolor": "white",
           "zerolinewidth": 2
          },
          "yaxis": {
           "automargin": true,
           "gridcolor": "white",
           "linecolor": "white",
           "ticks": "",
           "title": {
            "standoff": 15
           },
           "zerolinecolor": "white",
           "zerolinewidth": 2
          }
         }
        },
        "width": 1000,
        "xaxis": {
         "anchor": "y",
         "domain": [
          0,
          1
         ],
         "title": {
          "text": "Mouseid Tissue"
         }
        },
        "yaxis": {
         "anchor": "x",
         "domain": [
          0,
          1
         ],
         "title": {
          "text": "Relative Percent"
         }
        }
       }
      }
     },
     "metadata": {},
     "output_type": "display_data"
    }
   ],
   "source": [
    "plt.categorical_plot(cgp, x=[\"MouseID\", \"Tissue\"], y=\"relative_percent\", node_terms=\"CD45.1+ CD4+\")"
   ]
  },
  {
   "cell_type": "code",
   "execution_count": 6,
   "id": "da489ce3",
   "metadata": {},
   "outputs": [],
   "source": [
    "directories = [r\"C:\\Users\\brend\\Downloads\\2025-06-20 Skin Tx Characterization\\Unmixed\\Control\",\n",
    "               r\"C:\\Users\\brend\\Downloads\\2025-06-20 Skin Tx Characterization\\Unmixed\\Experimental\"]\n",
    "sample_paths = [directories[0] + r\"\\1 Spl.fcs\", directories[0] + r\"\\1 LN.fcs\", directories[0] + r\"\\2 Spl.fcs\", directories[0] + r\"\\2 LN.fcs\", directories[0] + r\"\\3 Spl.fcs\", directories[0] + r\"\\3 LN.fcs\",\n",
    "                directories[1] + r\"\\1 Spl.fcs\", directories[1] + r\"\\1 LN.fcs\", directories[1] + r\"\\2 Spl.fcs\", directories[1] + r\"\\2 LN.fcs\", directories[1] + r\"\\3 Spl.fcs\", directories[1] + r\"\\3 LN.fcs\"]"
   ]
  },
  {
   "cell_type": "code",
   "execution_count": 60,
   "id": "9981af69",
   "metadata": {},
   "outputs": [],
   "source": [
    "ws = fk.Workspace(r\"C:\\Users\\brend\\Downloads\\2025-06-20 Skin Tx Characterization\\23-Jun-2025.wsp\", fcs_samples=sample_paths)"
   ]
  },
  {
   "cell_type": "code",
   "execution_count": 63,
   "id": "6ece3d15",
   "metadata": {},
   "outputs": [],
   "source": [
    "sample = ws.get_samples()[0]"
   ]
  },
  {
   "cell_type": "code",
   "execution_count": 64,
   "id": "33690f2f",
   "metadata": {},
   "outputs": [
    {
     "data": {
      "text/plain": [
       "Sample(v3.1, 1 LN.fcs, 14 channels, 36344 events)"
      ]
     },
     "execution_count": 64,
     "metadata": {},
     "output_type": "execute_result"
    }
   ],
   "source": [
    "sample"
   ]
  },
  {
   "cell_type": "code",
   "execution_count": 36,
   "id": "3ed201e9",
   "metadata": {},
   "outputs": [
    {
     "data": {
      "text/html": [
       "<div>\n",
       "<style scoped>\n",
       "    .dataframe tbody tr th:only-of-type {\n",
       "        vertical-align: middle;\n",
       "    }\n",
       "\n",
       "    .dataframe tbody tr th {\n",
       "        vertical-align: top;\n",
       "    }\n",
       "\n",
       "    .dataframe thead th {\n",
       "        text-align: right;\n",
       "    }\n",
       "</style>\n",
       "<table border=\"1\" class=\"dataframe\">\n",
       "  <thead>\n",
       "    <tr style=\"text-align: right;\">\n",
       "      <th></th>\n",
       "      <th>samples</th>\n",
       "      <th>loaded_samples</th>\n",
       "      <th>gates</th>\n",
       "      <th>max_gate_depth</th>\n",
       "    </tr>\n",
       "    <tr>\n",
       "      <th>group_name</th>\n",
       "      <th></th>\n",
       "      <th></th>\n",
       "      <th></th>\n",
       "      <th></th>\n",
       "    </tr>\n",
       "  </thead>\n",
       "  <tbody>\n",
       "    <tr>\n",
       "      <th>All Samples</th>\n",
       "      <td>12</td>\n",
       "      <td>12</td>\n",
       "      <td>18</td>\n",
       "      <td>6</td>\n",
       "    </tr>\n",
       "    <tr>\n",
       "      <th>Control</th>\n",
       "      <td>6</td>\n",
       "      <td>6</td>\n",
       "      <td>18</td>\n",
       "      <td>6</td>\n",
       "    </tr>\n",
       "    <tr>\n",
       "      <th>Experimental</th>\n",
       "      <td>6</td>\n",
       "      <td>6</td>\n",
       "      <td>18</td>\n",
       "      <td>6</td>\n",
       "    </tr>\n",
       "    <tr>\n",
       "      <th>LN</th>\n",
       "      <td>6</td>\n",
       "      <td>6</td>\n",
       "      <td>18</td>\n",
       "      <td>6</td>\n",
       "    </tr>\n",
       "    <tr>\n",
       "      <th>Spleen</th>\n",
       "      <td>6</td>\n",
       "      <td>6</td>\n",
       "      <td>18</td>\n",
       "      <td>6</td>\n",
       "    </tr>\n",
       "  </tbody>\n",
       "</table>\n",
       "</div>"
      ],
      "text/plain": [
       "              samples  loaded_samples  gates  max_gate_depth\n",
       "group_name                                                  \n",
       "All Samples        12              12     18               6\n",
       "Control             6               6     18               6\n",
       "Experimental        6               6     18               6\n",
       "LN                  6               6     18               6\n",
       "Spleen              6               6     18               6"
      ]
     },
     "execution_count": 36,
     "metadata": {},
     "output_type": "execute_result"
    }
   ],
   "source": [
    "ws.summary()"
   ]
  },
  {
   "cell_type": "code",
   "execution_count": null,
   "id": "ea0ff981",
   "metadata": {},
   "outputs": [],
   "source": [
    "ws.get_gate_hierarchy(\"1 LN.fcs\")"
   ]
  },
  {
   "cell_type": "code",
   "execution_count": 76,
   "id": "e1923b8d",
   "metadata": {},
   "outputs": [],
   "source": [
    "ws.analyze_samples(group_name=\"Control\", sample_id=\"2 LN.fcs\")"
   ]
  },
  {
   "cell_type": "code",
   "execution_count": null,
   "id": "ec201035",
   "metadata": {},
   "outputs": [
    {
     "data": {
      "text/plain": [
       "<flowkit._models.gating_results.GatingResults at 0x296de8139b0>"
      ]
     },
     "execution_count": 78,
     "metadata": {},
     "output_type": "execute_result"
    }
   ],
   "source": [
    "ws.get_gating_results(\"2 LN.fcs\")"
   ]
  },
  {
   "cell_type": "code",
   "execution_count": 82,
   "id": "9368a29d",
   "metadata": {},
   "outputs": [],
   "source": [
    "result['full_path'] = result.apply(\n",
    "    lambda row: \"/\".join(row['gate_path'] + (row['gate_name'],)),\n",
    "    axis=1\n",
    ")"
   ]
  },
  {
   "cell_type": "code",
   "execution_count": 83,
   "id": "d79c3014",
   "metadata": {},
   "outputs": [
    {
     "data": {
      "text/html": [
       "<div>\n",
       "<style scoped>\n",
       "    .dataframe tbody tr th:only-of-type {\n",
       "        vertical-align: middle;\n",
       "    }\n",
       "\n",
       "    .dataframe tbody tr th {\n",
       "        vertical-align: top;\n",
       "    }\n",
       "\n",
       "    .dataframe thead th {\n",
       "        text-align: right;\n",
       "    }\n",
       "</style>\n",
       "<table border=\"1\" class=\"dataframe\">\n",
       "  <thead>\n",
       "    <tr style=\"text-align: right;\">\n",
       "      <th></th>\n",
       "      <th>sample</th>\n",
       "      <th>gate_path</th>\n",
       "      <th>gate_name</th>\n",
       "      <th>gate_type</th>\n",
       "      <th>quadrant_parent</th>\n",
       "      <th>parent</th>\n",
       "      <th>count</th>\n",
       "      <th>absolute_percent</th>\n",
       "      <th>relative_percent</th>\n",
       "      <th>level</th>\n",
       "      <th>full_path</th>\n",
       "    </tr>\n",
       "  </thead>\n",
       "  <tbody>\n",
       "    <tr>\n",
       "      <th>0</th>\n",
       "      <td>2 LN.fcs</td>\n",
       "      <td>(root,)</td>\n",
       "      <td>Cells</td>\n",
       "      <td>PolygonGate</td>\n",
       "      <td>None</td>\n",
       "      <td>root</td>\n",
       "      <td>89741</td>\n",
       "      <td>97.612470</td>\n",
       "      <td>97.612470</td>\n",
       "      <td>0</td>\n",
       "      <td>root/Cells</td>\n",
       "    </tr>\n",
       "    <tr>\n",
       "      <th>1</th>\n",
       "      <td>2 LN.fcs</td>\n",
       "      <td>(root, Cells)</td>\n",
       "      <td>Singlets</td>\n",
       "      <td>PolygonGate</td>\n",
       "      <td>None</td>\n",
       "      <td>Cells</td>\n",
       "      <td>86038</td>\n",
       "      <td>93.584668</td>\n",
       "      <td>95.873681</td>\n",
       "      <td>1</td>\n",
       "      <td>root/Cells/Singlets</td>\n",
       "    </tr>\n",
       "    <tr>\n",
       "      <th>2</th>\n",
       "      <td>2 LN.fcs</td>\n",
       "      <td>(root, Cells, Singlets)</td>\n",
       "      <td>CD45.1+ CD4+</td>\n",
       "      <td>PolygonGate</td>\n",
       "      <td>None</td>\n",
       "      <td>Singlets</td>\n",
       "      <td>578</td>\n",
       "      <td>0.628698</td>\n",
       "      <td>0.671796</td>\n",
       "      <td>2</td>\n",
       "      <td>root/Cells/Singlets/CD45.1+ CD4+</td>\n",
       "    </tr>\n",
       "    <tr>\n",
       "      <th>3</th>\n",
       "      <td>2 LN.fcs</td>\n",
       "      <td>(root, Cells, Singlets)</td>\n",
       "      <td>CD45.1- CD4+</td>\n",
       "      <td>PolygonGate</td>\n",
       "      <td>None</td>\n",
       "      <td>Singlets</td>\n",
       "      <td>68487</td>\n",
       "      <td>74.494213</td>\n",
       "      <td>79.600874</td>\n",
       "      <td>2</td>\n",
       "      <td>root/Cells/Singlets/CD45.1- CD4+</td>\n",
       "    </tr>\n",
       "    <tr>\n",
       "      <th>4</th>\n",
       "      <td>2 LN.fcs</td>\n",
       "      <td>(root, Cells, Singlets, CD45.1+ CD4+)</td>\n",
       "      <td>CD4+ CD3+</td>\n",
       "      <td>PolygonGate</td>\n",
       "      <td>None</td>\n",
       "      <td>CD45.1+ CD4+</td>\n",
       "      <td>514</td>\n",
       "      <td>0.559085</td>\n",
       "      <td>88.927336</td>\n",
       "      <td>3</td>\n",
       "      <td>root/Cells/Singlets/CD45.1+ CD4+/CD4+ CD3+</td>\n",
       "    </tr>\n",
       "    <tr>\n",
       "      <th>5</th>\n",
       "      <td>2 LN.fcs</td>\n",
       "      <td>(root, Cells, Singlets, CD45.1- CD4+)</td>\n",
       "      <td>CD4+ CD3+</td>\n",
       "      <td>PolygonGate</td>\n",
       "      <td>None</td>\n",
       "      <td>CD45.1- CD4+</td>\n",
       "      <td>68467</td>\n",
       "      <td>74.472459</td>\n",
       "      <td>99.970797</td>\n",
       "      <td>3</td>\n",
       "      <td>root/Cells/Singlets/CD45.1- CD4+/CD4+ CD3+</td>\n",
       "    </tr>\n",
       "    <tr>\n",
       "      <th>6</th>\n",
       "      <td>2 LN.fcs</td>\n",
       "      <td>(root, Cells, Singlets, CD45.1+ CD4+, CD4+ CD3+)</td>\n",
       "      <td>Naive</td>\n",
       "      <td>PolygonGate</td>\n",
       "      <td>None</td>\n",
       "      <td>CD4+ CD3+</td>\n",
       "      <td>182</td>\n",
       "      <td>0.197964</td>\n",
       "      <td>35.408560</td>\n",
       "      <td>4</td>\n",
       "      <td>root/Cells/Singlets/CD45.1+ CD4+/CD4+ CD3+/Naive</td>\n",
       "    </tr>\n",
       "    <tr>\n",
       "      <th>7</th>\n",
       "      <td>2 LN.fcs</td>\n",
       "      <td>(root, Cells, Singlets, CD45.1- CD4+, CD4+ CD3+)</td>\n",
       "      <td>Naive</td>\n",
       "      <td>PolygonGate</td>\n",
       "      <td>None</td>\n",
       "      <td>CD4+ CD3+</td>\n",
       "      <td>44800</td>\n",
       "      <td>48.729551</td>\n",
       "      <td>65.432982</td>\n",
       "      <td>4</td>\n",
       "      <td>root/Cells/Singlets/CD45.1- CD4+/CD4+ CD3+/Naive</td>\n",
       "    </tr>\n",
       "    <tr>\n",
       "      <th>8</th>\n",
       "      <td>2 LN.fcs</td>\n",
       "      <td>(root, Cells, Singlets, CD45.1+ CD4+, CD4+ CD3+)</td>\n",
       "      <td>Tmem</td>\n",
       "      <td>PolygonGate</td>\n",
       "      <td>None</td>\n",
       "      <td>CD4+ CD3+</td>\n",
       "      <td>46</td>\n",
       "      <td>0.050035</td>\n",
       "      <td>8.949416</td>\n",
       "      <td>4</td>\n",
       "      <td>root/Cells/Singlets/CD45.1+ CD4+/CD4+ CD3+/Tmem</td>\n",
       "    </tr>\n",
       "    <tr>\n",
       "      <th>9</th>\n",
       "      <td>2 LN.fcs</td>\n",
       "      <td>(root, Cells, Singlets, CD45.1- CD4+, CD4+ CD3+)</td>\n",
       "      <td>Tmem</td>\n",
       "      <td>PolygonGate</td>\n",
       "      <td>None</td>\n",
       "      <td>CD4+ CD3+</td>\n",
       "      <td>2963</td>\n",
       "      <td>3.222894</td>\n",
       "      <td>4.327632</td>\n",
       "      <td>4</td>\n",
       "      <td>root/Cells/Singlets/CD45.1- CD4+/CD4+ CD3+/Tmem</td>\n",
       "    </tr>\n",
       "    <tr>\n",
       "      <th>10</th>\n",
       "      <td>2 LN.fcs</td>\n",
       "      <td>(root, Cells, Singlets, CD45.1+ CD4+, CD4+ CD3+)</td>\n",
       "      <td>Treg</td>\n",
       "      <td>PolygonGate</td>\n",
       "      <td>None</td>\n",
       "      <td>CD4+ CD3+</td>\n",
       "      <td>24</td>\n",
       "      <td>0.026105</td>\n",
       "      <td>4.669261</td>\n",
       "      <td>4</td>\n",
       "      <td>root/Cells/Singlets/CD45.1+ CD4+/CD4+ CD3+/Treg</td>\n",
       "    </tr>\n",
       "    <tr>\n",
       "      <th>11</th>\n",
       "      <td>2 LN.fcs</td>\n",
       "      <td>(root, Cells, Singlets, CD45.1- CD4+, CD4+ CD3+)</td>\n",
       "      <td>Treg</td>\n",
       "      <td>PolygonGate</td>\n",
       "      <td>None</td>\n",
       "      <td>CD4+ CD3+</td>\n",
       "      <td>5368</td>\n",
       "      <td>5.838844</td>\n",
       "      <td>7.840273</td>\n",
       "      <td>4</td>\n",
       "      <td>root/Cells/Singlets/CD45.1- CD4+/CD4+ CD3+/Treg</td>\n",
       "    </tr>\n",
       "    <tr>\n",
       "      <th>12</th>\n",
       "      <td>2 LN.fcs</td>\n",
       "      <td>(root, Cells, Singlets, CD45.1+ CD4+, CD4+ CD3...</td>\n",
       "      <td>Anergic</td>\n",
       "      <td>PolygonGate</td>\n",
       "      <td>None</td>\n",
       "      <td>Naive</td>\n",
       "      <td>0</td>\n",
       "      <td>0.000000</td>\n",
       "      <td>0.000000</td>\n",
       "      <td>5</td>\n",
       "      <td>root/Cells/Singlets/CD45.1+ CD4+/CD4+ CD3+/Nai...</td>\n",
       "    </tr>\n",
       "    <tr>\n",
       "      <th>13</th>\n",
       "      <td>2 LN.fcs</td>\n",
       "      <td>(root, Cells, Singlets, CD45.1+ CD4+, CD4+ CD3...</td>\n",
       "      <td>Anergic</td>\n",
       "      <td>PolygonGate</td>\n",
       "      <td>None</td>\n",
       "      <td>Tmem</td>\n",
       "      <td>2</td>\n",
       "      <td>0.002175</td>\n",
       "      <td>4.347826</td>\n",
       "      <td>5</td>\n",
       "      <td>root/Cells/Singlets/CD45.1+ CD4+/CD4+ CD3+/Tme...</td>\n",
       "    </tr>\n",
       "    <tr>\n",
       "      <th>14</th>\n",
       "      <td>2 LN.fcs</td>\n",
       "      <td>(root, Cells, Singlets, CD45.1+ CD4+, CD4+ CD3...</td>\n",
       "      <td>Anergic</td>\n",
       "      <td>PolygonGate</td>\n",
       "      <td>None</td>\n",
       "      <td>Treg</td>\n",
       "      <td>18</td>\n",
       "      <td>0.019579</td>\n",
       "      <td>75.000000</td>\n",
       "      <td>5</td>\n",
       "      <td>root/Cells/Singlets/CD45.1+ CD4+/CD4+ CD3+/Tre...</td>\n",
       "    </tr>\n",
       "    <tr>\n",
       "      <th>15</th>\n",
       "      <td>2 LN.fcs</td>\n",
       "      <td>(root, Cells, Singlets, CD45.1- CD4+, CD4+ CD3...</td>\n",
       "      <td>Anergic</td>\n",
       "      <td>PolygonGate</td>\n",
       "      <td>None</td>\n",
       "      <td>Naive</td>\n",
       "      <td>54</td>\n",
       "      <td>0.058737</td>\n",
       "      <td>0.120536</td>\n",
       "      <td>5</td>\n",
       "      <td>root/Cells/Singlets/CD45.1- CD4+/CD4+ CD3+/Nai...</td>\n",
       "    </tr>\n",
       "    <tr>\n",
       "      <th>16</th>\n",
       "      <td>2 LN.fcs</td>\n",
       "      <td>(root, Cells, Singlets, CD45.1- CD4+, CD4+ CD3...</td>\n",
       "      <td>Anergic</td>\n",
       "      <td>PolygonGate</td>\n",
       "      <td>None</td>\n",
       "      <td>Tmem</td>\n",
       "      <td>269</td>\n",
       "      <td>0.292595</td>\n",
       "      <td>9.078637</td>\n",
       "      <td>5</td>\n",
       "      <td>root/Cells/Singlets/CD45.1- CD4+/CD4+ CD3+/Tme...</td>\n",
       "    </tr>\n",
       "    <tr>\n",
       "      <th>17</th>\n",
       "      <td>2 LN.fcs</td>\n",
       "      <td>(root, Cells, Singlets, CD45.1- CD4+, CD4+ CD3...</td>\n",
       "      <td>Anergic</td>\n",
       "      <td>PolygonGate</td>\n",
       "      <td>None</td>\n",
       "      <td>Treg</td>\n",
       "      <td>2653</td>\n",
       "      <td>2.885703</td>\n",
       "      <td>49.422504</td>\n",
       "      <td>5</td>\n",
       "      <td>root/Cells/Singlets/CD45.1- CD4+/CD4+ CD3+/Tre...</td>\n",
       "    </tr>\n",
       "  </tbody>\n",
       "</table>\n",
       "</div>"
      ],
      "text/plain": [
       "      sample                                          gate_path     gate_name  \\\n",
       "0   2 LN.fcs                                            (root,)         Cells   \n",
       "1   2 LN.fcs                                      (root, Cells)      Singlets   \n",
       "2   2 LN.fcs                            (root, Cells, Singlets)  CD45.1+ CD4+   \n",
       "3   2 LN.fcs                            (root, Cells, Singlets)  CD45.1- CD4+   \n",
       "4   2 LN.fcs              (root, Cells, Singlets, CD45.1+ CD4+)     CD4+ CD3+   \n",
       "5   2 LN.fcs              (root, Cells, Singlets, CD45.1- CD4+)     CD4+ CD3+   \n",
       "6   2 LN.fcs   (root, Cells, Singlets, CD45.1+ CD4+, CD4+ CD3+)         Naive   \n",
       "7   2 LN.fcs   (root, Cells, Singlets, CD45.1- CD4+, CD4+ CD3+)         Naive   \n",
       "8   2 LN.fcs   (root, Cells, Singlets, CD45.1+ CD4+, CD4+ CD3+)          Tmem   \n",
       "9   2 LN.fcs   (root, Cells, Singlets, CD45.1- CD4+, CD4+ CD3+)          Tmem   \n",
       "10  2 LN.fcs   (root, Cells, Singlets, CD45.1+ CD4+, CD4+ CD3+)          Treg   \n",
       "11  2 LN.fcs   (root, Cells, Singlets, CD45.1- CD4+, CD4+ CD3+)          Treg   \n",
       "12  2 LN.fcs  (root, Cells, Singlets, CD45.1+ CD4+, CD4+ CD3...       Anergic   \n",
       "13  2 LN.fcs  (root, Cells, Singlets, CD45.1+ CD4+, CD4+ CD3...       Anergic   \n",
       "14  2 LN.fcs  (root, Cells, Singlets, CD45.1+ CD4+, CD4+ CD3...       Anergic   \n",
       "15  2 LN.fcs  (root, Cells, Singlets, CD45.1- CD4+, CD4+ CD3...       Anergic   \n",
       "16  2 LN.fcs  (root, Cells, Singlets, CD45.1- CD4+, CD4+ CD3...       Anergic   \n",
       "17  2 LN.fcs  (root, Cells, Singlets, CD45.1- CD4+, CD4+ CD3...       Anergic   \n",
       "\n",
       "      gate_type quadrant_parent        parent  count  absolute_percent  \\\n",
       "0   PolygonGate            None          root  89741         97.612470   \n",
       "1   PolygonGate            None         Cells  86038         93.584668   \n",
       "2   PolygonGate            None      Singlets    578          0.628698   \n",
       "3   PolygonGate            None      Singlets  68487         74.494213   \n",
       "4   PolygonGate            None  CD45.1+ CD4+    514          0.559085   \n",
       "5   PolygonGate            None  CD45.1- CD4+  68467         74.472459   \n",
       "6   PolygonGate            None     CD4+ CD3+    182          0.197964   \n",
       "7   PolygonGate            None     CD4+ CD3+  44800         48.729551   \n",
       "8   PolygonGate            None     CD4+ CD3+     46          0.050035   \n",
       "9   PolygonGate            None     CD4+ CD3+   2963          3.222894   \n",
       "10  PolygonGate            None     CD4+ CD3+     24          0.026105   \n",
       "11  PolygonGate            None     CD4+ CD3+   5368          5.838844   \n",
       "12  PolygonGate            None         Naive      0          0.000000   \n",
       "13  PolygonGate            None          Tmem      2          0.002175   \n",
       "14  PolygonGate            None          Treg     18          0.019579   \n",
       "15  PolygonGate            None         Naive     54          0.058737   \n",
       "16  PolygonGate            None          Tmem    269          0.292595   \n",
       "17  PolygonGate            None          Treg   2653          2.885703   \n",
       "\n",
       "    relative_percent  level                                          full_path  \n",
       "0          97.612470      0                                         root/Cells  \n",
       "1          95.873681      1                                root/Cells/Singlets  \n",
       "2           0.671796      2                   root/Cells/Singlets/CD45.1+ CD4+  \n",
       "3          79.600874      2                   root/Cells/Singlets/CD45.1- CD4+  \n",
       "4          88.927336      3         root/Cells/Singlets/CD45.1+ CD4+/CD4+ CD3+  \n",
       "5          99.970797      3         root/Cells/Singlets/CD45.1- CD4+/CD4+ CD3+  \n",
       "6          35.408560      4   root/Cells/Singlets/CD45.1+ CD4+/CD4+ CD3+/Naive  \n",
       "7          65.432982      4   root/Cells/Singlets/CD45.1- CD4+/CD4+ CD3+/Naive  \n",
       "8           8.949416      4    root/Cells/Singlets/CD45.1+ CD4+/CD4+ CD3+/Tmem  \n",
       "9           4.327632      4    root/Cells/Singlets/CD45.1- CD4+/CD4+ CD3+/Tmem  \n",
       "10          4.669261      4    root/Cells/Singlets/CD45.1+ CD4+/CD4+ CD3+/Treg  \n",
       "11          7.840273      4    root/Cells/Singlets/CD45.1- CD4+/CD4+ CD3+/Treg  \n",
       "12          0.000000      5  root/Cells/Singlets/CD45.1+ CD4+/CD4+ CD3+/Nai...  \n",
       "13          4.347826      5  root/Cells/Singlets/CD45.1+ CD4+/CD4+ CD3+/Tme...  \n",
       "14         75.000000      5  root/Cells/Singlets/CD45.1+ CD4+/CD4+ CD3+/Tre...  \n",
       "15          0.120536      5  root/Cells/Singlets/CD45.1- CD4+/CD4+ CD3+/Nai...  \n",
       "16          9.078637      5  root/Cells/Singlets/CD45.1- CD4+/CD4+ CD3+/Tme...  \n",
       "17         49.422504      5  root/Cells/Singlets/CD45.1- CD4+/CD4+ CD3+/Tre...  "
      ]
     },
     "execution_count": 83,
     "metadata": {},
     "output_type": "execute_result"
    }
   ],
   "source": [
    "result"
   ]
  },
  {
   "cell_type": "code",
   "execution_count": 79,
   "id": "a844c657",
   "metadata": {},
   "outputs": [],
   "source": [
    "result = ws.get_analysis_report()"
   ]
  },
  {
   "cell_type": "code",
   "execution_count": 86,
   "id": "053cdaca",
   "metadata": {},
   "outputs": [],
   "source": [
    "summary = result.pivot(index = \"sample\", columns=\"full_path\", values=[\"count\", \"absolute_percent\", \"relative_percent\"])\n",
    "\n",
    "summary.columns = [f\"{col[1]} | {col[0]}\" for col in summary.columns]\n",
    "\n",
    "# Optional: reset index if you want 'sample' as a column\n",
    "summary = summary.reset_index()"
   ]
  },
  {
   "cell_type": "code",
   "execution_count": 93,
   "id": "951f83e2",
   "metadata": {},
   "outputs": [],
   "source": [
    "import polars as pl"
   ]
  },
  {
   "cell_type": "code",
   "execution_count": 97,
   "id": "4e0bc3eb",
   "metadata": {},
   "outputs": [],
   "source": [
    "summary = pl.DataFrame(summary)"
   ]
  },
  {
   "cell_type": "code",
   "execution_count": 101,
   "id": "a3f6d2aa",
   "metadata": {},
   "outputs": [],
   "source": [
    "metadata = pl.DataFrame([ws.get_keywords(sample.id) for sample in ws.get_samples()])"
   ]
  },
  {
   "cell_type": "code",
   "execution_count": 102,
   "id": "bcbf8d9a",
   "metadata": {},
   "outputs": [
    {
     "data": {
      "text/html": [
       "<div><style>\n",
       ".dataframe > thead > tr,\n",
       ".dataframe > tbody > tr {\n",
       "  text-align: right;\n",
       "  white-space: pre-wrap;\n",
       "}\n",
       "</style>\n",
       "<small>shape: (1, 246)</small><table border=\"1\" class=\"dataframe\"><thead><tr><th>sample</th><th>root/Cells | count</th><th>root/Cells/Singlets | count</th><th>root/Cells/Singlets/CD45.1+ CD4+ | count</th><th>root/Cells/Singlets/CD45.1+ CD4+/CD4+ CD3+ | count</th><th>root/Cells/Singlets/CD45.1+ CD4+/CD4+ CD3+/Naive | count</th><th>root/Cells/Singlets/CD45.1+ CD4+/CD4+ CD3+/Naive/Anergic | count</th><th>root/Cells/Singlets/CD45.1+ CD4+/CD4+ CD3+/Tmem | count</th><th>root/Cells/Singlets/CD45.1+ CD4+/CD4+ CD3+/Tmem/Anergic | count</th><th>root/Cells/Singlets/CD45.1+ CD4+/CD4+ CD3+/Treg | count</th><th>root/Cells/Singlets/CD45.1+ CD4+/CD4+ CD3+/Treg/Anergic | count</th><th>root/Cells/Singlets/CD45.1- CD4+ | count</th><th>root/Cells/Singlets/CD45.1- CD4+/CD4+ CD3+ | count</th><th>root/Cells/Singlets/CD45.1- CD4+/CD4+ CD3+/Naive | count</th><th>root/Cells/Singlets/CD45.1- CD4+/CD4+ CD3+/Naive/Anergic | count</th><th>root/Cells/Singlets/CD45.1- CD4+/CD4+ CD3+/Tmem | count</th><th>root/Cells/Singlets/CD45.1- CD4+/CD4+ CD3+/Tmem/Anergic | count</th><th>root/Cells/Singlets/CD45.1- CD4+/CD4+ CD3+/Treg | count</th><th>root/Cells/Singlets/CD45.1- CD4+/CD4+ CD3+/Treg/Anergic | count</th><th>root/Cells | absolute_percent</th><th>root/Cells/Singlets | absolute_percent</th><th>root/Cells/Singlets/CD45.1+ CD4+ | absolute_percent</th><th>root/Cells/Singlets/CD45.1+ CD4+/CD4+ CD3+ | absolute_percent</th><th>root/Cells/Singlets/CD45.1+ CD4+/CD4+ CD3+/Naive | absolute_percent</th><th>root/Cells/Singlets/CD45.1+ CD4+/CD4+ CD3+/Naive/Anergic | absolute_percent</th><th>root/Cells/Singlets/CD45.1+ CD4+/CD4+ CD3+/Tmem | absolute_percent</th><th>root/Cells/Singlets/CD45.1+ CD4+/CD4+ CD3+/Tmem/Anergic | absolute_percent</th><th>root/Cells/Singlets/CD45.1+ CD4+/CD4+ CD3+/Treg | absolute_percent</th><th>root/Cells/Singlets/CD45.1+ CD4+/CD4+ CD3+/Treg/Anergic | absolute_percent</th><th>root/Cells/Singlets/CD45.1- CD4+ | absolute_percent</th><th>root/Cells/Singlets/CD45.1- CD4+/CD4+ CD3+ | absolute_percent</th><th>root/Cells/Singlets/CD45.1- CD4+/CD4+ CD3+/Naive | absolute_percent</th><th>root/Cells/Singlets/CD45.1- CD4+/CD4+ CD3+/Naive/Anergic | absolute_percent</th><th>root/Cells/Singlets/CD45.1- CD4+/CD4+ CD3+/Tmem | absolute_percent</th><th>root/Cells/Singlets/CD45.1- CD4+/CD4+ CD3+/Tmem/Anergic | absolute_percent</th><th>root/Cells/Singlets/CD45.1- CD4+/CD4+ CD3+/Treg | absolute_percent</th><th>root/Cells/Singlets/CD45.1- CD4+/CD4+ CD3+/Treg/Anergic | absolute_percent</th><th>&hellip;</th><th>$P2S</th><th>$P3S</th><th>$P4S</th><th>$P5S</th><th>$P6S</th><th>$P7S</th><th>FILENAME</th><th>$P15N</th><th>$P15S</th><th>$P15R</th><th>$P16N</th><th>$P16S</th><th>$P16R</th><th>$P17N</th><th>$P17S</th><th>$P17R</th><th>$P18N</th><th>$P18S</th><th>$P18R</th><th>$P19N</th><th>$P19S</th><th>$P19R</th><th>$P20N</th><th>$P20S</th><th>$P20R</th><th>$P21N</th><th>$P21S</th><th>$P21R</th><th>Char. Date</th><th>MouseID</th><th>Sex</th><th>DoB</th><th>CageID</th><th>Group</th><th>Tissue</th><th>Transplant Date</th><th>Transplant Donor Strain</th></tr><tr><td>str</td><td>f64</td><td>f64</td><td>f64</td><td>f64</td><td>f64</td><td>f64</td><td>f64</td><td>f64</td><td>f64</td><td>f64</td><td>f64</td><td>f64</td><td>f64</td><td>f64</td><td>f64</td><td>f64</td><td>f64</td><td>f64</td><td>f64</td><td>f64</td><td>f64</td><td>f64</td><td>f64</td><td>f64</td><td>f64</td><td>f64</td><td>f64</td><td>f64</td><td>f64</td><td>f64</td><td>f64</td><td>f64</td><td>f64</td><td>f64</td><td>f64</td><td>f64</td><td>&hellip;</td><td>str</td><td>str</td><td>str</td><td>str</td><td>str</td><td>str</td><td>str</td><td>str</td><td>str</td><td>str</td><td>str</td><td>str</td><td>str</td><td>str</td><td>str</td><td>str</td><td>str</td><td>str</td><td>str</td><td>str</td><td>str</td><td>str</td><td>str</td><td>str</td><td>str</td><td>str</td><td>str</td><td>str</td><td>str</td><td>str</td><td>str</td><td>str</td><td>str</td><td>str</td><td>str</td><td>str</td><td>str</td></tr></thead><tbody><tr><td>&quot;2 LN.fcs&quot;</td><td>89741.0</td><td>86038.0</td><td>578.0</td><td>514.0</td><td>182.0</td><td>0.0</td><td>46.0</td><td>2.0</td><td>24.0</td><td>18.0</td><td>68487.0</td><td>68467.0</td><td>44800.0</td><td>54.0</td><td>2963.0</td><td>269.0</td><td>5368.0</td><td>2653.0</td><td>97.61247</td><td>93.584668</td><td>0.628698</td><td>0.559085</td><td>0.197964</td><td>0.0</td><td>0.050035</td><td>0.002175</td><td>0.026105</td><td>0.019579</td><td>74.494213</td><td>74.472459</td><td>48.729551</td><td>0.058737</td><td>3.222894</td><td>0.292595</td><td>5.838844</td><td>2.885703</td><td>&hellip;</td><td>&quot;&quot;</td><td>&quot;&quot;</td><td>&quot;&quot;</td><td>&quot;&quot;</td><td>&quot;&quot;</td><td>&quot;&quot;</td><td>&quot;&quot;</td><td>&quot;Comp-eFluor 450-A&quot;</td><td>&quot;FoxP3&quot;</td><td>&quot;4194304&quot;</td><td>&quot;Comp-BUV 805-A&quot;</td><td>&quot;CD44&quot;</td><td>&quot;4194304&quot;</td><td>&quot;Comp-Alexa Fluor 488-A&quot;</td><td>&quot;CD4&quot;</td><td>&quot;4194304&quot;</td><td>&quot;Comp-PE-A&quot;</td><td>&quot;CD73&quot;</td><td>&quot;4194304&quot;</td><td>&quot;Comp-PE-Cy7-A&quot;</td><td>&quot;CD45.1&quot;</td><td>&quot;4194304&quot;</td><td>&quot;Comp-APC-A&quot;</td><td>&quot;FR4&quot;</td><td>&quot;4194304&quot;</td><td>&quot;Comp-APC-eFluor 780-A&quot;</td><td>&quot;CD3&quot;</td><td>&quot;4194304&quot;</td><td>&quot;2025-06-20&quot;</td><td>&quot;2&quot;</td><td>&quot;Male&quot;</td><td>&quot;2025-03-19&quot;</td><td>&quot;04024&quot;</td><td>&quot;Control&quot;</td><td>&quot;LN&quot;</td><td>&quot;2025-05-30&quot;</td><td>&quot;Balb/c&quot;</td></tr></tbody></table></div>"
      ],
      "text/plain": [
       "shape: (1, 246)\n",
       "┌──────────┬────────────┬────────────┬────────────┬───┬─────────┬────────┬────────────┬────────────┐\n",
       "│ sample   ┆ root/Cells ┆ root/Cells ┆ root/Cells ┆ … ┆ Group   ┆ Tissue ┆ Transplant ┆ Transplant │\n",
       "│ ---      ┆ | count    ┆ /Singlets  ┆ /Singlets/ ┆   ┆ ---     ┆ ---    ┆ Date       ┆ Donor      │\n",
       "│ str      ┆ ---        ┆ | count    ┆ CD45.1+    ┆   ┆ str     ┆ str    ┆ ---        ┆ Strain     │\n",
       "│          ┆ f64        ┆ ---        ┆ CD…        ┆   ┆         ┆        ┆ str        ┆ ---        │\n",
       "│          ┆            ┆ f64        ┆ ---        ┆   ┆         ┆        ┆            ┆ str        │\n",
       "│          ┆            ┆            ┆ f64        ┆   ┆         ┆        ┆            ┆            │\n",
       "╞══════════╪════════════╪════════════╪════════════╪═══╪═════════╪════════╪════════════╪════════════╡\n",
       "│ 2 LN.fcs ┆ 89741.0    ┆ 86038.0    ┆ 578.0      ┆ … ┆ Control ┆ LN     ┆ 2025-05-30 ┆ Balb/c     │\n",
       "└──────────┴────────────┴────────────┴────────────┴───┴─────────┴────────┴────────────┴────────────┘"
      ]
     },
     "execution_count": 102,
     "metadata": {},
     "output_type": "execute_result"
    }
   ],
   "source": [
    "summary.join(metadata, left_on=\"sample\", right_on = \"$FIL\")"
   ]
  },
  {
   "cell_type": "code",
   "execution_count": 88,
   "id": "e808d388",
   "metadata": {},
   "outputs": [
    {
     "ename": "TypeError",
     "evalue": "Workspace.get_keywords() missing 1 required positional argument: 'sample_id'",
     "output_type": "error",
     "traceback": [
      "\u001b[31m---------------------------------------------------------------------------\u001b[39m",
      "\u001b[31mTypeError\u001b[39m                                 Traceback (most recent call last)",
      "\u001b[36mCell\u001b[39m\u001b[36m \u001b[39m\u001b[32mIn[88]\u001b[39m\u001b[32m, line 1\u001b[39m\n\u001b[32m----> \u001b[39m\u001b[32m1\u001b[39m \u001b[43mws\u001b[49m\u001b[43m.\u001b[49m\u001b[43mget_keywords\u001b[49m\u001b[43m(\u001b[49m\u001b[43m)\u001b[49m\n",
      "\u001b[31mTypeError\u001b[39m: Workspace.get_keywords() missing 1 required positional argument: 'sample_id'"
     ]
    }
   ],
   "source": [
    "ws.get_keywords()"
   ]
  },
  {
   "cell_type": "markdown",
   "id": "fbb82e63",
   "metadata": {},
   "source": [
    "# Plotting Testing"
   ]
  },
  {
   "cell_type": "code",
   "execution_count": null,
   "id": "67b567b0",
   "metadata": {},
   "outputs": [],
   "source": [
    "from cytodataparser.plotting import categorical_plot\n",
    "from cytodataparser import CytoGateParser\n",
    "from cytodataparser.utils import helpers\n",
    "from cytodataparser import save_to_json\n",
    "import polars as pl"
   ]
  },
  {
   "cell_type": "code",
   "execution_count": null,
   "id": "5f3d3b5e",
   "metadata": {},
   "outputs": [],
   "source": [
    "cgp = CytoGateParser.from_file(r\"C:\\Users\\brend\\Downloads\\2025-06-20 Skin Tx Summary.xlsx\")"
   ]
  },
  {
   "cell_type": "code",
   "execution_count": null,
   "id": "ed505c58",
   "metadata": {},
   "outputs": [],
   "source": [
    "cgp.add_samples(path = r\"C:\\Users\\brend\\Downloads\\2025-06-20 Skin Tx Summary.xlsx\")"
   ]
  },
  {
   "cell_type": "code",
   "execution_count": null,
   "id": "35b73681",
   "metadata": {},
   "outputs": [],
   "source": [
    "cgp.find_samples(criteria={\"MouseID\": \"== 2\"})"
   ]
  },
  {
   "cell_type": "code",
   "execution_count": null,
   "id": "1b3f582d",
   "metadata": {},
   "outputs": [],
   "source": [
    "cgp.get_nodes(terms=[\"Anergic\"])"
   ]
  },
  {
   "cell_type": "code",
   "execution_count": null,
   "id": "a3a55af1",
   "metadata": {},
   "outputs": [],
   "source": [
    "save_to_json(cgp, path=\"./Test.json\")"
   ]
  },
  {
   "cell_type": "code",
   "execution_count": null,
   "id": "c4b8df69",
   "metadata": {},
   "outputs": [],
   "source": [
    "categorical_plot(cgp, node=[\"Anergic\"], sample_criteria=None, x=\"Group\", color=\"node\", plot_type=\"box\", show_points=True, title=\"Percent Anergic Cells in Donor and Recipient Populations\")"
   ]
  },
  {
   "cell_type": "code",
   "execution_count": null,
   "id": "212a53ac",
   "metadata": {},
   "outputs": [],
   "source": [
    "#TODO: Points in this case are outside of the violins\n",
    "categorical_plot(cgp, node=[\"CD4+\"], sample_criteria=None, x=\"MouseID\", color=\"Lobe\", plot_type=\"violin\", show_points=True)"
   ]
  },
  {
   "cell_type": "markdown",
   "id": "4fef9e3f",
   "metadata": {},
   "source": [
    "# Stats Testing"
   ]
  },
  {
   "cell_type": "code",
   "execution_count": null,
   "id": "fc31a222",
   "metadata": {},
   "outputs": [],
   "source": [
    "from cytodataparser.analysis import summary, testing"
   ]
  },
  {
   "cell_type": "code",
   "execution_count": null,
   "id": "d94ff99e",
   "metadata": {},
   "outputs": [],
   "source": [
    "df = pl.read_excel(r\"C:\\Users\\bfoley3\\OneDrive - Johns Hopkins\\Hybrid Thymus\\Experimental Data\\2025-05-14 Thymocyte Characterization\\2025-05-14 Thymocyte Characterization.xlsx\")\n",
    "cgp = CytoGateParser(df)"
   ]
  },
  {
   "cell_type": "code",
   "execution_count": null,
   "id": "be401212",
   "metadata": {},
   "outputs": [],
   "source": [
    "summary.describe_metric(cgp, node=[\"Recipient\", \"CD4+\"], sample_criteria={\"Strain\": \"== B6\"}, groupby=\"Lobe\")"
   ]
  },
  {
   "cell_type": "code",
   "execution_count": null,
   "id": "af7c4c13",
   "metadata": {},
   "outputs": [],
   "source": [
    "testing.run_ttest(cgp, node=[\"Donor\", \"CD4+\", \"5\"], groupby=\"Strain\")"
   ]
  },
  {
   "cell_type": "code",
   "execution_count": null,
   "id": "065163db",
   "metadata": {},
   "outputs": [],
   "source": [
    "testing.run_anova(cgp, node=[\"Donor\", \"CD4+\", \"5\"], sample_criteria={\"Strain\": \"== B6\"}, groupby=\"MouseID\")"
   ]
  },
  {
   "cell_type": "code",
   "execution_count": null,
   "id": "cb8fc2fe",
   "metadata": {},
   "outputs": [],
   "source": [
    "testing.run_chi2_test(cgp, row_field=\"Strain\", col_field=\"Lobe\")"
   ]
  },
  {
   "cell_type": "code",
   "execution_count": null,
   "id": "f21fe91c",
   "metadata": {},
   "outputs": [],
   "source": [
    "testing.run_correlation(cgp, node_a=[\"Donor\", \"CD4+\", \"5\"], node_b=[\"Recipient\", \"CD4+\", \"5\"])"
   ]
  },
  {
   "cell_type": "code",
   "execution_count": null,
   "id": "d7c9448d",
   "metadata": {},
   "outputs": [],
   "source": [
    "testing.run_correlation(cgp, node_a=[\"Donor\", \"CD4+\", \"5\"], metric=[\"Count\", \"pct_parent\"])"
   ]
  }
 ],
 "metadata": {
  "kernelspec": {
   "display_name": "flow_analysis_dup",
   "language": "python",
   "name": "python3"
  },
  "language_info": {
   "codemirror_mode": {
    "name": "ipython",
    "version": 3
   },
   "file_extension": ".py",
   "mimetype": "text/x-python",
   "name": "python",
   "nbconvert_exporter": "python",
   "pygments_lexer": "ipython3",
   "version": "3.12.11"
  }
 },
 "nbformat": 4,
 "nbformat_minor": 5
}
