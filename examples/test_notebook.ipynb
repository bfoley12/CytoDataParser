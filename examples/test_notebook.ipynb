{
 "cells": [
  {
   "cell_type": "code",
   "execution_count": 7,
   "id": "0165684f",
   "metadata": {},
   "outputs": [],
   "source": [
    "import sys\n",
    "import os\n",
    "import polars as pl\n",
    "sys.path.insert(0, os.path.abspath(os.path.join(os.pardir, \"src\")))\n",
    "from cytodataparser import CytoGateParser"
   ]
  },
  {
   "cell_type": "markdown",
   "id": "9177ea75",
   "metadata": {},
   "source": [
    "# Structures/Core Testing"
   ]
  },
  {
   "cell_type": "markdown",
   "id": "2150184e",
   "metadata": {},
   "source": [
    "## GateNode Testing"
   ]
  },
  {
   "cell_type": "code",
   "execution_count": 8,
   "id": "3e4ceba1",
   "metadata": {},
   "outputs": [],
   "source": [
    "from cytodataparser.structures import GateNode"
   ]
  },
  {
   "cell_type": "code",
   "execution_count": 9,
   "id": "213f4245",
   "metadata": {},
   "outputs": [],
   "source": [
    "root = GateNode(\"Root\")\n",
    "child = GateNode(\"Root/Child\", parent=root)\n",
    "root.add_child(child)\n",
    "\n",
    "assert root.is_root()\n",
    "assert not root.is_leaf()\n",
    "assert child.is_leaf()\n",
    "assert child.depth() == 1\n",
    "assert root.height() == 1\n",
    "assert child.parent == root\n",
    "assert root.children == [child]"
   ]
  },
  {
   "cell_type": "markdown",
   "id": "29ea7f75",
   "metadata": {},
   "source": [
    "## GateTree Testing"
   ]
  },
  {
   "cell_type": "code",
   "execution_count": 10,
   "id": "bd53eb9b",
   "metadata": {},
   "outputs": [],
   "source": [
    "from cytodataparser.structures import GateTree\n",
    "import polars as pl"
   ]
  },
  {
   "cell_type": "code",
   "execution_count": 11,
   "id": "34b5c6ee",
   "metadata": {},
   "outputs": [],
   "source": [
    "row = pl.DataFrame({\n",
    "    \"Cells | Count\": [1000, 10],\n",
    "    \"Cells/CD4 | Count\": [600, 1],\n",
    "    \"Cells/CD4/Living | Count\": [500, 1],\n",
    "    \"Cells/CD4/Living/Next | Count\": [300, 1],\n",
    "    \"Cells/CD4/Living/Next/No | Count\": [300, 1],\n",
    "    \"Cells/CD8 | Count\": [400, 20],\n",
    "}).row(0, named=True)\n",
    "tree = GateTree(row)\n",
    "assert tree.root.name == \"Cells\"\n",
    "assert \"Cells/CD4\" in tree.nodes\n",
    "assert tree.get_nodes(\"Cells/CD8\")[0].measures[\"Count\"] == 400\n",
    "assert tree.get_nodes(\"Cells/CD8\")[0].measures[\"pct_parent\"] == 400 / 1000 * 100\n",
    "assert tree.max_depth() == 4\n",
    "assert tree.get_nodes(\"Cells/CD4/Ungated\")[0].measures[\"Count\"] == 100\n"
   ]
  },
  {
   "cell_type": "markdown",
   "id": "fe379e76",
   "metadata": {},
   "source": [
    "## Test Utils"
   ]
  },
  {
   "cell_type": "code",
   "execution_count": 12,
   "id": "0eb0b159",
   "metadata": {},
   "outputs": [],
   "source": [
    "from cytodataparser.utils.predicates import parse_string_condition, from_range, matches_regex"
   ]
  },
  {
   "cell_type": "code",
   "execution_count": 13,
   "id": "ab260483",
   "metadata": {},
   "outputs": [],
   "source": [
    "cond = parse_string_condition(\"> 10 and < 20\")\n",
    "assert cond(15)\n",
    "assert not cond(25)\n",
    "\n",
    "cond = parse_string_condition(\"== 10\")\n",
    "assert cond(10)\n",
    "assert not cond(15)\n",
    "\n",
    "cond = parse_string_condition(\"<= 10\")\n",
    "assert cond(9)\n",
    "assert not cond(15)\n",
    "\n",
    "cond = parse_string_condition(\">= 10\")\n",
    "assert not cond(9)\n",
    "assert cond(15)\n",
    "\n",
    "cond = parse_string_condition(\"!= 10\")\n",
    "assert cond(9)\n",
    "assert not cond(10)\n",
    "\n",
    "cond = parse_string_condition(\"!= Hello\")\n",
    "assert not cond(\"Hello\")\n",
    "assert cond(\"Goodbye\")\n",
    "\n",
    "cond = from_range(range(10, 20))\n",
    "assert cond(15)\n",
    "assert not cond(25)\n",
    "\n",
    "cond = matches_regex(r\"^AB\\d{3}Z$\")\n",
    "assert cond(\"AB123Z\")\n",
    "assert not cond(\"AB12Z\")"
   ]
  },
  {
   "cell_type": "markdown",
   "id": "8e8b9f22",
   "metadata": {},
   "source": [
    "## Test Core"
   ]
  },
  {
   "cell_type": "code",
   "execution_count": 14,
   "id": "12463e8b",
   "metadata": {},
   "outputs": [],
   "source": [
    "from cytodataparser import CytoGateParser"
   ]
  },
  {
   "cell_type": "code",
   "execution_count": 17,
   "id": "1194c12f",
   "metadata": {},
   "outputs": [
    {
     "data": {
      "text/html": [
       "<div><style>\n",
       ".dataframe > thead > tr,\n",
       ".dataframe > tbody > tr {\n",
       "  text-align: right;\n",
       "  white-space: pre-wrap;\n",
       "}\n",
       "</style>\n",
       "<small>shape: (2, 4)</small><table border=\"1\" class=\"dataframe\"><thead><tr><th>MouseID</th><th>Strain</th><th>Cells | Count</th><th>Cells/CD4 | Count</th></tr><tr><td>str</td><td>str</td><td>i64</td><td>i64</td></tr></thead><tbody><tr><td>&quot;A&quot;</td><td>&quot;B6&quot;</td><td>1000</td><td>500</td></tr><tr><td>&quot;B&quot;</td><td>&quot;F1&quot;</td><td>900</td><td>300</td></tr></tbody></table></div>"
      ],
      "text/plain": [
       "shape: (2, 4)\n",
       "┌─────────┬────────┬───────────────┬───────────────────┐\n",
       "│ MouseID ┆ Strain ┆ Cells | Count ┆ Cells/CD4 | Count │\n",
       "│ ---     ┆ ---    ┆ ---           ┆ ---               │\n",
       "│ str     ┆ str    ┆ i64           ┆ i64               │\n",
       "╞═════════╪════════╪═══════════════╪═══════════════════╡\n",
       "│ A       ┆ B6     ┆ 1000          ┆ 500               │\n",
       "│ B       ┆ F1     ┆ 900           ┆ 300               │\n",
       "└─────────┴────────┴───────────────┴───────────────────┘"
      ]
     },
     "execution_count": 17,
     "metadata": {},
     "output_type": "execute_result"
    }
   ],
   "source": [
    "parser.samples"
   ]
  },
  {
   "cell_type": "code",
   "execution_count": 18,
   "id": "30d16999",
   "metadata": {},
   "outputs": [
    {
     "ename": "TypeError",
     "evalue": "object of type 'NoneType' has no len()",
     "output_type": "error",
     "traceback": [
      "\u001b[31m---------------------------------------------------------------------------\u001b[39m",
      "\u001b[31mTypeError\u001b[39m                                 Traceback (most recent call last)",
      "\u001b[36mCell\u001b[39m\u001b[36m \u001b[39m\u001b[32mIn[18]\u001b[39m\u001b[32m, line 8\u001b[39m\n\u001b[32m      1\u001b[39m df = pl.DataFrame({\n\u001b[32m      2\u001b[39m     \u001b[33m\"\u001b[39m\u001b[33mMouseID\u001b[39m\u001b[33m\"\u001b[39m: [\u001b[33m\"\u001b[39m\u001b[33mA\u001b[39m\u001b[33m\"\u001b[39m, \u001b[33m\"\u001b[39m\u001b[33mB\u001b[39m\u001b[33m\"\u001b[39m],\n\u001b[32m      3\u001b[39m     \u001b[33m\"\u001b[39m\u001b[33mStrain\u001b[39m\u001b[33m\"\u001b[39m: [\u001b[33m\"\u001b[39m\u001b[33mB6\u001b[39m\u001b[33m\"\u001b[39m, \u001b[33m\"\u001b[39m\u001b[33mF1\u001b[39m\u001b[33m\"\u001b[39m],\n\u001b[32m      4\u001b[39m     \u001b[33m\"\u001b[39m\u001b[33mCells | Count\u001b[39m\u001b[33m\"\u001b[39m: [\u001b[32m1000\u001b[39m, \u001b[32m900\u001b[39m],\n\u001b[32m      5\u001b[39m     \u001b[33m\"\u001b[39m\u001b[33mCells/CD4 | Count\u001b[39m\u001b[33m\"\u001b[39m: [\u001b[32m500\u001b[39m, \u001b[32m300\u001b[39m],\n\u001b[32m      6\u001b[39m })\n\u001b[32m      7\u001b[39m parser = CytoGateParser.from_xlsx(df)\n\u001b[32m----> \u001b[39m\u001b[32m8\u001b[39m \u001b[38;5;28;01massert\u001b[39;00m \u001b[38;5;28;43mlen\u001b[39;49m\u001b[43m(\u001b[49m\u001b[43mparser\u001b[49m\u001b[43m)\u001b[49m == \u001b[32m2\u001b[39m\n\u001b[32m      9\u001b[39m \u001b[38;5;28;01massert\u001b[39;00m parser.get_metadata(\u001b[32m0\u001b[39m)[\u001b[33m\"\u001b[39m\u001b[33mStrain\u001b[39m\u001b[33m\"\u001b[39m] == \u001b[33m\"\u001b[39m\u001b[33mB6\u001b[39m\u001b[33m\"\u001b[39m\n\u001b[32m     10\u001b[39m match = parser.find_samples({\u001b[33m\"\u001b[39m\u001b[33mStrain\u001b[39m\u001b[33m\"\u001b[39m: \u001b[33m\"\u001b[39m\u001b[33m== F1\u001b[39m\u001b[33m\"\u001b[39m})\n",
      "\u001b[31mTypeError\u001b[39m: object of type 'NoneType' has no len()"
     ]
    }
   ],
   "source": [
    "df = pl.DataFrame({\n",
    "    \"MouseID\": [\"A\", \"B\"],\n",
    "    \"Strain\": [\"B6\", \"F1\"],\n",
    "    \"Cells | Count\": [1000, 900],\n",
    "    \"Cells/CD4 | Count\": [500, 300],\n",
    "})\n",
    "parser = CytoGateParser.from_xlsx(df)\n",
    "assert len(parser) == 2\n",
    "assert parser.get_metadata(0)[\"Strain\"] == \"B6\"\n",
    "match = parser.find_samples({\"Strain\": \"== F1\"})\n",
    "assert len(match) == 1"
   ]
  },
  {
   "cell_type": "markdown",
   "id": "fbb82e63",
   "metadata": {},
   "source": [
    "# Plotting Testing"
   ]
  },
  {
   "cell_type": "code",
   "execution_count": 1,
   "id": "67b567b0",
   "metadata": {},
   "outputs": [],
   "source": [
    "from cytodataparser.plotting import categorical_plot\n",
    "from cytodataparser import CytoGateParser\n",
    "from cytodataparser.utils import helpers\n",
    "from cytodataparser import load_from_xlsx, save_to_json, load_from_json\n",
    "import polars as pl"
   ]
  },
  {
   "cell_type": "code",
   "execution_count": 5,
   "id": "5f3d3b5e",
   "metadata": {},
   "outputs": [],
   "source": [
    "df = pl.read_excel(r\"C:\\Users\\brend\\Downloads\\2025-06-20 Skin Tx Summary.xlsx\")"
   ]
  },
  {
   "cell_type": "code",
   "execution_count": 2,
   "id": "eaf971eb",
   "metadata": {},
   "outputs": [],
   "source": [
    "cgp = load_from_xlsx(r\"C:\\Users\\brend\\Downloads\\2025-06-20 Skin Tx Summary.xlsx\")"
   ]
  },
  {
   "cell_type": "code",
   "execution_count": 2,
   "id": "8736555d",
   "metadata": {},
   "outputs": [],
   "source": [
    "cgp= load_from_json(\"./Test.json\")"
   ]
  },
  {
   "cell_type": "code",
   "execution_count": 8,
   "id": "35b73681",
   "metadata": {},
   "outputs": [
    {
     "data": {
      "text/plain": [
       "[<cytodataparser.structures.sample.Sample at 0x1ae5ff32090>,\n",
       " <cytodataparser.structures.sample.Sample at 0x1ae5fe4f8b0>,\n",
       " <cytodataparser.structures.sample.Sample at 0x1ae5fe4fa10>,\n",
       " <cytodataparser.structures.sample.Sample at 0x1ae2cc531b0>]"
      ]
     },
     "execution_count": 8,
     "metadata": {},
     "output_type": "execute_result"
    }
   ],
   "source": [
    "cgp.find_samples(criteria={\"MouseID\": \"== 2\"})"
   ]
  },
  {
   "cell_type": "code",
   "execution_count": 9,
   "id": "1b3f582d",
   "metadata": {},
   "outputs": [
    {
     "data": {
      "text/plain": [
       "[{'metadata': {'Char. Date': '2025-06-20',\n",
       "   'MouseID': 1,\n",
       "   'Sex': 'Male',\n",
       "   'DoB': '2025-03-19',\n",
       "   'CageID': 4023,\n",
       "   'Group': 'Experimental',\n",
       "   'Tissue': 'LN',\n",
       "   'Transplant Date': '2025-05-30',\n",
       "   'Transplant Donor Strain': 'Balb/c'},\n",
       "  'nodes': [Cells/Singlets/CD45.1+ CD4+/CD4+ CD3+/Th/Anergic,\n",
       "   Cells/Singlets/CD45.1- CD4+/CD4+ CD3+/Naive/Anergic,\n",
       "   Cells/Singlets/CD45.1+ CD4+/CD4+ CD3+/Tmem/Anergic,\n",
       "   Cells/Singlets/CD45.1- CD4+/CD4+ CD3+/Tmem/Anergic]},\n",
       " {'metadata': {'Char. Date': '2025-06-20',\n",
       "   'MouseID': 1,\n",
       "   'Sex': 'Male',\n",
       "   'DoB': '2025-03-19',\n",
       "   'CageID': 4024,\n",
       "   'Group': 'Control',\n",
       "   'Tissue': 'LN',\n",
       "   'Transplant Date': '2025-05-30',\n",
       "   'Transplant Donor Strain': 'Balb/c'},\n",
       "  'nodes': [Cells/Singlets/CD45.1+ CD4+/CD4+ CD3+/Th/Anergic,\n",
       "   Cells/Singlets/CD45.1- CD4+/CD4+ CD3+/Naive/Anergic,\n",
       "   Cells/Singlets/CD45.1+ CD4+/CD4+ CD3+/Tmem/Anergic,\n",
       "   Cells/Singlets/CD45.1- CD4+/CD4+ CD3+/Tmem/Anergic]},\n",
       " {'metadata': {'Char. Date': '2025-06-20',\n",
       "   'MouseID': 1,\n",
       "   'Sex': 'Male',\n",
       "   'DoB': '2025-03-19',\n",
       "   'CageID': 4023,\n",
       "   'Group': 'Experimental',\n",
       "   'Tissue': 'Spleen',\n",
       "   'Transplant Date': '2025-05-30',\n",
       "   'Transplant Donor Strain': 'Balb/c'},\n",
       "  'nodes': [Cells/Singlets/CD45.1- CD4+/CD4+ CD3+/Tmem/Anergic,\n",
       "   Cells/Singlets/CD45.1+ CD4+/CD4+ CD3+/Th/Anergic,\n",
       "   Cells/Singlets/CD45.1- CD4+/CD4+ CD3+/Naive/Anergic,\n",
       "   Cells/Singlets/CD45.1+ CD4+/CD4+ CD3+/Tmem/Anergic]},\n",
       " {'metadata': {'Char. Date': '2025-06-20',\n",
       "   'MouseID': 1,\n",
       "   'Sex': 'Male',\n",
       "   'DoB': '2025-03-19',\n",
       "   'CageID': 4024,\n",
       "   'Group': 'Control',\n",
       "   'Tissue': 'Spleen',\n",
       "   'Transplant Date': '2025-05-30',\n",
       "   'Transplant Donor Strain': 'Balb/c'},\n",
       "  'nodes': [Cells/Singlets/CD45.1- CD4+/CD4+ CD3+/Tmem/Anergic,\n",
       "   Cells/Singlets/CD45.1+ CD4+/CD4+ CD3+/Th/Anergic,\n",
       "   Cells/Singlets/CD45.1- CD4+/CD4+ CD3+/Naive/Anergic,\n",
       "   Cells/Singlets/CD45.1+ CD4+/CD4+ CD3+/Tmem/Anergic]},\n",
       " {'metadata': {'Char. Date': '2025-06-20',\n",
       "   'MouseID': 2,\n",
       "   'Sex': 'Male',\n",
       "   'DoB': '2025-03-19',\n",
       "   'CageID': 4023,\n",
       "   'Group': 'Experimental',\n",
       "   'Tissue': 'LN',\n",
       "   'Transplant Date': '2025-05-30',\n",
       "   'Transplant Donor Strain': 'Balb/c'},\n",
       "  'nodes': [Cells/Singlets/CD45.1- CD4+/CD4+ CD3+/Tmem/Anergic,\n",
       "   Cells/Singlets/CD45.1+ CD4+/CD4+ CD3+/Th/Anergic,\n",
       "   Cells/Singlets/CD45.1- CD4+/CD4+ CD3+/Naive/Anergic,\n",
       "   Cells/Singlets/CD45.1+ CD4+/CD4+ CD3+/Tmem/Anergic]},\n",
       " {'metadata': {'Char. Date': '2025-06-20',\n",
       "   'MouseID': 2,\n",
       "   'Sex': 'Male',\n",
       "   'DoB': '2025-03-19',\n",
       "   'CageID': 4024,\n",
       "   'Group': 'Control',\n",
       "   'Tissue': 'LN',\n",
       "   'Transplant Date': '2025-05-30',\n",
       "   'Transplant Donor Strain': 'Balb/c'},\n",
       "  'nodes': [Cells/Singlets/CD45.1+ CD4+/CD4+ CD3+/Tmem/Anergic,\n",
       "   Cells/Singlets/CD45.1- CD4+/CD4+ CD3+/Tmem/Anergic,\n",
       "   Cells/Singlets/CD45.1+ CD4+/CD4+ CD3+/Th/Anergic,\n",
       "   Cells/Singlets/CD45.1- CD4+/CD4+ CD3+/Naive/Anergic]},\n",
       " {'metadata': {'Char. Date': '2025-06-20',\n",
       "   'MouseID': 2,\n",
       "   'Sex': 'Male',\n",
       "   'DoB': '2025-03-19',\n",
       "   'CageID': 4023,\n",
       "   'Group': 'Experimental',\n",
       "   'Tissue': 'Spleen',\n",
       "   'Transplant Date': '2025-05-30',\n",
       "   'Transplant Donor Strain': 'Balb/c'},\n",
       "  'nodes': [Cells/Singlets/CD45.1- CD4+/CD4+ CD3+/Naive/Anergic,\n",
       "   Cells/Singlets/CD45.1+ CD4+/CD4+ CD3+/Tmem/Anergic,\n",
       "   Cells/Singlets/CD45.1- CD4+/CD4+ CD3+/Tmem/Anergic,\n",
       "   Cells/Singlets/CD45.1+ CD4+/CD4+ CD3+/Th/Anergic]},\n",
       " {'metadata': {'Char. Date': '2025-06-20',\n",
       "   'MouseID': 2,\n",
       "   'Sex': 'Male',\n",
       "   'DoB': '2025-03-19',\n",
       "   'CageID': 4024,\n",
       "   'Group': 'Control',\n",
       "   'Tissue': 'Spleen',\n",
       "   'Transplant Date': '2025-05-30',\n",
       "   'Transplant Donor Strain': 'Balb/c'},\n",
       "  'nodes': [Cells/Singlets/CD45.1- CD4+/CD4+ CD3+/Naive/Anergic,\n",
       "   Cells/Singlets/CD45.1+ CD4+/CD4+ CD3+/Tmem/Anergic,\n",
       "   Cells/Singlets/CD45.1- CD4+/CD4+ CD3+/Tmem/Anergic,\n",
       "   Cells/Singlets/CD45.1+ CD4+/CD4+ CD3+/Th/Anergic]},\n",
       " {'metadata': {'Char. Date': '2025-06-20',\n",
       "   'MouseID': 3,\n",
       "   'Sex': 'Male',\n",
       "   'DoB': '2025-03-19',\n",
       "   'CageID': 4023,\n",
       "   'Group': 'Experimental',\n",
       "   'Tissue': 'LN',\n",
       "   'Transplant Date': '2025-05-30',\n",
       "   'Transplant Donor Strain': 'Balb/c'},\n",
       "  'nodes': [Cells/Singlets/CD45.1- CD4+/CD4+ CD3+/Tmem/Anergic,\n",
       "   Cells/Singlets/CD45.1+ CD4+/CD4+ CD3+/Th/Anergic,\n",
       "   Cells/Singlets/CD45.1- CD4+/CD4+ CD3+/Naive/Anergic,\n",
       "   Cells/Singlets/CD45.1+ CD4+/CD4+ CD3+/Tmem/Anergic]},\n",
       " {'metadata': {'Char. Date': '2025-06-20',\n",
       "   'MouseID': 3,\n",
       "   'Sex': 'Male',\n",
       "   'DoB': '2025-03-19',\n",
       "   'CageID': 4024,\n",
       "   'Group': 'Control',\n",
       "   'Tissue': 'LN',\n",
       "   'Transplant Date': '2025-05-30',\n",
       "   'Transplant Donor Strain': 'Balb/c'},\n",
       "  'nodes': [Cells/Singlets/CD45.1- CD4+/CD4+ CD3+/Tmem/Anergic,\n",
       "   Cells/Singlets/CD45.1+ CD4+/CD4+ CD3+/Th/Anergic,\n",
       "   Cells/Singlets/CD45.1- CD4+/CD4+ CD3+/Naive/Anergic,\n",
       "   Cells/Singlets/CD45.1+ CD4+/CD4+ CD3+/Tmem/Anergic]},\n",
       " {'metadata': {'Char. Date': '2025-06-20',\n",
       "   'MouseID': 3,\n",
       "   'Sex': 'Male',\n",
       "   'DoB': '2025-03-19',\n",
       "   'CageID': 4023,\n",
       "   'Group': 'Experimental',\n",
       "   'Tissue': 'Spleen',\n",
       "   'Transplant Date': '2025-05-30',\n",
       "   'Transplant Donor Strain': 'Balb/c'},\n",
       "  'nodes': [Cells/Singlets/CD45.1- CD4+/CD4+ CD3+/Tmem/Anergic,\n",
       "   Cells/Singlets/CD45.1+ CD4+/CD4+ CD3+/Th/Anergic,\n",
       "   Cells/Singlets/CD45.1- CD4+/CD4+ CD3+/Naive/Anergic,\n",
       "   Cells/Singlets/CD45.1+ CD4+/CD4+ CD3+/Tmem/Anergic]},\n",
       " {'metadata': {'Char. Date': '2025-06-20',\n",
       "   'MouseID': 3,\n",
       "   'Sex': 'Male',\n",
       "   'DoB': '2025-03-19',\n",
       "   'CageID': 4024,\n",
       "   'Group': 'Control',\n",
       "   'Tissue': 'Spleen',\n",
       "   'Transplant Date': '2025-05-30',\n",
       "   'Transplant Donor Strain': 'Balb/c'},\n",
       "  'nodes': [Cells/Singlets/CD45.1+ CD4+/CD4+ CD3+/Tmem/Anergic,\n",
       "   Cells/Singlets/CD45.1- CD4+/CD4+ CD3+/Tmem/Anergic,\n",
       "   Cells/Singlets/CD45.1+ CD4+/CD4+ CD3+/Th/Anergic,\n",
       "   Cells/Singlets/CD45.1- CD4+/CD4+ CD3+/Naive/Anergic]}]"
      ]
     },
     "execution_count": 9,
     "metadata": {},
     "output_type": "execute_result"
    }
   ],
   "source": [
    "cgp.get_nodes(terms=[\"Anergic\"])"
   ]
  },
  {
   "cell_type": "code",
   "execution_count": 6,
   "id": "a3a55af1",
   "metadata": {},
   "outputs": [],
   "source": [
    "save_to_json(cgp, path=\"./Test.json\")"
   ]
  },
  {
   "cell_type": "code",
   "execution_count": null,
   "id": "c4b8df69",
   "metadata": {},
   "outputs": [
    {
     "name": "stdout",
     "output_type": "stream",
     "text": [
      "Running t-test\n",
      "Warning: significance annotation failed — run_ttest() got an unexpected keyword argument 'target'\n"
     ]
    },
    {
     "data": {
      "application/vnd.plotly.v1+json": {
       "config": {
        "plotlyServerURL": "https://plot.ly"
       },
       "data": [
        {
         "alignmentgroup": "True",
         "boxpoints": "all",
         "hovertemplate": "node=Cells/Singlets/CD45.1+ CD4+/CD4+ CD3+/Th/Anergic<br>Group=%{x}<br>pct_parent=%{y}<extra></extra>",
         "legendgroup": "Cells/Singlets/CD45.1+ CD4+/CD4+ CD3+/Th/Anergic",
         "marker": {
          "color": "#AB63FA"
         },
         "name": "Cells/Singlets/CD45.1+ CD4+/CD4+ CD3+/Th/Anergic",
         "notched": false,
         "offsetgroup": "Cells/Singlets/CD45.1+ CD4+/CD4+ CD3+/Th/Anergic",
         "orientation": "v",
         "showlegend": true,
         "type": "box",
         "x": [
          "Experimental",
          "Control",
          "Experimental",
          "Control",
          "Experimental",
          "Control",
          "Experimental",
          "Control",
          "Experimental",
          "Control",
          "Experimental",
          "Control"
         ],
         "x0": " ",
         "xaxis": "x",
         "y": {
          "bdata": "X7XAjOUjFkAnZNvDwZkcQLLBJ7eK/+Q/2jxVC0Hk9z9DeQ3lNZQHQKesKWvKmiJAPv/BwgA+3T/I0t+lt07YP6uqqqqqqhpA68eZYunaGkDlDfuqVnDtP6rQy5BxuO8/",
          "dtype": "f8"
         },
         "y0": " ",
         "yaxis": "y"
        },
        {
         "alignmentgroup": "True",
         "boxpoints": "all",
         "hovertemplate": "node=Cells/Singlets/CD45.1+ CD4+/CD4+ CD3+/Tmem/Anergic<br>Group=%{x}<br>pct_parent=%{y}<extra></extra>",
         "legendgroup": "Cells/Singlets/CD45.1+ CD4+/CD4+ CD3+/Tmem/Anergic",
         "marker": {
          "color": "#00CC96"
         },
         "name": "Cells/Singlets/CD45.1+ CD4+/CD4+ CD3+/Tmem/Anergic",
         "notched": false,
         "offsetgroup": "Cells/Singlets/CD45.1+ CD4+/CD4+ CD3+/Tmem/Anergic",
         "orientation": "v",
         "showlegend": true,
         "type": "box",
         "x": [
          "Experimental",
          "Control",
          "Experimental",
          "Control",
          "Experimental",
          "Control",
          "Experimental",
          "Control",
          "Experimental",
          "Control",
          "Experimental",
          "Control"
         ],
         "x0": " ",
         "xaxis": "x",
         "y": {
          "bdata": "11BeQ3kNJUBlx3MqKSApQNwB9Pf6A/E/hF8BkD6BAkBddNFFF10UQHLXzxYrwydACDUhZKc85j+fU0T0cIPdP6uqqqqqqhpAW56iVkzZHEC5DJmRWjr7P+efCHsye/Y/",
          "dtype": "f8"
         },
         "y0": " ",
         "yaxis": "y"
        },
        {
         "alignmentgroup": "True",
         "boxpoints": "all",
         "hovertemplate": "node=Cells/Singlets/CD45.1- CD4+/CD4+ CD3+/Naive/Anergic<br>Group=%{x}<br>pct_parent=%{y}<extra></extra>",
         "legendgroup": "Cells/Singlets/CD45.1- CD4+/CD4+ CD3+/Naive/Anergic",
         "marker": {
          "color": "#636EFA"
         },
         "name": "Cells/Singlets/CD45.1- CD4+/CD4+ CD3+/Naive/Anergic",
         "notched": false,
         "offsetgroup": "Cells/Singlets/CD45.1- CD4+/CD4+ CD3+/Naive/Anergic",
         "orientation": "v",
         "showlegend": true,
         "type": "box",
         "x": [
          "Experimental",
          "Control",
          "Experimental",
          "Control",
          "Experimental",
          "Control",
          "Experimental",
          "Control",
          "Experimental",
          "Control",
          "Experimental",
          "Control"
         ],
         "x0": " ",
         "xaxis": "x",
         "y": {
          "bdata": "DYmlR8ZVuz8UbIbZ6tHfPxW8nIKXU9A/QwEdm++G7z+kvCaqhzy+P3uhqyZ9I7c/XkN5DeU15D9bhg7Y7bHWP49r8wsbc68/3fTrxYHkwj8AAAAAAAAAAAAAAAAAAAAA",
          "dtype": "f8"
         },
         "y0": " ",
         "yaxis": "y"
        },
        {
         "alignmentgroup": "True",
         "boxpoints": "all",
         "hovertemplate": "node=Cells/Singlets/CD45.1- CD4+/CD4+ CD3+/Tmem/Anergic<br>Group=%{x}<br>pct_parent=%{y}<extra></extra>",
         "legendgroup": "Cells/Singlets/CD45.1- CD4+/CD4+ CD3+/Tmem/Anergic",
         "marker": {
          "color": "#EF553B"
         },
         "name": "Cells/Singlets/CD45.1- CD4+/CD4+ CD3+/Tmem/Anergic",
         "notched": false,
         "offsetgroup": "Cells/Singlets/CD45.1- CD4+/CD4+ CD3+/Tmem/Anergic",
         "orientation": "v",
         "showlegend": true,
         "type": "box",
         "x": [
          "Experimental",
          "Control",
          "Experimental",
          "Control",
          "Experimental",
          "Control",
          "Experimental",
          "Control",
          "Experimental",
          "Control",
          "Experimental",
          "Control"
         ],
         "x0": " ",
         "xaxis": "x",
         "y": {
          "bdata": "+msL5SCoIEAT2ktoL6E3QI7jOI7jOBZAqqqqqqqqIECU/DNQo00iQPmMoCgnEC1AchzHcRzH8T8AAAAAAAAgQF9fX19fXy9A2Ymd2ImdMECqqqqqqqoQQCHRCpsDiSZA",
          "dtype": "f8"
         },
         "y0": " ",
         "yaxis": "y"
        }
       ],
       "layout": {
        "boxmode": "group",
        "legend": {
         "title": {
          "text": "node"
         },
         "tracegroupgap": 0
        },
        "margin": {
         "b": 40,
         "l": 40,
         "r": 40,
         "t": 100
        },
        "template": {
         "data": {
          "bar": [
           {
            "error_x": {
             "color": "#2a3f5f"
            },
            "error_y": {
             "color": "#2a3f5f"
            },
            "marker": {
             "line": {
              "color": "#E5ECF6",
              "width": 0.5
             },
             "pattern": {
              "fillmode": "overlay",
              "size": 10,
              "solidity": 0.2
             }
            },
            "type": "bar"
           }
          ],
          "barpolar": [
           {
            "marker": {
             "line": {
              "color": "#E5ECF6",
              "width": 0.5
             },
             "pattern": {
              "fillmode": "overlay",
              "size": 10,
              "solidity": 0.2
             }
            },
            "type": "barpolar"
           }
          ],
          "carpet": [
           {
            "aaxis": {
             "endlinecolor": "#2a3f5f",
             "gridcolor": "white",
             "linecolor": "white",
             "minorgridcolor": "white",
             "startlinecolor": "#2a3f5f"
            },
            "baxis": {
             "endlinecolor": "#2a3f5f",
             "gridcolor": "white",
             "linecolor": "white",
             "minorgridcolor": "white",
             "startlinecolor": "#2a3f5f"
            },
            "type": "carpet"
           }
          ],
          "choropleth": [
           {
            "colorbar": {
             "outlinewidth": 0,
             "ticks": ""
            },
            "type": "choropleth"
           }
          ],
          "contour": [
           {
            "colorbar": {
             "outlinewidth": 0,
             "ticks": ""
            },
            "colorscale": [
             [
              0,
              "#0d0887"
             ],
             [
              0.1111111111111111,
              "#46039f"
             ],
             [
              0.2222222222222222,
              "#7201a8"
             ],
             [
              0.3333333333333333,
              "#9c179e"
             ],
             [
              0.4444444444444444,
              "#bd3786"
             ],
             [
              0.5555555555555556,
              "#d8576b"
             ],
             [
              0.6666666666666666,
              "#ed7953"
             ],
             [
              0.7777777777777778,
              "#fb9f3a"
             ],
             [
              0.8888888888888888,
              "#fdca26"
             ],
             [
              1,
              "#f0f921"
             ]
            ],
            "type": "contour"
           }
          ],
          "contourcarpet": [
           {
            "colorbar": {
             "outlinewidth": 0,
             "ticks": ""
            },
            "type": "contourcarpet"
           }
          ],
          "heatmap": [
           {
            "colorbar": {
             "outlinewidth": 0,
             "ticks": ""
            },
            "colorscale": [
             [
              0,
              "#0d0887"
             ],
             [
              0.1111111111111111,
              "#46039f"
             ],
             [
              0.2222222222222222,
              "#7201a8"
             ],
             [
              0.3333333333333333,
              "#9c179e"
             ],
             [
              0.4444444444444444,
              "#bd3786"
             ],
             [
              0.5555555555555556,
              "#d8576b"
             ],
             [
              0.6666666666666666,
              "#ed7953"
             ],
             [
              0.7777777777777778,
              "#fb9f3a"
             ],
             [
              0.8888888888888888,
              "#fdca26"
             ],
             [
              1,
              "#f0f921"
             ]
            ],
            "type": "heatmap"
           }
          ],
          "histogram": [
           {
            "marker": {
             "pattern": {
              "fillmode": "overlay",
              "size": 10,
              "solidity": 0.2
             }
            },
            "type": "histogram"
           }
          ],
          "histogram2d": [
           {
            "colorbar": {
             "outlinewidth": 0,
             "ticks": ""
            },
            "colorscale": [
             [
              0,
              "#0d0887"
             ],
             [
              0.1111111111111111,
              "#46039f"
             ],
             [
              0.2222222222222222,
              "#7201a8"
             ],
             [
              0.3333333333333333,
              "#9c179e"
             ],
             [
              0.4444444444444444,
              "#bd3786"
             ],
             [
              0.5555555555555556,
              "#d8576b"
             ],
             [
              0.6666666666666666,
              "#ed7953"
             ],
             [
              0.7777777777777778,
              "#fb9f3a"
             ],
             [
              0.8888888888888888,
              "#fdca26"
             ],
             [
              1,
              "#f0f921"
             ]
            ],
            "type": "histogram2d"
           }
          ],
          "histogram2dcontour": [
           {
            "colorbar": {
             "outlinewidth": 0,
             "ticks": ""
            },
            "colorscale": [
             [
              0,
              "#0d0887"
             ],
             [
              0.1111111111111111,
              "#46039f"
             ],
             [
              0.2222222222222222,
              "#7201a8"
             ],
             [
              0.3333333333333333,
              "#9c179e"
             ],
             [
              0.4444444444444444,
              "#bd3786"
             ],
             [
              0.5555555555555556,
              "#d8576b"
             ],
             [
              0.6666666666666666,
              "#ed7953"
             ],
             [
              0.7777777777777778,
              "#fb9f3a"
             ],
             [
              0.8888888888888888,
              "#fdca26"
             ],
             [
              1,
              "#f0f921"
             ]
            ],
            "type": "histogram2dcontour"
           }
          ],
          "mesh3d": [
           {
            "colorbar": {
             "outlinewidth": 0,
             "ticks": ""
            },
            "type": "mesh3d"
           }
          ],
          "parcoords": [
           {
            "line": {
             "colorbar": {
              "outlinewidth": 0,
              "ticks": ""
             }
            },
            "type": "parcoords"
           }
          ],
          "pie": [
           {
            "automargin": true,
            "type": "pie"
           }
          ],
          "scatter": [
           {
            "fillpattern": {
             "fillmode": "overlay",
             "size": 10,
             "solidity": 0.2
            },
            "type": "scatter"
           }
          ],
          "scatter3d": [
           {
            "line": {
             "colorbar": {
              "outlinewidth": 0,
              "ticks": ""
             }
            },
            "marker": {
             "colorbar": {
              "outlinewidth": 0,
              "ticks": ""
             }
            },
            "type": "scatter3d"
           }
          ],
          "scattercarpet": [
           {
            "marker": {
             "colorbar": {
              "outlinewidth": 0,
              "ticks": ""
             }
            },
            "type": "scattercarpet"
           }
          ],
          "scattergeo": [
           {
            "marker": {
             "colorbar": {
              "outlinewidth": 0,
              "ticks": ""
             }
            },
            "type": "scattergeo"
           }
          ],
          "scattergl": [
           {
            "marker": {
             "colorbar": {
              "outlinewidth": 0,
              "ticks": ""
             }
            },
            "type": "scattergl"
           }
          ],
          "scattermap": [
           {
            "marker": {
             "colorbar": {
              "outlinewidth": 0,
              "ticks": ""
             }
            },
            "type": "scattermap"
           }
          ],
          "scattermapbox": [
           {
            "marker": {
             "colorbar": {
              "outlinewidth": 0,
              "ticks": ""
             }
            },
            "type": "scattermapbox"
           }
          ],
          "scatterpolar": [
           {
            "marker": {
             "colorbar": {
              "outlinewidth": 0,
              "ticks": ""
             }
            },
            "type": "scatterpolar"
           }
          ],
          "scatterpolargl": [
           {
            "marker": {
             "colorbar": {
              "outlinewidth": 0,
              "ticks": ""
             }
            },
            "type": "scatterpolargl"
           }
          ],
          "scatterternary": [
           {
            "marker": {
             "colorbar": {
              "outlinewidth": 0,
              "ticks": ""
             }
            },
            "type": "scatterternary"
           }
          ],
          "surface": [
           {
            "colorbar": {
             "outlinewidth": 0,
             "ticks": ""
            },
            "colorscale": [
             [
              0,
              "#0d0887"
             ],
             [
              0.1111111111111111,
              "#46039f"
             ],
             [
              0.2222222222222222,
              "#7201a8"
             ],
             [
              0.3333333333333333,
              "#9c179e"
             ],
             [
              0.4444444444444444,
              "#bd3786"
             ],
             [
              0.5555555555555556,
              "#d8576b"
             ],
             [
              0.6666666666666666,
              "#ed7953"
             ],
             [
              0.7777777777777778,
              "#fb9f3a"
             ],
             [
              0.8888888888888888,
              "#fdca26"
             ],
             [
              1,
              "#f0f921"
             ]
            ],
            "type": "surface"
           }
          ],
          "table": [
           {
            "cells": {
             "fill": {
              "color": "#EBF0F8"
             },
             "line": {
              "color": "white"
             }
            },
            "header": {
             "fill": {
              "color": "#C8D4E3"
             },
             "line": {
              "color": "white"
             }
            },
            "type": "table"
           }
          ]
         },
         "layout": {
          "annotationdefaults": {
           "arrowcolor": "#2a3f5f",
           "arrowhead": 0,
           "arrowwidth": 1
          },
          "autotypenumbers": "strict",
          "coloraxis": {
           "colorbar": {
            "outlinewidth": 0,
            "ticks": ""
           }
          },
          "colorscale": {
           "diverging": [
            [
             0,
             "#8e0152"
            ],
            [
             0.1,
             "#c51b7d"
            ],
            [
             0.2,
             "#de77ae"
            ],
            [
             0.3,
             "#f1b6da"
            ],
            [
             0.4,
             "#fde0ef"
            ],
            [
             0.5,
             "#f7f7f7"
            ],
            [
             0.6,
             "#e6f5d0"
            ],
            [
             0.7,
             "#b8e186"
            ],
            [
             0.8,
             "#7fbc41"
            ],
            [
             0.9,
             "#4d9221"
            ],
            [
             1,
             "#276419"
            ]
           ],
           "sequential": [
            [
             0,
             "#0d0887"
            ],
            [
             0.1111111111111111,
             "#46039f"
            ],
            [
             0.2222222222222222,
             "#7201a8"
            ],
            [
             0.3333333333333333,
             "#9c179e"
            ],
            [
             0.4444444444444444,
             "#bd3786"
            ],
            [
             0.5555555555555556,
             "#d8576b"
            ],
            [
             0.6666666666666666,
             "#ed7953"
            ],
            [
             0.7777777777777778,
             "#fb9f3a"
            ],
            [
             0.8888888888888888,
             "#fdca26"
            ],
            [
             1,
             "#f0f921"
            ]
           ],
           "sequentialminus": [
            [
             0,
             "#0d0887"
            ],
            [
             0.1111111111111111,
             "#46039f"
            ],
            [
             0.2222222222222222,
             "#7201a8"
            ],
            [
             0.3333333333333333,
             "#9c179e"
            ],
            [
             0.4444444444444444,
             "#bd3786"
            ],
            [
             0.5555555555555556,
             "#d8576b"
            ],
            [
             0.6666666666666666,
             "#ed7953"
            ],
            [
             0.7777777777777778,
             "#fb9f3a"
            ],
            [
             0.8888888888888888,
             "#fdca26"
            ],
            [
             1,
             "#f0f921"
            ]
           ]
          },
          "colorway": [
           "#636efa",
           "#EF553B",
           "#00cc96",
           "#ab63fa",
           "#FFA15A",
           "#19d3f3",
           "#FF6692",
           "#B6E880",
           "#FF97FF",
           "#FECB52"
          ],
          "font": {
           "color": "#2a3f5f"
          },
          "geo": {
           "bgcolor": "white",
           "lakecolor": "white",
           "landcolor": "#E5ECF6",
           "showlakes": true,
           "showland": true,
           "subunitcolor": "white"
          },
          "hoverlabel": {
           "align": "left"
          },
          "hovermode": "closest",
          "mapbox": {
           "style": "light"
          },
          "paper_bgcolor": "white",
          "plot_bgcolor": "#E5ECF6",
          "polar": {
           "angularaxis": {
            "gridcolor": "white",
            "linecolor": "white",
            "ticks": ""
           },
           "bgcolor": "#E5ECF6",
           "radialaxis": {
            "gridcolor": "white",
            "linecolor": "white",
            "ticks": ""
           }
          },
          "scene": {
           "xaxis": {
            "backgroundcolor": "#E5ECF6",
            "gridcolor": "white",
            "gridwidth": 2,
            "linecolor": "white",
            "showbackground": true,
            "ticks": "",
            "zerolinecolor": "white"
           },
           "yaxis": {
            "backgroundcolor": "#E5ECF6",
            "gridcolor": "white",
            "gridwidth": 2,
            "linecolor": "white",
            "showbackground": true,
            "ticks": "",
            "zerolinecolor": "white"
           },
           "zaxis": {
            "backgroundcolor": "#E5ECF6",
            "gridcolor": "white",
            "gridwidth": 2,
            "linecolor": "white",
            "showbackground": true,
            "ticks": "",
            "zerolinecolor": "white"
           }
          },
          "shapedefaults": {
           "line": {
            "color": "#2a3f5f"
           }
          },
          "ternary": {
           "aaxis": {
            "gridcolor": "white",
            "linecolor": "white",
            "ticks": ""
           },
           "baxis": {
            "gridcolor": "white",
            "linecolor": "white",
            "ticks": ""
           },
           "bgcolor": "#E5ECF6",
           "caxis": {
            "gridcolor": "white",
            "linecolor": "white",
            "ticks": ""
           }
          },
          "title": {
           "x": 0.05
          },
          "xaxis": {
           "automargin": true,
           "gridcolor": "white",
           "linecolor": "white",
           "ticks": "",
           "title": {
            "standoff": 15
           },
           "zerolinecolor": "white",
           "zerolinewidth": 2
          },
          "yaxis": {
           "automargin": true,
           "gridcolor": "white",
           "linecolor": "white",
           "ticks": "",
           "title": {
            "standoff": 15
           },
           "zerolinecolor": "white",
           "zerolinewidth": 2
          }
         }
        },
        "title": {
         "text": "Percent Anergic Cells in Donor and Recipient Populations"
        },
        "width": 500,
        "xaxis": {
         "anchor": "y",
         "categoryarray": [
          "Control",
          "Experimental"
         ],
         "categoryorder": "array",
         "domain": [
          0,
          1
         ],
         "title": {
          "text": "Group"
         }
        },
        "yaxis": {
         "anchor": "x",
         "domain": [
          0,
          1
         ],
         "title": {
          "text": "Pct Parent"
         }
        }
       }
      }
     },
     "metadata": {},
     "output_type": "display_data"
    }
   ],
   "source": [
    "categorical_plot(cgp, node=[\"Anergic\"], sample_criteria=None, x=\"Group\", color=\"node\", plot_type=\"box\", show_points=True, title=\"Percent Anergic Cells in Donor and Recipient Populations\")"
   ]
  },
  {
   "cell_type": "code",
   "execution_count": null,
   "id": "212a53ac",
   "metadata": {},
   "outputs": [
    {
     "name": "stderr",
     "output_type": "stream",
     "text": [
      "c:\\Users\\bfoley3\\OneDrive - Johns Hopkins\\Hybrid Thymus\\Data Analysis\\FlowDataParser\\src\\cytodataparser\\plotting\\categorical.py:82: FutureWarning:\n",
      "\n",
      "The default of observed=False is deprecated and will be changed to True in a future version of pandas. Pass observed=False to retain current behavior or observed=True to adopt the future default and silence this warning.\n",
      "\n"
     ]
    },
    {
     "data": {
      "application/vnd.plotly.v1+json": {
       "config": {
        "plotlyServerURL": "https://plot.ly"
       },
       "data": [
        {
         "alignmentgroup": "True",
         "box": {
          "visible": false
         },
         "hovertemplate": "Lobe=L<br>MouseID=%{x}<br>pct_parent=%{y}<extra></extra>",
         "legendgroup": "L",
         "marker": {
          "color": "blue"
         },
         "name": "L",
         "offsetgroup": "L",
         "orientation": "v",
         "points": "all",
         "scalegroup": "True",
         "showlegend": true,
         "type": "violin",
         "x": [
          "1",
          "1",
          "L",
          "L",
          "LL",
          "LL",
          "LR",
          "LR",
          "R",
          "R",
          "0",
          "0"
         ],
         "x0": " ",
         "xaxis": "x",
         "y": {
          "bdata": "Qv1oxbuJNEBAOCWwnaFIQAAILvtDs1RA9Lv71a7pS0BiTmBAMfQoQDaH9eOIglZAt8XsPruOVUDLJ/wSU3BIQMnom5b2EldAqAjyw/2PUkCetEiqXz5HQHaDKfJZNwhA",
          "dtype": "f8"
         },
         "y0": " ",
         "yaxis": "y"
        },
        {
         "alignmentgroup": "True",
         "box": {
          "visible": false
         },
         "hovertemplate": "Lobe=R<br>MouseID=%{x}<br>pct_parent=%{y}<extra></extra>",
         "legendgroup": "R",
         "marker": {
          "color": "red"
         },
         "name": "R",
         "offsetgroup": "R",
         "orientation": "v",
         "points": "all",
         "scalegroup": "True",
         "showlegend": true,
         "type": "violin",
         "x": [
          "1",
          "1",
          "L",
          "L",
          "LL",
          "LL",
          "LR",
          "LR",
          "R",
          "R",
          "0",
          "0"
         ],
         "x0": " ",
         "xaxis": "x",
         "y": {
          "bdata": "iH0rnHYYUUBEEZG7NOtDQJENV2NzPC5AKN3/6NDpVkC9pzJyn/5UQMsnWIWcozBAdsqk6k9sUkBnfNCMD9pVQO24vViEMVdAcREqGj+nSkCj2MpaDO9MQG5h5tu1USVA",
          "dtype": "f8"
         },
         "y0": " ",
         "yaxis": "y"
        }
       ],
       "layout": {
        "legend": {
         "title": {
          "text": "Lobe"
         },
         "tracegroupgap": 0
        },
        "margin": {
         "t": 60
        },
        "template": {
         "data": {
          "bar": [
           {
            "error_x": {
             "color": "#2a3f5f"
            },
            "error_y": {
             "color": "#2a3f5f"
            },
            "marker": {
             "line": {
              "color": "#E5ECF6",
              "width": 0.5
             },
             "pattern": {
              "fillmode": "overlay",
              "size": 10,
              "solidity": 0.2
             }
            },
            "type": "bar"
           }
          ],
          "barpolar": [
           {
            "marker": {
             "line": {
              "color": "#E5ECF6",
              "width": 0.5
             },
             "pattern": {
              "fillmode": "overlay",
              "size": 10,
              "solidity": 0.2
             }
            },
            "type": "barpolar"
           }
          ],
          "carpet": [
           {
            "aaxis": {
             "endlinecolor": "#2a3f5f",
             "gridcolor": "white",
             "linecolor": "white",
             "minorgridcolor": "white",
             "startlinecolor": "#2a3f5f"
            },
            "baxis": {
             "endlinecolor": "#2a3f5f",
             "gridcolor": "white",
             "linecolor": "white",
             "minorgridcolor": "white",
             "startlinecolor": "#2a3f5f"
            },
            "type": "carpet"
           }
          ],
          "choropleth": [
           {
            "colorbar": {
             "outlinewidth": 0,
             "ticks": ""
            },
            "type": "choropleth"
           }
          ],
          "contour": [
           {
            "colorbar": {
             "outlinewidth": 0,
             "ticks": ""
            },
            "colorscale": [
             [
              0,
              "#0d0887"
             ],
             [
              0.1111111111111111,
              "#46039f"
             ],
             [
              0.2222222222222222,
              "#7201a8"
             ],
             [
              0.3333333333333333,
              "#9c179e"
             ],
             [
              0.4444444444444444,
              "#bd3786"
             ],
             [
              0.5555555555555556,
              "#d8576b"
             ],
             [
              0.6666666666666666,
              "#ed7953"
             ],
             [
              0.7777777777777778,
              "#fb9f3a"
             ],
             [
              0.8888888888888888,
              "#fdca26"
             ],
             [
              1,
              "#f0f921"
             ]
            ],
            "type": "contour"
           }
          ],
          "contourcarpet": [
           {
            "colorbar": {
             "outlinewidth": 0,
             "ticks": ""
            },
            "type": "contourcarpet"
           }
          ],
          "heatmap": [
           {
            "colorbar": {
             "outlinewidth": 0,
             "ticks": ""
            },
            "colorscale": [
             [
              0,
              "#0d0887"
             ],
             [
              0.1111111111111111,
              "#46039f"
             ],
             [
              0.2222222222222222,
              "#7201a8"
             ],
             [
              0.3333333333333333,
              "#9c179e"
             ],
             [
              0.4444444444444444,
              "#bd3786"
             ],
             [
              0.5555555555555556,
              "#d8576b"
             ],
             [
              0.6666666666666666,
              "#ed7953"
             ],
             [
              0.7777777777777778,
              "#fb9f3a"
             ],
             [
              0.8888888888888888,
              "#fdca26"
             ],
             [
              1,
              "#f0f921"
             ]
            ],
            "type": "heatmap"
           }
          ],
          "histogram": [
           {
            "marker": {
             "pattern": {
              "fillmode": "overlay",
              "size": 10,
              "solidity": 0.2
             }
            },
            "type": "histogram"
           }
          ],
          "histogram2d": [
           {
            "colorbar": {
             "outlinewidth": 0,
             "ticks": ""
            },
            "colorscale": [
             [
              0,
              "#0d0887"
             ],
             [
              0.1111111111111111,
              "#46039f"
             ],
             [
              0.2222222222222222,
              "#7201a8"
             ],
             [
              0.3333333333333333,
              "#9c179e"
             ],
             [
              0.4444444444444444,
              "#bd3786"
             ],
             [
              0.5555555555555556,
              "#d8576b"
             ],
             [
              0.6666666666666666,
              "#ed7953"
             ],
             [
              0.7777777777777778,
              "#fb9f3a"
             ],
             [
              0.8888888888888888,
              "#fdca26"
             ],
             [
              1,
              "#f0f921"
             ]
            ],
            "type": "histogram2d"
           }
          ],
          "histogram2dcontour": [
           {
            "colorbar": {
             "outlinewidth": 0,
             "ticks": ""
            },
            "colorscale": [
             [
              0,
              "#0d0887"
             ],
             [
              0.1111111111111111,
              "#46039f"
             ],
             [
              0.2222222222222222,
              "#7201a8"
             ],
             [
              0.3333333333333333,
              "#9c179e"
             ],
             [
              0.4444444444444444,
              "#bd3786"
             ],
             [
              0.5555555555555556,
              "#d8576b"
             ],
             [
              0.6666666666666666,
              "#ed7953"
             ],
             [
              0.7777777777777778,
              "#fb9f3a"
             ],
             [
              0.8888888888888888,
              "#fdca26"
             ],
             [
              1,
              "#f0f921"
             ]
            ],
            "type": "histogram2dcontour"
           }
          ],
          "mesh3d": [
           {
            "colorbar": {
             "outlinewidth": 0,
             "ticks": ""
            },
            "type": "mesh3d"
           }
          ],
          "parcoords": [
           {
            "line": {
             "colorbar": {
              "outlinewidth": 0,
              "ticks": ""
             }
            },
            "type": "parcoords"
           }
          ],
          "pie": [
           {
            "automargin": true,
            "type": "pie"
           }
          ],
          "scatter": [
           {
            "fillpattern": {
             "fillmode": "overlay",
             "size": 10,
             "solidity": 0.2
            },
            "type": "scatter"
           }
          ],
          "scatter3d": [
           {
            "line": {
             "colorbar": {
              "outlinewidth": 0,
              "ticks": ""
             }
            },
            "marker": {
             "colorbar": {
              "outlinewidth": 0,
              "ticks": ""
             }
            },
            "type": "scatter3d"
           }
          ],
          "scattercarpet": [
           {
            "marker": {
             "colorbar": {
              "outlinewidth": 0,
              "ticks": ""
             }
            },
            "type": "scattercarpet"
           }
          ],
          "scattergeo": [
           {
            "marker": {
             "colorbar": {
              "outlinewidth": 0,
              "ticks": ""
             }
            },
            "type": "scattergeo"
           }
          ],
          "scattergl": [
           {
            "marker": {
             "colorbar": {
              "outlinewidth": 0,
              "ticks": ""
             }
            },
            "type": "scattergl"
           }
          ],
          "scattermap": [
           {
            "marker": {
             "colorbar": {
              "outlinewidth": 0,
              "ticks": ""
             }
            },
            "type": "scattermap"
           }
          ],
          "scattermapbox": [
           {
            "marker": {
             "colorbar": {
              "outlinewidth": 0,
              "ticks": ""
             }
            },
            "type": "scattermapbox"
           }
          ],
          "scatterpolar": [
           {
            "marker": {
             "colorbar": {
              "outlinewidth": 0,
              "ticks": ""
             }
            },
            "type": "scatterpolar"
           }
          ],
          "scatterpolargl": [
           {
            "marker": {
             "colorbar": {
              "outlinewidth": 0,
              "ticks": ""
             }
            },
            "type": "scatterpolargl"
           }
          ],
          "scatterternary": [
           {
            "marker": {
             "colorbar": {
              "outlinewidth": 0,
              "ticks": ""
             }
            },
            "type": "scatterternary"
           }
          ],
          "surface": [
           {
            "colorbar": {
             "outlinewidth": 0,
             "ticks": ""
            },
            "colorscale": [
             [
              0,
              "#0d0887"
             ],
             [
              0.1111111111111111,
              "#46039f"
             ],
             [
              0.2222222222222222,
              "#7201a8"
             ],
             [
              0.3333333333333333,
              "#9c179e"
             ],
             [
              0.4444444444444444,
              "#bd3786"
             ],
             [
              0.5555555555555556,
              "#d8576b"
             ],
             [
              0.6666666666666666,
              "#ed7953"
             ],
             [
              0.7777777777777778,
              "#fb9f3a"
             ],
             [
              0.8888888888888888,
              "#fdca26"
             ],
             [
              1,
              "#f0f921"
             ]
            ],
            "type": "surface"
           }
          ],
          "table": [
           {
            "cells": {
             "fill": {
              "color": "#EBF0F8"
             },
             "line": {
              "color": "white"
             }
            },
            "header": {
             "fill": {
              "color": "#C8D4E3"
             },
             "line": {
              "color": "white"
             }
            },
            "type": "table"
           }
          ]
         },
         "layout": {
          "annotationdefaults": {
           "arrowcolor": "#2a3f5f",
           "arrowhead": 0,
           "arrowwidth": 1
          },
          "autotypenumbers": "strict",
          "coloraxis": {
           "colorbar": {
            "outlinewidth": 0,
            "ticks": ""
           }
          },
          "colorscale": {
           "diverging": [
            [
             0,
             "#8e0152"
            ],
            [
             0.1,
             "#c51b7d"
            ],
            [
             0.2,
             "#de77ae"
            ],
            [
             0.3,
             "#f1b6da"
            ],
            [
             0.4,
             "#fde0ef"
            ],
            [
             0.5,
             "#f7f7f7"
            ],
            [
             0.6,
             "#e6f5d0"
            ],
            [
             0.7,
             "#b8e186"
            ],
            [
             0.8,
             "#7fbc41"
            ],
            [
             0.9,
             "#4d9221"
            ],
            [
             1,
             "#276419"
            ]
           ],
           "sequential": [
            [
             0,
             "#0d0887"
            ],
            [
             0.1111111111111111,
             "#46039f"
            ],
            [
             0.2222222222222222,
             "#7201a8"
            ],
            [
             0.3333333333333333,
             "#9c179e"
            ],
            [
             0.4444444444444444,
             "#bd3786"
            ],
            [
             0.5555555555555556,
             "#d8576b"
            ],
            [
             0.6666666666666666,
             "#ed7953"
            ],
            [
             0.7777777777777778,
             "#fb9f3a"
            ],
            [
             0.8888888888888888,
             "#fdca26"
            ],
            [
             1,
             "#f0f921"
            ]
           ],
           "sequentialminus": [
            [
             0,
             "#0d0887"
            ],
            [
             0.1111111111111111,
             "#46039f"
            ],
            [
             0.2222222222222222,
             "#7201a8"
            ],
            [
             0.3333333333333333,
             "#9c179e"
            ],
            [
             0.4444444444444444,
             "#bd3786"
            ],
            [
             0.5555555555555556,
             "#d8576b"
            ],
            [
             0.6666666666666666,
             "#ed7953"
            ],
            [
             0.7777777777777778,
             "#fb9f3a"
            ],
            [
             0.8888888888888888,
             "#fdca26"
            ],
            [
             1,
             "#f0f921"
            ]
           ]
          },
          "colorway": [
           "#636efa",
           "#EF553B",
           "#00cc96",
           "#ab63fa",
           "#FFA15A",
           "#19d3f3",
           "#FF6692",
           "#B6E880",
           "#FF97FF",
           "#FECB52"
          ],
          "font": {
           "color": "#2a3f5f"
          },
          "geo": {
           "bgcolor": "white",
           "lakecolor": "white",
           "landcolor": "#E5ECF6",
           "showlakes": true,
           "showland": true,
           "subunitcolor": "white"
          },
          "hoverlabel": {
           "align": "left"
          },
          "hovermode": "closest",
          "mapbox": {
           "style": "light"
          },
          "paper_bgcolor": "white",
          "plot_bgcolor": "#E5ECF6",
          "polar": {
           "angularaxis": {
            "gridcolor": "white",
            "linecolor": "white",
            "ticks": ""
           },
           "bgcolor": "#E5ECF6",
           "radialaxis": {
            "gridcolor": "white",
            "linecolor": "white",
            "ticks": ""
           }
          },
          "scene": {
           "xaxis": {
            "backgroundcolor": "#E5ECF6",
            "gridcolor": "white",
            "gridwidth": 2,
            "linecolor": "white",
            "showbackground": true,
            "ticks": "",
            "zerolinecolor": "white"
           },
           "yaxis": {
            "backgroundcolor": "#E5ECF6",
            "gridcolor": "white",
            "gridwidth": 2,
            "linecolor": "white",
            "showbackground": true,
            "ticks": "",
            "zerolinecolor": "white"
           },
           "zaxis": {
            "backgroundcolor": "#E5ECF6",
            "gridcolor": "white",
            "gridwidth": 2,
            "linecolor": "white",
            "showbackground": true,
            "ticks": "",
            "zerolinecolor": "white"
           }
          },
          "shapedefaults": {
           "line": {
            "color": "#2a3f5f"
           }
          },
          "ternary": {
           "aaxis": {
            "gridcolor": "white",
            "linecolor": "white",
            "ticks": ""
           },
           "baxis": {
            "gridcolor": "white",
            "linecolor": "white",
            "ticks": ""
           },
           "bgcolor": "#E5ECF6",
           "caxis": {
            "gridcolor": "white",
            "linecolor": "white",
            "ticks": ""
           }
          },
          "title": {
           "x": 0.05
          },
          "xaxis": {
           "automargin": true,
           "gridcolor": "white",
           "linecolor": "white",
           "ticks": "",
           "title": {
            "standoff": 15
           },
           "zerolinecolor": "white",
           "zerolinewidth": 2
          },
          "yaxis": {
           "automargin": true,
           "gridcolor": "white",
           "linecolor": "white",
           "ticks": "",
           "title": {
            "standoff": 15
           },
           "zerolinecolor": "white",
           "zerolinewidth": 2
          }
         }
        },
        "violinmode": "group",
        "xaxis": {
         "anchor": "y",
         "categoryarray": [
          "0",
          "1",
          "L",
          "LL",
          "LR",
          "R"
         ],
         "categoryorder": "array",
         "domain": [
          0,
          1
         ],
         "title": {
          "text": "MouseID"
         }
        },
        "yaxis": {
         "anchor": "x",
         "domain": [
          0,
          1
         ],
         "title": {
          "text": "pct_parent"
         }
        }
       }
      }
     },
     "metadata": {},
     "output_type": "display_data"
    }
   ],
   "source": [
    "#TODO: Points in this case are outside of the violins\n",
    "categorical_plot(cgp, node=[\"CD4+\"], sample_criteria=None, x=\"MouseID\", color=\"Lobe\", plot_type=\"violin\", show_points=True)"
   ]
  },
  {
   "cell_type": "markdown",
   "id": "4fef9e3f",
   "metadata": {},
   "source": [
    "# Stats Testing"
   ]
  },
  {
   "cell_type": "code",
   "execution_count": 2,
   "id": "fc31a222",
   "metadata": {},
   "outputs": [],
   "source": [
    "from cytodataparser.analysis import summary, testing"
   ]
  },
  {
   "cell_type": "code",
   "execution_count": 3,
   "id": "d94ff99e",
   "metadata": {},
   "outputs": [],
   "source": [
    "df = pl.read_excel(r\"C:\\Users\\bfoley3\\OneDrive - Johns Hopkins\\Hybrid Thymus\\Experimental Data\\2025-05-14 Thymocyte Characterization\\2025-05-14 Thymocyte Characterization.xlsx\")\n",
    "cgp = CytoGateParser(df)"
   ]
  },
  {
   "cell_type": "code",
   "execution_count": 4,
   "id": "be401212",
   "metadata": {},
   "outputs": [
    {
     "data": {
      "text/plain": [
       "{'gates': ['Cells/Singlets/Recipient/CD4+'],\n",
       " 'metric': 'pct_parent',\n",
       " 'n_total': 8,\n",
       " 'groupby': 'Lobe',\n",
       " 'n_per_group': {('R',): 4, ('L',): 4},\n",
       " 'group_stats': {('R',): {'mean': 49.555813857222375,\n",
       "   'std': 39.66454157939692,\n",
       "   'median': 45.165742394900754,\n",
       "   'q25': 16.25884726201142,\n",
       "   'q75': 78.46270899011171},\n",
       "  ('L',): {'mean': 61.707266364848934,\n",
       "   'std': 36.49329105164335,\n",
       "   'median': 71.02791332203867,\n",
       "   'q25': 44.98847061526951,\n",
       "   'q75': 87.74670907161811}}}"
      ]
     },
     "execution_count": 4,
     "metadata": {},
     "output_type": "execute_result"
    }
   ],
   "source": [
    "summary.describe_metric(cgp, node=[\"Recipient\", \"CD4+\"], sample_criteria={\"Strain\": \"== B6\"}, groupby=\"Lobe\")"
   ]
  },
  {
   "cell_type": "code",
   "execution_count": 6,
   "id": "af7c4c13",
   "metadata": {},
   "outputs": [
    {
     "data": {
      "text/plain": [
       "{'test': 'welch_t_test',\n",
       " 'metric': 'pct_parent',\n",
       " 'paired': False,\n",
       " 'groupby': 'Strain',\n",
       " 'groups': ['F1', 'B6'],\n",
       " 'n_per_group': {'F1': 4, 'B6': 8},\n",
       " 'statistic': -8.682978980913258,\n",
       " 'p_value': 5.862985332299878e-06,\n",
       " 'group_means': {'F1': 4.26308769531631, 'B6': 37.99310460333008},\n",
       " 'group_stds': {'F1': 4.4574801494159475, 'B6': 8.999084091562345},\n",
       " 'significant': True}"
      ]
     },
     "execution_count": 6,
     "metadata": {},
     "output_type": "execute_result"
    }
   ],
   "source": [
    "testing.run_ttest(cgp, node=[\"Donor\", \"CD4+\", \"5\"], groupby=\"Strain\")"
   ]
  },
  {
   "cell_type": "code",
   "execution_count": 7,
   "id": "065163db",
   "metadata": {},
   "outputs": [
    {
     "name": "stderr",
     "output_type": "stream",
     "text": [
      "c:\\Users\\bfoley3\\OneDrive - Johns Hopkins\\Hybrid Thymus\\Data Analysis\\FlowDataParser\\src\\cytodataparser\\analysis\\testing.py:217: UserWarning: ANOVA assumption of equal variances not met. Falling back to Kruskal–Wallis test.\n",
      "  warnings.warn(\n",
      "c:\\Users\\bfoley3\\OneDrive - Johns Hopkins\\Hybrid Thymus\\Data Analysis\\FlowDataParser\\src\\cytodataparser\\analysis\\testing.py:260: UserWarning: ANOVA p-value was not statistically significant (p = 0.841). Post-hoc results may not be meaningful.\n",
      "  warnings.warn(\n"
     ]
    },
    {
     "data": {
      "text/plain": [
       "{'test': 'kruskal',\n",
       " 'gate': ['Cells/Singlets/Donor/CD4+/5'],\n",
       " 'metric': 'pct_parent',\n",
       " 'groupby': 'MouseID',\n",
       " 'groups': ['L', 'LL', 'LR', 'R'],\n",
       " 'n_per_group': {'L': 2, 'LL': 2, 'LR': 2, 'R': 2},\n",
       " 'statistic': 0.8333333333333321,\n",
       " 'p_value': 0.8414786391315312,\n",
       " 'group_means': {'L': 40.06297214390288,\n",
       "  'LL': 32.80146663488259,\n",
       "  'LR': 37.80006942919051,\n",
       "  'R': 41.30791020534437},\n",
       " 'group_stds': {'L': 16.137657904664685,\n",
       "  'LL': 1.7461284996842408,\n",
       "  'LR': 13.185657428446303,\n",
       "  'R': 6.710049316230868},\n",
       " 'assumption_check': {'normality': True, 'equal_variance': False},\n",
       " 'posthoc': {'test': 'dunn',\n",
       "  'comparisons': [{'group1': 'L',\n",
       "    'group2': 'LL',\n",
       "    'p_value': 1.0,\n",
       "    'mean_diff': 7.261505509020296},\n",
       "   {'group1': 'L',\n",
       "    'group2': 'LR',\n",
       "    'p_value': 1.0,\n",
       "    'mean_diff': 2.262902714712375},\n",
       "   {'group1': 'L',\n",
       "    'group2': 'R',\n",
       "    'p_value': 1.0,\n",
       "    'mean_diff': -1.2449380614414878},\n",
       "   {'group1': 'LL',\n",
       "    'group2': 'LR',\n",
       "    'p_value': 1.0,\n",
       "    'mean_diff': -4.998602794307921},\n",
       "   {'group1': 'LL',\n",
       "    'group2': 'R',\n",
       "    'p_value': 1.0,\n",
       "    'mean_diff': -8.506443570461784},\n",
       "   {'group1': 'LR',\n",
       "    'group2': 'R',\n",
       "    'p_value': 1.0,\n",
       "    'mean_diff': -3.507840776153863}]}}"
      ]
     },
     "execution_count": 7,
     "metadata": {},
     "output_type": "execute_result"
    }
   ],
   "source": [
    "testing.run_anova(cgp, node=[\"Donor\", \"CD4+\", \"5\"], sample_criteria={\"Strain\": \"== B6\"}, groupby=\"MouseID\")"
   ]
  },
  {
   "cell_type": "code",
   "execution_count": 8,
   "id": "cb8fc2fe",
   "metadata": {},
   "outputs": [
    {
     "name": "stderr",
     "output_type": "stream",
     "text": [
      "c:\\Users\\bfoley3\\OneDrive - Johns Hopkins\\Hybrid Thymus\\Data Analysis\\FlowDataParser\\src\\cytodataparser\\analysis\\testing.py:335: UserWarning: Chi-squared test assumption warning: 4 of 4 cells (100.0%) have expected counts < 5. Interpret the p-value with caution.\n",
      "  warnings.warn(\n"
     ]
    },
    {
     "data": {
      "text/plain": [
       "{'test': 'chi2',\n",
       " 'row_field': 'Strain',\n",
       " 'col_field': 'Lobe',\n",
       " 'row_labels': ['B6', 'F1'],\n",
       " 'col_labels': ['L', 'R'],\n",
       " 'chi2': 0.0,\n",
       " 'p_value': 1.0,\n",
       " 'degrees_of_freedom': 1,\n",
       " 'observed': [[4, 4], [2, 2]],\n",
       " 'expected': [[4.0, 4.0], [2.0, 2.0]]}"
      ]
     },
     "execution_count": 8,
     "metadata": {},
     "output_type": "execute_result"
    }
   ],
   "source": [
    "testing.run_chi2_test(cgp, row_field=\"Strain\", col_field=\"Lobe\")"
   ]
  },
  {
   "cell_type": "code",
   "execution_count": 9,
   "id": "f21fe91c",
   "metadata": {},
   "outputs": [
    {
     "data": {
      "text/plain": [
       "{'test': 'correlation',\n",
       " 'method': 'pearson',\n",
       " 'gates': ['Donor/CD4+/5', 'Recipient/CD4+/5'],\n",
       " 'metrics': 'Count',\n",
       " 'n': 12,\n",
       " 'correlation': -0.143888658994571,\n",
       " 'p_value': 0.6554936985187627}"
      ]
     },
     "execution_count": 9,
     "metadata": {},
     "output_type": "execute_result"
    }
   ],
   "source": [
    "testing.run_correlation(cgp, node_a=[\"Donor\", \"CD4+\", \"5\"], node_b=[\"Recipient\", \"CD4+\", \"5\"])"
   ]
  },
  {
   "cell_type": "code",
   "execution_count": 10,
   "id": "d7c9448d",
   "metadata": {},
   "outputs": [
    {
     "data": {
      "text/plain": [
       "{'test': 'correlation',\n",
       " 'method': 'pearson',\n",
       " 'gates': ['Donor/CD4+/5:Count', 'Donor/CD4+/5:pct_parent'],\n",
       " 'metrics': 'Count vs pct_parent',\n",
       " 'n': 12,\n",
       " 'correlation': 0.6029104493145697,\n",
       " 'p_value': 0.03797428767841035}"
      ]
     },
     "execution_count": 10,
     "metadata": {},
     "output_type": "execute_result"
    }
   ],
   "source": [
    "testing.run_correlation(cgp, node_a=[\"Donor\", \"CD4+\", \"5\"], metric=[\"Count\", \"pct_parent\"])"
   ]
  }
 ],
 "metadata": {
  "kernelspec": {
   "display_name": "flow-analysis",
   "language": "python",
   "name": "python3"
  },
  "language_info": {
   "codemirror_mode": {
    "name": "ipython",
    "version": 3
   },
   "file_extension": ".py",
   "mimetype": "text/x-python",
   "name": "python",
   "nbconvert_exporter": "python",
   "pygments_lexer": "ipython3",
   "version": "3.13.5"
  }
 },
 "nbformat": 4,
 "nbformat_minor": 5
}
