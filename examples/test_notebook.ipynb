{
 "cells": [
  {
   "cell_type": "code",
   "execution_count": 1,
   "id": "0165684f",
   "metadata": {},
   "outputs": [],
   "source": [
    "import sys\n",
    "import os\n",
    "import polars as pl\n",
    "sys.path.insert(0, os.path.abspath(os.path.join(os.pardir, \"src\")))\n",
    "from cytodataparser import CytoGateParser"
   ]
  },
  {
   "cell_type": "markdown",
   "id": "9177ea75",
   "metadata": {},
   "source": [
    "# Structures/Core Testing"
   ]
  },
  {
   "cell_type": "markdown",
   "id": "2150184e",
   "metadata": {},
   "source": [
    "## GateNode Testing"
   ]
  },
  {
   "cell_type": "code",
   "execution_count": 2,
   "id": "3e4ceba1",
   "metadata": {},
   "outputs": [],
   "source": [
    "from cytodataparser.structures import GateNode"
   ]
  },
  {
   "cell_type": "code",
   "execution_count": 3,
   "id": "213f4245",
   "metadata": {},
   "outputs": [],
   "source": [
    "root = GateNode(\"Root\")\n",
    "child = GateNode(\"Root/Child\", parent=root)\n",
    "root.add_child(child)\n",
    "\n",
    "assert root.is_root()\n",
    "assert not root.is_leaf()\n",
    "assert child.is_leaf()\n",
    "assert child.depth() == 1\n",
    "assert root.height() == 1\n",
    "assert child.parent == root\n",
    "assert root.children == [child]"
   ]
  },
  {
   "cell_type": "markdown",
   "id": "29ea7f75",
   "metadata": {},
   "source": [
    "## GateTree Testing"
   ]
  },
  {
   "cell_type": "code",
   "execution_count": 4,
   "id": "bd53eb9b",
   "metadata": {},
   "outputs": [],
   "source": [
    "from cytodataparser.structures import GateTree\n",
    "import polars as pl"
   ]
  },
  {
   "cell_type": "code",
   "execution_count": 5,
   "id": "34b5c6ee",
   "metadata": {},
   "outputs": [],
   "source": [
    "row = pl.DataFrame({\n",
    "    \"Cells | Count\": [1000, 10],\n",
    "    \"Cells/CD4 | Count\": [600, 1],\n",
    "    \"Cells/CD4/Living | Count\": [500, 1],\n",
    "    \"Cells/CD4/Living/Next | Count\": [300, 1],\n",
    "    \"Cells/CD4/Living/Next/No | Count\": [300, 1],\n",
    "    \"Cells/CD8 | Count\": [400, 20],\n",
    "}).row(0, named=True)\n",
    "tree = GateTree(row)\n",
    "assert tree.root.name == \"Cells\"\n",
    "assert \"Cells/CD4\" in tree.nodes\n",
    "assert tree.get_nodes(\"Cells/CD8\")[0].measures[\"Count\"] == 400\n",
    "assert tree.get_nodes(\"Cells/CD8\")[0].measures[\"pct_parent\"] == 400 / 1000 * 100\n",
    "assert tree.max_depth() == 4\n",
    "assert tree.get_nodes(\"Cells/CD4/Ungated\")[0].measures[\"Count\"] == 100\n"
   ]
  },
  {
   "cell_type": "markdown",
   "id": "fe379e76",
   "metadata": {},
   "source": [
    "## Test Utils"
   ]
  },
  {
   "cell_type": "code",
   "execution_count": 6,
   "id": "0eb0b159",
   "metadata": {},
   "outputs": [],
   "source": [
    "from cytodataparser.utils.predicates import parse_string_condition, from_range, matches_regex"
   ]
  },
  {
   "cell_type": "code",
   "execution_count": 7,
   "id": "ab260483",
   "metadata": {},
   "outputs": [],
   "source": [
    "cond = parse_string_condition(\"> 10 and < 20\")\n",
    "assert cond(15)\n",
    "assert not cond(25)\n",
    "\n",
    "cond = parse_string_condition(\"== 10\")\n",
    "assert cond(10)\n",
    "assert not cond(15)\n",
    "\n",
    "cond = parse_string_condition(\"<= 10\")\n",
    "assert cond(9)\n",
    "assert not cond(15)\n",
    "\n",
    "cond = parse_string_condition(\">= 10\")\n",
    "assert not cond(9)\n",
    "assert cond(15)\n",
    "\n",
    "cond = parse_string_condition(\"!= 10\")\n",
    "assert cond(9)\n",
    "assert not cond(10)\n",
    "\n",
    "cond = parse_string_condition(\"!= Hello\")\n",
    "assert not cond(\"Hello\")\n",
    "assert cond(\"Goodbye\")\n",
    "\n",
    "cond = from_range(range(10, 20))\n",
    "assert cond(15)\n",
    "assert not cond(25)\n",
    "\n",
    "cond = matches_regex(r\"^AB\\d{3}Z$\")\n",
    "assert cond(\"AB123Z\")\n",
    "assert not cond(\"AB12Z\")"
   ]
  },
  {
   "cell_type": "markdown",
   "id": "8e8b9f22",
   "metadata": {},
   "source": [
    "## Test Core"
   ]
  },
  {
   "cell_type": "code",
   "execution_count": 8,
   "id": "12463e8b",
   "metadata": {},
   "outputs": [],
   "source": [
    "from cytodataparser import CytoGateParser"
   ]
  },
  {
   "cell_type": "code",
   "execution_count": 9,
   "id": "30d16999",
   "metadata": {},
   "outputs": [],
   "source": [
    "df = pl.DataFrame({\n",
    "    \"MouseID\": [\"A\", \"B\"],\n",
    "    \"Strain\": [\"B6\", \"F1\"],\n",
    "    \"Cells | Count\": [1000, 900],\n",
    "    \"Cells/CD4 | Count\": [500, 300],\n",
    "})\n",
    "parser = CytoGateParser(df)\n",
    "assert len(parser) == 2\n",
    "assert parser.get_metadata(0)[\"Strain\"] == \"B6\"\n",
    "match = parser.find_samples({\"Strain\": \"== F1\"})\n",
    "assert len(match) == 1"
   ]
  },
  {
   "cell_type": "markdown",
   "id": "fbb82e63",
   "metadata": {},
   "source": [
    "# Plotting Testing"
   ]
  },
  {
   "cell_type": "code",
   "execution_count": 10,
   "id": "67b567b0",
   "metadata": {},
   "outputs": [],
   "source": [
    "from cytodataparser.plotting import categorical_plot\n",
    "from cytodataparser import CytoGateParser\n",
    "from cytodataparser.utils import helpers\n",
    "import polars as pl"
   ]
  },
  {
   "cell_type": "code",
   "execution_count": 11,
   "id": "5f3d3b5e",
   "metadata": {},
   "outputs": [],
   "source": [
    "df = pl.read_excel(r\"C:\\Users\\bfoley3\\OneDrive - Johns Hopkins\\Hybrid Thymus\\Experimental Data\\2025-05-14 Thymocyte Characterization\\2025-05-14 Thymocyte Characterization.xlsx\")"
   ]
  },
  {
   "cell_type": "code",
   "execution_count": 12,
   "id": "3a0b76c1",
   "metadata": {},
   "outputs": [],
   "source": [
    "cgp = CytoGateParser(df)"
   ]
  },
  {
   "cell_type": "code",
   "execution_count": 14,
   "id": "c4b8df69",
   "metadata": {},
   "outputs": [
    {
     "name": "stdout",
     "output_type": "stream",
     "text": [
      "Running ANOVA\n",
      "Warning: significance annotation failed — unhashable type: 'list'\n"
     ]
    },
    {
     "data": {
      "application/vnd.plotly.v1+json": {
       "config": {
        "plotlyServerURL": "https://plot.ly"
       },
       "data": [
        {
         "alignmentgroup": "True",
         "error_y": {
          "array": {
           "bdata": "ELFdr30QB0A/mBitWfv/P9zNrRs02iNAvsxRknXuEEDwbvOi5CIaQHAXPC1SLQFA",
           "dtype": "f8"
          }
         },
         "hovertemplate": "node=Cells/Singlets/Donor/CD4+/1<br>MouseID=%{x}<br>mean=%{y}<extra></extra>",
         "legendgroup": "Cells/Singlets/Donor/CD4+/1",
         "marker": {
          "color": "#EF553B",
          "pattern": {
           "shape": ""
          }
         },
         "name": "Cells/Singlets/Donor/CD4+/1",
         "offsetgroup": "Cells/Singlets/Donor/CD4+/1",
         "orientation": "v",
         "showlegend": true,
         "textposition": "auto",
         "type": "bar",
         "x": [
          "0",
          "1",
          "L",
          "LL",
          "LR",
          "R"
         ],
         "xaxis": "x",
         "y": {
          "bdata": "GhLEf6hBVUDHfDs4pSxXQIgv5mHoWzdAsLUme4vLO0Bs4r65Ap83QPvW2pV3ZjxA",
          "dtype": "f8"
         },
         "yaxis": "y"
        },
        {
         "alignmentgroup": "True",
         "error_y": {
          "array": {
           "bdata": "7SyG3oo0EkBlKq0UOUciQC6Z0PJbZDFAAEI9KO4RAkBghKwCrij8PyAQjOR4LfM/",
           "dtype": "f8"
          }
         },
         "hovertemplate": "node=Cells/Singlets/Recipient/CD4+/1<br>MouseID=%{x}<br>mean=%{y}<extra></extra>",
         "legendgroup": "Cells/Singlets/Recipient/CD4+/1",
         "marker": {
          "color": "#636EFA",
          "pattern": {
           "shape": ""
          }
         },
         "name": "Cells/Singlets/Recipient/CD4+/1",
         "offsetgroup": "Cells/Singlets/Recipient/CD4+/1",
         "orientation": "v",
         "showlegend": true,
         "textposition": "auto",
         "type": "bar",
         "x": [
          "0",
          "1",
          "L",
          "LL",
          "LR",
          "R"
         ],
         "xaxis": "x",
         "y": {
          "bdata": "7SUeyufnQECQygxjyHVEQLJ6hFBSfFJAcYE3EsF7REDaTnXXACxVQHQnsAngQ1VA",
          "dtype": "f8"
         },
         "yaxis": "y"
        }
       ],
       "layout": {
        "barmode": "group",
        "legend": {
         "title": {
          "text": "node"
         },
         "tracegroupgap": 0
        },
        "margin": {
         "b": 40,
         "l": 40,
         "r": 40,
         "t": 100
        },
        "template": {
         "data": {
          "bar": [
           {
            "error_x": {
             "color": "#2a3f5f"
            },
            "error_y": {
             "color": "#2a3f5f"
            },
            "marker": {
             "line": {
              "color": "#E5ECF6",
              "width": 0.5
             },
             "pattern": {
              "fillmode": "overlay",
              "size": 10,
              "solidity": 0.2
             }
            },
            "type": "bar"
           }
          ],
          "barpolar": [
           {
            "marker": {
             "line": {
              "color": "#E5ECF6",
              "width": 0.5
             },
             "pattern": {
              "fillmode": "overlay",
              "size": 10,
              "solidity": 0.2
             }
            },
            "type": "barpolar"
           }
          ],
          "carpet": [
           {
            "aaxis": {
             "endlinecolor": "#2a3f5f",
             "gridcolor": "white",
             "linecolor": "white",
             "minorgridcolor": "white",
             "startlinecolor": "#2a3f5f"
            },
            "baxis": {
             "endlinecolor": "#2a3f5f",
             "gridcolor": "white",
             "linecolor": "white",
             "minorgridcolor": "white",
             "startlinecolor": "#2a3f5f"
            },
            "type": "carpet"
           }
          ],
          "choropleth": [
           {
            "colorbar": {
             "outlinewidth": 0,
             "ticks": ""
            },
            "type": "choropleth"
           }
          ],
          "contour": [
           {
            "colorbar": {
             "outlinewidth": 0,
             "ticks": ""
            },
            "colorscale": [
             [
              0,
              "#0d0887"
             ],
             [
              0.1111111111111111,
              "#46039f"
             ],
             [
              0.2222222222222222,
              "#7201a8"
             ],
             [
              0.3333333333333333,
              "#9c179e"
             ],
             [
              0.4444444444444444,
              "#bd3786"
             ],
             [
              0.5555555555555556,
              "#d8576b"
             ],
             [
              0.6666666666666666,
              "#ed7953"
             ],
             [
              0.7777777777777778,
              "#fb9f3a"
             ],
             [
              0.8888888888888888,
              "#fdca26"
             ],
             [
              1,
              "#f0f921"
             ]
            ],
            "type": "contour"
           }
          ],
          "contourcarpet": [
           {
            "colorbar": {
             "outlinewidth": 0,
             "ticks": ""
            },
            "type": "contourcarpet"
           }
          ],
          "heatmap": [
           {
            "colorbar": {
             "outlinewidth": 0,
             "ticks": ""
            },
            "colorscale": [
             [
              0,
              "#0d0887"
             ],
             [
              0.1111111111111111,
              "#46039f"
             ],
             [
              0.2222222222222222,
              "#7201a8"
             ],
             [
              0.3333333333333333,
              "#9c179e"
             ],
             [
              0.4444444444444444,
              "#bd3786"
             ],
             [
              0.5555555555555556,
              "#d8576b"
             ],
             [
              0.6666666666666666,
              "#ed7953"
             ],
             [
              0.7777777777777778,
              "#fb9f3a"
             ],
             [
              0.8888888888888888,
              "#fdca26"
             ],
             [
              1,
              "#f0f921"
             ]
            ],
            "type": "heatmap"
           }
          ],
          "histogram": [
           {
            "marker": {
             "pattern": {
              "fillmode": "overlay",
              "size": 10,
              "solidity": 0.2
             }
            },
            "type": "histogram"
           }
          ],
          "histogram2d": [
           {
            "colorbar": {
             "outlinewidth": 0,
             "ticks": ""
            },
            "colorscale": [
             [
              0,
              "#0d0887"
             ],
             [
              0.1111111111111111,
              "#46039f"
             ],
             [
              0.2222222222222222,
              "#7201a8"
             ],
             [
              0.3333333333333333,
              "#9c179e"
             ],
             [
              0.4444444444444444,
              "#bd3786"
             ],
             [
              0.5555555555555556,
              "#d8576b"
             ],
             [
              0.6666666666666666,
              "#ed7953"
             ],
             [
              0.7777777777777778,
              "#fb9f3a"
             ],
             [
              0.8888888888888888,
              "#fdca26"
             ],
             [
              1,
              "#f0f921"
             ]
            ],
            "type": "histogram2d"
           }
          ],
          "histogram2dcontour": [
           {
            "colorbar": {
             "outlinewidth": 0,
             "ticks": ""
            },
            "colorscale": [
             [
              0,
              "#0d0887"
             ],
             [
              0.1111111111111111,
              "#46039f"
             ],
             [
              0.2222222222222222,
              "#7201a8"
             ],
             [
              0.3333333333333333,
              "#9c179e"
             ],
             [
              0.4444444444444444,
              "#bd3786"
             ],
             [
              0.5555555555555556,
              "#d8576b"
             ],
             [
              0.6666666666666666,
              "#ed7953"
             ],
             [
              0.7777777777777778,
              "#fb9f3a"
             ],
             [
              0.8888888888888888,
              "#fdca26"
             ],
             [
              1,
              "#f0f921"
             ]
            ],
            "type": "histogram2dcontour"
           }
          ],
          "mesh3d": [
           {
            "colorbar": {
             "outlinewidth": 0,
             "ticks": ""
            },
            "type": "mesh3d"
           }
          ],
          "parcoords": [
           {
            "line": {
             "colorbar": {
              "outlinewidth": 0,
              "ticks": ""
             }
            },
            "type": "parcoords"
           }
          ],
          "pie": [
           {
            "automargin": true,
            "type": "pie"
           }
          ],
          "scatter": [
           {
            "fillpattern": {
             "fillmode": "overlay",
             "size": 10,
             "solidity": 0.2
            },
            "type": "scatter"
           }
          ],
          "scatter3d": [
           {
            "line": {
             "colorbar": {
              "outlinewidth": 0,
              "ticks": ""
             }
            },
            "marker": {
             "colorbar": {
              "outlinewidth": 0,
              "ticks": ""
             }
            },
            "type": "scatter3d"
           }
          ],
          "scattercarpet": [
           {
            "marker": {
             "colorbar": {
              "outlinewidth": 0,
              "ticks": ""
             }
            },
            "type": "scattercarpet"
           }
          ],
          "scattergeo": [
           {
            "marker": {
             "colorbar": {
              "outlinewidth": 0,
              "ticks": ""
             }
            },
            "type": "scattergeo"
           }
          ],
          "scattergl": [
           {
            "marker": {
             "colorbar": {
              "outlinewidth": 0,
              "ticks": ""
             }
            },
            "type": "scattergl"
           }
          ],
          "scattermap": [
           {
            "marker": {
             "colorbar": {
              "outlinewidth": 0,
              "ticks": ""
             }
            },
            "type": "scattermap"
           }
          ],
          "scattermapbox": [
           {
            "marker": {
             "colorbar": {
              "outlinewidth": 0,
              "ticks": ""
             }
            },
            "type": "scattermapbox"
           }
          ],
          "scatterpolar": [
           {
            "marker": {
             "colorbar": {
              "outlinewidth": 0,
              "ticks": ""
             }
            },
            "type": "scatterpolar"
           }
          ],
          "scatterpolargl": [
           {
            "marker": {
             "colorbar": {
              "outlinewidth": 0,
              "ticks": ""
             }
            },
            "type": "scatterpolargl"
           }
          ],
          "scatterternary": [
           {
            "marker": {
             "colorbar": {
              "outlinewidth": 0,
              "ticks": ""
             }
            },
            "type": "scatterternary"
           }
          ],
          "surface": [
           {
            "colorbar": {
             "outlinewidth": 0,
             "ticks": ""
            },
            "colorscale": [
             [
              0,
              "#0d0887"
             ],
             [
              0.1111111111111111,
              "#46039f"
             ],
             [
              0.2222222222222222,
              "#7201a8"
             ],
             [
              0.3333333333333333,
              "#9c179e"
             ],
             [
              0.4444444444444444,
              "#bd3786"
             ],
             [
              0.5555555555555556,
              "#d8576b"
             ],
             [
              0.6666666666666666,
              "#ed7953"
             ],
             [
              0.7777777777777778,
              "#fb9f3a"
             ],
             [
              0.8888888888888888,
              "#fdca26"
             ],
             [
              1,
              "#f0f921"
             ]
            ],
            "type": "surface"
           }
          ],
          "table": [
           {
            "cells": {
             "fill": {
              "color": "#EBF0F8"
             },
             "line": {
              "color": "white"
             }
            },
            "header": {
             "fill": {
              "color": "#C8D4E3"
             },
             "line": {
              "color": "white"
             }
            },
            "type": "table"
           }
          ]
         },
         "layout": {
          "annotationdefaults": {
           "arrowcolor": "#2a3f5f",
           "arrowhead": 0,
           "arrowwidth": 1
          },
          "autotypenumbers": "strict",
          "coloraxis": {
           "colorbar": {
            "outlinewidth": 0,
            "ticks": ""
           }
          },
          "colorscale": {
           "diverging": [
            [
             0,
             "#8e0152"
            ],
            [
             0.1,
             "#c51b7d"
            ],
            [
             0.2,
             "#de77ae"
            ],
            [
             0.3,
             "#f1b6da"
            ],
            [
             0.4,
             "#fde0ef"
            ],
            [
             0.5,
             "#f7f7f7"
            ],
            [
             0.6,
             "#e6f5d0"
            ],
            [
             0.7,
             "#b8e186"
            ],
            [
             0.8,
             "#7fbc41"
            ],
            [
             0.9,
             "#4d9221"
            ],
            [
             1,
             "#276419"
            ]
           ],
           "sequential": [
            [
             0,
             "#0d0887"
            ],
            [
             0.1111111111111111,
             "#46039f"
            ],
            [
             0.2222222222222222,
             "#7201a8"
            ],
            [
             0.3333333333333333,
             "#9c179e"
            ],
            [
             0.4444444444444444,
             "#bd3786"
            ],
            [
             0.5555555555555556,
             "#d8576b"
            ],
            [
             0.6666666666666666,
             "#ed7953"
            ],
            [
             0.7777777777777778,
             "#fb9f3a"
            ],
            [
             0.8888888888888888,
             "#fdca26"
            ],
            [
             1,
             "#f0f921"
            ]
           ],
           "sequentialminus": [
            [
             0,
             "#0d0887"
            ],
            [
             0.1111111111111111,
             "#46039f"
            ],
            [
             0.2222222222222222,
             "#7201a8"
            ],
            [
             0.3333333333333333,
             "#9c179e"
            ],
            [
             0.4444444444444444,
             "#bd3786"
            ],
            [
             0.5555555555555556,
             "#d8576b"
            ],
            [
             0.6666666666666666,
             "#ed7953"
            ],
            [
             0.7777777777777778,
             "#fb9f3a"
            ],
            [
             0.8888888888888888,
             "#fdca26"
            ],
            [
             1,
             "#f0f921"
            ]
           ]
          },
          "colorway": [
           "#636efa",
           "#EF553B",
           "#00cc96",
           "#ab63fa",
           "#FFA15A",
           "#19d3f3",
           "#FF6692",
           "#B6E880",
           "#FF97FF",
           "#FECB52"
          ],
          "font": {
           "color": "#2a3f5f"
          },
          "geo": {
           "bgcolor": "white",
           "lakecolor": "white",
           "landcolor": "#E5ECF6",
           "showlakes": true,
           "showland": true,
           "subunitcolor": "white"
          },
          "hoverlabel": {
           "align": "left"
          },
          "hovermode": "closest",
          "mapbox": {
           "style": "light"
          },
          "paper_bgcolor": "white",
          "plot_bgcolor": "#E5ECF6",
          "polar": {
           "angularaxis": {
            "gridcolor": "white",
            "linecolor": "white",
            "ticks": ""
           },
           "bgcolor": "#E5ECF6",
           "radialaxis": {
            "gridcolor": "white",
            "linecolor": "white",
            "ticks": ""
           }
          },
          "scene": {
           "xaxis": {
            "backgroundcolor": "#E5ECF6",
            "gridcolor": "white",
            "gridwidth": 2,
            "linecolor": "white",
            "showbackground": true,
            "ticks": "",
            "zerolinecolor": "white"
           },
           "yaxis": {
            "backgroundcolor": "#E5ECF6",
            "gridcolor": "white",
            "gridwidth": 2,
            "linecolor": "white",
            "showbackground": true,
            "ticks": "",
            "zerolinecolor": "white"
           },
           "zaxis": {
            "backgroundcolor": "#E5ECF6",
            "gridcolor": "white",
            "gridwidth": 2,
            "linecolor": "white",
            "showbackground": true,
            "ticks": "",
            "zerolinecolor": "white"
           }
          },
          "shapedefaults": {
           "line": {
            "color": "#2a3f5f"
           }
          },
          "ternary": {
           "aaxis": {
            "gridcolor": "white",
            "linecolor": "white",
            "ticks": ""
           },
           "baxis": {
            "gridcolor": "white",
            "linecolor": "white",
            "ticks": ""
           },
           "bgcolor": "#E5ECF6",
           "caxis": {
            "gridcolor": "white",
            "linecolor": "white",
            "ticks": ""
           }
          },
          "title": {
           "x": 0.05
          },
          "xaxis": {
           "automargin": true,
           "gridcolor": "white",
           "linecolor": "white",
           "ticks": "",
           "title": {
            "standoff": 15
           },
           "zerolinecolor": "white",
           "zerolinewidth": 2
          },
          "yaxis": {
           "automargin": true,
           "gridcolor": "white",
           "linecolor": "white",
           "ticks": "",
           "title": {
            "standoff": 15
           },
           "zerolinecolor": "white",
           "zerolinewidth": 2
          }
         }
        },
        "width": 1000,
        "xaxis": {
         "anchor": "y",
         "domain": [
          0,
          1
         ],
         "title": {
          "text": "Mouseid"
         }
        },
        "yaxis": {
         "anchor": "x",
         "domain": [
          0,
          1
         ],
         "range": [
          0,
          118.37056128293241
         ],
         "title": {
          "text": "Pct Parent"
         }
        }
       }
      }
     },
     "metadata": {},
     "output_type": "display_data"
    }
   ],
   "source": [
    "categorical_plot(cgp, node=[\"1\"], sample_criteria=None, x=\"MouseID\", color=\"node\", plot_type=\"grouped_bar\", show_points=True)"
   ]
  },
  {
   "cell_type": "code",
   "execution_count": null,
   "id": "212a53ac",
   "metadata": {},
   "outputs": [
    {
     "name": "stderr",
     "output_type": "stream",
     "text": [
      "c:\\Users\\bfoley3\\OneDrive - Johns Hopkins\\Hybrid Thymus\\Data Analysis\\FlowDataParser\\src\\cytodataparser\\plotting\\categorical.py:82: FutureWarning:\n",
      "\n",
      "The default of observed=False is deprecated and will be changed to True in a future version of pandas. Pass observed=False to retain current behavior or observed=True to adopt the future default and silence this warning.\n",
      "\n"
     ]
    },
    {
     "data": {
      "application/vnd.plotly.v1+json": {
       "config": {
        "plotlyServerURL": "https://plot.ly"
       },
       "data": [
        {
         "alignmentgroup": "True",
         "box": {
          "visible": false
         },
         "hovertemplate": "Lobe=L<br>MouseID=%{x}<br>pct_parent=%{y}<extra></extra>",
         "legendgroup": "L",
         "marker": {
          "color": "blue"
         },
         "name": "L",
         "offsetgroup": "L",
         "orientation": "v",
         "points": "all",
         "scalegroup": "True",
         "showlegend": true,
         "type": "violin",
         "x": [
          "1",
          "1",
          "L",
          "L",
          "LL",
          "LL",
          "LR",
          "LR",
          "R",
          "R",
          "0",
          "0"
         ],
         "x0": " ",
         "xaxis": "x",
         "y": {
          "bdata": "Qv1oxbuJNEBAOCWwnaFIQAAILvtDs1RA9Lv71a7pS0BiTmBAMfQoQDaH9eOIglZAt8XsPruOVUDLJ/wSU3BIQMnom5b2EldAqAjyw/2PUkCetEiqXz5HQHaDKfJZNwhA",
          "dtype": "f8"
         },
         "y0": " ",
         "yaxis": "y"
        },
        {
         "alignmentgroup": "True",
         "box": {
          "visible": false
         },
         "hovertemplate": "Lobe=R<br>MouseID=%{x}<br>pct_parent=%{y}<extra></extra>",
         "legendgroup": "R",
         "marker": {
          "color": "red"
         },
         "name": "R",
         "offsetgroup": "R",
         "orientation": "v",
         "points": "all",
         "scalegroup": "True",
         "showlegend": true,
         "type": "violin",
         "x": [
          "1",
          "1",
          "L",
          "L",
          "LL",
          "LL",
          "LR",
          "LR",
          "R",
          "R",
          "0",
          "0"
         ],
         "x0": " ",
         "xaxis": "x",
         "y": {
          "bdata": "iH0rnHYYUUBEEZG7NOtDQJENV2NzPC5AKN3/6NDpVkC9pzJyn/5UQMsnWIWcozBAdsqk6k9sUkBnfNCMD9pVQO24vViEMVdAcREqGj+nSkCj2MpaDO9MQG5h5tu1USVA",
          "dtype": "f8"
         },
         "y0": " ",
         "yaxis": "y"
        }
       ],
       "layout": {
        "legend": {
         "title": {
          "text": "Lobe"
         },
         "tracegroupgap": 0
        },
        "margin": {
         "t": 60
        },
        "template": {
         "data": {
          "bar": [
           {
            "error_x": {
             "color": "#2a3f5f"
            },
            "error_y": {
             "color": "#2a3f5f"
            },
            "marker": {
             "line": {
              "color": "#E5ECF6",
              "width": 0.5
             },
             "pattern": {
              "fillmode": "overlay",
              "size": 10,
              "solidity": 0.2
             }
            },
            "type": "bar"
           }
          ],
          "barpolar": [
           {
            "marker": {
             "line": {
              "color": "#E5ECF6",
              "width": 0.5
             },
             "pattern": {
              "fillmode": "overlay",
              "size": 10,
              "solidity": 0.2
             }
            },
            "type": "barpolar"
           }
          ],
          "carpet": [
           {
            "aaxis": {
             "endlinecolor": "#2a3f5f",
             "gridcolor": "white",
             "linecolor": "white",
             "minorgridcolor": "white",
             "startlinecolor": "#2a3f5f"
            },
            "baxis": {
             "endlinecolor": "#2a3f5f",
             "gridcolor": "white",
             "linecolor": "white",
             "minorgridcolor": "white",
             "startlinecolor": "#2a3f5f"
            },
            "type": "carpet"
           }
          ],
          "choropleth": [
           {
            "colorbar": {
             "outlinewidth": 0,
             "ticks": ""
            },
            "type": "choropleth"
           }
          ],
          "contour": [
           {
            "colorbar": {
             "outlinewidth": 0,
             "ticks": ""
            },
            "colorscale": [
             [
              0,
              "#0d0887"
             ],
             [
              0.1111111111111111,
              "#46039f"
             ],
             [
              0.2222222222222222,
              "#7201a8"
             ],
             [
              0.3333333333333333,
              "#9c179e"
             ],
             [
              0.4444444444444444,
              "#bd3786"
             ],
             [
              0.5555555555555556,
              "#d8576b"
             ],
             [
              0.6666666666666666,
              "#ed7953"
             ],
             [
              0.7777777777777778,
              "#fb9f3a"
             ],
             [
              0.8888888888888888,
              "#fdca26"
             ],
             [
              1,
              "#f0f921"
             ]
            ],
            "type": "contour"
           }
          ],
          "contourcarpet": [
           {
            "colorbar": {
             "outlinewidth": 0,
             "ticks": ""
            },
            "type": "contourcarpet"
           }
          ],
          "heatmap": [
           {
            "colorbar": {
             "outlinewidth": 0,
             "ticks": ""
            },
            "colorscale": [
             [
              0,
              "#0d0887"
             ],
             [
              0.1111111111111111,
              "#46039f"
             ],
             [
              0.2222222222222222,
              "#7201a8"
             ],
             [
              0.3333333333333333,
              "#9c179e"
             ],
             [
              0.4444444444444444,
              "#bd3786"
             ],
             [
              0.5555555555555556,
              "#d8576b"
             ],
             [
              0.6666666666666666,
              "#ed7953"
             ],
             [
              0.7777777777777778,
              "#fb9f3a"
             ],
             [
              0.8888888888888888,
              "#fdca26"
             ],
             [
              1,
              "#f0f921"
             ]
            ],
            "type": "heatmap"
           }
          ],
          "histogram": [
           {
            "marker": {
             "pattern": {
              "fillmode": "overlay",
              "size": 10,
              "solidity": 0.2
             }
            },
            "type": "histogram"
           }
          ],
          "histogram2d": [
           {
            "colorbar": {
             "outlinewidth": 0,
             "ticks": ""
            },
            "colorscale": [
             [
              0,
              "#0d0887"
             ],
             [
              0.1111111111111111,
              "#46039f"
             ],
             [
              0.2222222222222222,
              "#7201a8"
             ],
             [
              0.3333333333333333,
              "#9c179e"
             ],
             [
              0.4444444444444444,
              "#bd3786"
             ],
             [
              0.5555555555555556,
              "#d8576b"
             ],
             [
              0.6666666666666666,
              "#ed7953"
             ],
             [
              0.7777777777777778,
              "#fb9f3a"
             ],
             [
              0.8888888888888888,
              "#fdca26"
             ],
             [
              1,
              "#f0f921"
             ]
            ],
            "type": "histogram2d"
           }
          ],
          "histogram2dcontour": [
           {
            "colorbar": {
             "outlinewidth": 0,
             "ticks": ""
            },
            "colorscale": [
             [
              0,
              "#0d0887"
             ],
             [
              0.1111111111111111,
              "#46039f"
             ],
             [
              0.2222222222222222,
              "#7201a8"
             ],
             [
              0.3333333333333333,
              "#9c179e"
             ],
             [
              0.4444444444444444,
              "#bd3786"
             ],
             [
              0.5555555555555556,
              "#d8576b"
             ],
             [
              0.6666666666666666,
              "#ed7953"
             ],
             [
              0.7777777777777778,
              "#fb9f3a"
             ],
             [
              0.8888888888888888,
              "#fdca26"
             ],
             [
              1,
              "#f0f921"
             ]
            ],
            "type": "histogram2dcontour"
           }
          ],
          "mesh3d": [
           {
            "colorbar": {
             "outlinewidth": 0,
             "ticks": ""
            },
            "type": "mesh3d"
           }
          ],
          "parcoords": [
           {
            "line": {
             "colorbar": {
              "outlinewidth": 0,
              "ticks": ""
             }
            },
            "type": "parcoords"
           }
          ],
          "pie": [
           {
            "automargin": true,
            "type": "pie"
           }
          ],
          "scatter": [
           {
            "fillpattern": {
             "fillmode": "overlay",
             "size": 10,
             "solidity": 0.2
            },
            "type": "scatter"
           }
          ],
          "scatter3d": [
           {
            "line": {
             "colorbar": {
              "outlinewidth": 0,
              "ticks": ""
             }
            },
            "marker": {
             "colorbar": {
              "outlinewidth": 0,
              "ticks": ""
             }
            },
            "type": "scatter3d"
           }
          ],
          "scattercarpet": [
           {
            "marker": {
             "colorbar": {
              "outlinewidth": 0,
              "ticks": ""
             }
            },
            "type": "scattercarpet"
           }
          ],
          "scattergeo": [
           {
            "marker": {
             "colorbar": {
              "outlinewidth": 0,
              "ticks": ""
             }
            },
            "type": "scattergeo"
           }
          ],
          "scattergl": [
           {
            "marker": {
             "colorbar": {
              "outlinewidth": 0,
              "ticks": ""
             }
            },
            "type": "scattergl"
           }
          ],
          "scattermap": [
           {
            "marker": {
             "colorbar": {
              "outlinewidth": 0,
              "ticks": ""
             }
            },
            "type": "scattermap"
           }
          ],
          "scattermapbox": [
           {
            "marker": {
             "colorbar": {
              "outlinewidth": 0,
              "ticks": ""
             }
            },
            "type": "scattermapbox"
           }
          ],
          "scatterpolar": [
           {
            "marker": {
             "colorbar": {
              "outlinewidth": 0,
              "ticks": ""
             }
            },
            "type": "scatterpolar"
           }
          ],
          "scatterpolargl": [
           {
            "marker": {
             "colorbar": {
              "outlinewidth": 0,
              "ticks": ""
             }
            },
            "type": "scatterpolargl"
           }
          ],
          "scatterternary": [
           {
            "marker": {
             "colorbar": {
              "outlinewidth": 0,
              "ticks": ""
             }
            },
            "type": "scatterternary"
           }
          ],
          "surface": [
           {
            "colorbar": {
             "outlinewidth": 0,
             "ticks": ""
            },
            "colorscale": [
             [
              0,
              "#0d0887"
             ],
             [
              0.1111111111111111,
              "#46039f"
             ],
             [
              0.2222222222222222,
              "#7201a8"
             ],
             [
              0.3333333333333333,
              "#9c179e"
             ],
             [
              0.4444444444444444,
              "#bd3786"
             ],
             [
              0.5555555555555556,
              "#d8576b"
             ],
             [
              0.6666666666666666,
              "#ed7953"
             ],
             [
              0.7777777777777778,
              "#fb9f3a"
             ],
             [
              0.8888888888888888,
              "#fdca26"
             ],
             [
              1,
              "#f0f921"
             ]
            ],
            "type": "surface"
           }
          ],
          "table": [
           {
            "cells": {
             "fill": {
              "color": "#EBF0F8"
             },
             "line": {
              "color": "white"
             }
            },
            "header": {
             "fill": {
              "color": "#C8D4E3"
             },
             "line": {
              "color": "white"
             }
            },
            "type": "table"
           }
          ]
         },
         "layout": {
          "annotationdefaults": {
           "arrowcolor": "#2a3f5f",
           "arrowhead": 0,
           "arrowwidth": 1
          },
          "autotypenumbers": "strict",
          "coloraxis": {
           "colorbar": {
            "outlinewidth": 0,
            "ticks": ""
           }
          },
          "colorscale": {
           "diverging": [
            [
             0,
             "#8e0152"
            ],
            [
             0.1,
             "#c51b7d"
            ],
            [
             0.2,
             "#de77ae"
            ],
            [
             0.3,
             "#f1b6da"
            ],
            [
             0.4,
             "#fde0ef"
            ],
            [
             0.5,
             "#f7f7f7"
            ],
            [
             0.6,
             "#e6f5d0"
            ],
            [
             0.7,
             "#b8e186"
            ],
            [
             0.8,
             "#7fbc41"
            ],
            [
             0.9,
             "#4d9221"
            ],
            [
             1,
             "#276419"
            ]
           ],
           "sequential": [
            [
             0,
             "#0d0887"
            ],
            [
             0.1111111111111111,
             "#46039f"
            ],
            [
             0.2222222222222222,
             "#7201a8"
            ],
            [
             0.3333333333333333,
             "#9c179e"
            ],
            [
             0.4444444444444444,
             "#bd3786"
            ],
            [
             0.5555555555555556,
             "#d8576b"
            ],
            [
             0.6666666666666666,
             "#ed7953"
            ],
            [
             0.7777777777777778,
             "#fb9f3a"
            ],
            [
             0.8888888888888888,
             "#fdca26"
            ],
            [
             1,
             "#f0f921"
            ]
           ],
           "sequentialminus": [
            [
             0,
             "#0d0887"
            ],
            [
             0.1111111111111111,
             "#46039f"
            ],
            [
             0.2222222222222222,
             "#7201a8"
            ],
            [
             0.3333333333333333,
             "#9c179e"
            ],
            [
             0.4444444444444444,
             "#bd3786"
            ],
            [
             0.5555555555555556,
             "#d8576b"
            ],
            [
             0.6666666666666666,
             "#ed7953"
            ],
            [
             0.7777777777777778,
             "#fb9f3a"
            ],
            [
             0.8888888888888888,
             "#fdca26"
            ],
            [
             1,
             "#f0f921"
            ]
           ]
          },
          "colorway": [
           "#636efa",
           "#EF553B",
           "#00cc96",
           "#ab63fa",
           "#FFA15A",
           "#19d3f3",
           "#FF6692",
           "#B6E880",
           "#FF97FF",
           "#FECB52"
          ],
          "font": {
           "color": "#2a3f5f"
          },
          "geo": {
           "bgcolor": "white",
           "lakecolor": "white",
           "landcolor": "#E5ECF6",
           "showlakes": true,
           "showland": true,
           "subunitcolor": "white"
          },
          "hoverlabel": {
           "align": "left"
          },
          "hovermode": "closest",
          "mapbox": {
           "style": "light"
          },
          "paper_bgcolor": "white",
          "plot_bgcolor": "#E5ECF6",
          "polar": {
           "angularaxis": {
            "gridcolor": "white",
            "linecolor": "white",
            "ticks": ""
           },
           "bgcolor": "#E5ECF6",
           "radialaxis": {
            "gridcolor": "white",
            "linecolor": "white",
            "ticks": ""
           }
          },
          "scene": {
           "xaxis": {
            "backgroundcolor": "#E5ECF6",
            "gridcolor": "white",
            "gridwidth": 2,
            "linecolor": "white",
            "showbackground": true,
            "ticks": "",
            "zerolinecolor": "white"
           },
           "yaxis": {
            "backgroundcolor": "#E5ECF6",
            "gridcolor": "white",
            "gridwidth": 2,
            "linecolor": "white",
            "showbackground": true,
            "ticks": "",
            "zerolinecolor": "white"
           },
           "zaxis": {
            "backgroundcolor": "#E5ECF6",
            "gridcolor": "white",
            "gridwidth": 2,
            "linecolor": "white",
            "showbackground": true,
            "ticks": "",
            "zerolinecolor": "white"
           }
          },
          "shapedefaults": {
           "line": {
            "color": "#2a3f5f"
           }
          },
          "ternary": {
           "aaxis": {
            "gridcolor": "white",
            "linecolor": "white",
            "ticks": ""
           },
           "baxis": {
            "gridcolor": "white",
            "linecolor": "white",
            "ticks": ""
           },
           "bgcolor": "#E5ECF6",
           "caxis": {
            "gridcolor": "white",
            "linecolor": "white",
            "ticks": ""
           }
          },
          "title": {
           "x": 0.05
          },
          "xaxis": {
           "automargin": true,
           "gridcolor": "white",
           "linecolor": "white",
           "ticks": "",
           "title": {
            "standoff": 15
           },
           "zerolinecolor": "white",
           "zerolinewidth": 2
          },
          "yaxis": {
           "automargin": true,
           "gridcolor": "white",
           "linecolor": "white",
           "ticks": "",
           "title": {
            "standoff": 15
           },
           "zerolinecolor": "white",
           "zerolinewidth": 2
          }
         }
        },
        "violinmode": "group",
        "xaxis": {
         "anchor": "y",
         "categoryarray": [
          "0",
          "1",
          "L",
          "LL",
          "LR",
          "R"
         ],
         "categoryorder": "array",
         "domain": [
          0,
          1
         ],
         "title": {
          "text": "MouseID"
         }
        },
        "yaxis": {
         "anchor": "x",
         "domain": [
          0,
          1
         ],
         "title": {
          "text": "pct_parent"
         }
        }
       }
      }
     },
     "metadata": {},
     "output_type": "display_data"
    }
   ],
   "source": [
    "#TODO: Points in this case are outside of the violins\n",
    "categorical_plot(cgp, node=[\"CD4+\"], sample_criteria=None, x=\"MouseID\", color=\"Lobe\", plot_type=\"violin\", show_points=True)"
   ]
  },
  {
   "cell_type": "markdown",
   "id": "4fef9e3f",
   "metadata": {},
   "source": [
    "# Stats Testing"
   ]
  },
  {
   "cell_type": "code",
   "execution_count": 2,
   "id": "fc31a222",
   "metadata": {},
   "outputs": [],
   "source": [
    "from cytodataparser.analysis import summary, testing"
   ]
  },
  {
   "cell_type": "code",
   "execution_count": 3,
   "id": "d94ff99e",
   "metadata": {},
   "outputs": [],
   "source": [
    "df = pl.read_excel(r\"C:\\Users\\bfoley3\\OneDrive - Johns Hopkins\\Hybrid Thymus\\Experimental Data\\2025-05-14 Thymocyte Characterization\\2025-05-14 Thymocyte Characterization.xlsx\")\n",
    "cgp = CytoGateParser(df)"
   ]
  },
  {
   "cell_type": "code",
   "execution_count": 4,
   "id": "be401212",
   "metadata": {},
   "outputs": [
    {
     "data": {
      "text/plain": [
       "{'gates': ['Cells/Singlets/Recipient/CD4+'],\n",
       " 'metric': 'pct_parent',\n",
       " 'n_total': 8,\n",
       " 'groupby': 'Lobe',\n",
       " 'n_per_group': {('R',): 4, ('L',): 4},\n",
       " 'group_stats': {('R',): {'mean': 49.555813857222375,\n",
       "   'std': 39.66454157939692,\n",
       "   'median': 45.165742394900754,\n",
       "   'q25': 16.25884726201142,\n",
       "   'q75': 78.46270899011171},\n",
       "  ('L',): {'mean': 61.707266364848934,\n",
       "   'std': 36.49329105164335,\n",
       "   'median': 71.02791332203867,\n",
       "   'q25': 44.98847061526951,\n",
       "   'q75': 87.74670907161811}}}"
      ]
     },
     "execution_count": 4,
     "metadata": {},
     "output_type": "execute_result"
    }
   ],
   "source": [
    "summary.describe_metric(cgp, node=[\"Recipient\", \"CD4+\"], sample_criteria={\"Strain\": \"== B6\"}, groupby=\"Lobe\")"
   ]
  },
  {
   "cell_type": "code",
   "execution_count": 6,
   "id": "af7c4c13",
   "metadata": {},
   "outputs": [
    {
     "data": {
      "text/plain": [
       "{'test': 'welch_t_test',\n",
       " 'metric': 'pct_parent',\n",
       " 'paired': False,\n",
       " 'groupby': 'Strain',\n",
       " 'groups': ['F1', 'B6'],\n",
       " 'n_per_group': {'F1': 4, 'B6': 8},\n",
       " 'statistic': -8.682978980913258,\n",
       " 'p_value': 5.862985332299878e-06,\n",
       " 'group_means': {'F1': 4.26308769531631, 'B6': 37.99310460333008},\n",
       " 'group_stds': {'F1': 4.4574801494159475, 'B6': 8.999084091562345},\n",
       " 'significant': True}"
      ]
     },
     "execution_count": 6,
     "metadata": {},
     "output_type": "execute_result"
    }
   ],
   "source": [
    "testing.run_ttest(cgp, node=[\"Donor\", \"CD4+\", \"5\"], groupby=\"Strain\")"
   ]
  },
  {
   "cell_type": "code",
   "execution_count": 7,
   "id": "065163db",
   "metadata": {},
   "outputs": [
    {
     "name": "stderr",
     "output_type": "stream",
     "text": [
      "c:\\Users\\bfoley3\\OneDrive - Johns Hopkins\\Hybrid Thymus\\Data Analysis\\FlowDataParser\\src\\cytodataparser\\analysis\\testing.py:217: UserWarning: ANOVA assumption of equal variances not met. Falling back to Kruskal–Wallis test.\n",
      "  warnings.warn(\n",
      "c:\\Users\\bfoley3\\OneDrive - Johns Hopkins\\Hybrid Thymus\\Data Analysis\\FlowDataParser\\src\\cytodataparser\\analysis\\testing.py:260: UserWarning: ANOVA p-value was not statistically significant (p = 0.841). Post-hoc results may not be meaningful.\n",
      "  warnings.warn(\n"
     ]
    },
    {
     "data": {
      "text/plain": [
       "{'test': 'kruskal',\n",
       " 'gate': ['Cells/Singlets/Donor/CD4+/5'],\n",
       " 'metric': 'pct_parent',\n",
       " 'groupby': 'MouseID',\n",
       " 'groups': ['L', 'LL', 'LR', 'R'],\n",
       " 'n_per_group': {'L': 2, 'LL': 2, 'LR': 2, 'R': 2},\n",
       " 'statistic': 0.8333333333333321,\n",
       " 'p_value': 0.8414786391315312,\n",
       " 'group_means': {'L': 40.06297214390288,\n",
       "  'LL': 32.80146663488259,\n",
       "  'LR': 37.80006942919051,\n",
       "  'R': 41.30791020534437},\n",
       " 'group_stds': {'L': 16.137657904664685,\n",
       "  'LL': 1.7461284996842408,\n",
       "  'LR': 13.185657428446303,\n",
       "  'R': 6.710049316230868},\n",
       " 'assumption_check': {'normality': True, 'equal_variance': False},\n",
       " 'posthoc': {'test': 'dunn',\n",
       "  'comparisons': [{'group1': 'L',\n",
       "    'group2': 'LL',\n",
       "    'p_value': 1.0,\n",
       "    'mean_diff': 7.261505509020296},\n",
       "   {'group1': 'L',\n",
       "    'group2': 'LR',\n",
       "    'p_value': 1.0,\n",
       "    'mean_diff': 2.262902714712375},\n",
       "   {'group1': 'L',\n",
       "    'group2': 'R',\n",
       "    'p_value': 1.0,\n",
       "    'mean_diff': -1.2449380614414878},\n",
       "   {'group1': 'LL',\n",
       "    'group2': 'LR',\n",
       "    'p_value': 1.0,\n",
       "    'mean_diff': -4.998602794307921},\n",
       "   {'group1': 'LL',\n",
       "    'group2': 'R',\n",
       "    'p_value': 1.0,\n",
       "    'mean_diff': -8.506443570461784},\n",
       "   {'group1': 'LR',\n",
       "    'group2': 'R',\n",
       "    'p_value': 1.0,\n",
       "    'mean_diff': -3.507840776153863}]}}"
      ]
     },
     "execution_count": 7,
     "metadata": {},
     "output_type": "execute_result"
    }
   ],
   "source": [
    "testing.run_anova(cgp, node=[\"Donor\", \"CD4+\", \"5\"], sample_criteria={\"Strain\": \"== B6\"}, groupby=\"MouseID\")"
   ]
  },
  {
   "cell_type": "code",
   "execution_count": 8,
   "id": "cb8fc2fe",
   "metadata": {},
   "outputs": [
    {
     "name": "stderr",
     "output_type": "stream",
     "text": [
      "c:\\Users\\bfoley3\\OneDrive - Johns Hopkins\\Hybrid Thymus\\Data Analysis\\FlowDataParser\\src\\cytodataparser\\analysis\\testing.py:335: UserWarning: Chi-squared test assumption warning: 4 of 4 cells (100.0%) have expected counts < 5. Interpret the p-value with caution.\n",
      "  warnings.warn(\n"
     ]
    },
    {
     "data": {
      "text/plain": [
       "{'test': 'chi2',\n",
       " 'row_field': 'Strain',\n",
       " 'col_field': 'Lobe',\n",
       " 'row_labels': ['B6', 'F1'],\n",
       " 'col_labels': ['L', 'R'],\n",
       " 'chi2': 0.0,\n",
       " 'p_value': 1.0,\n",
       " 'degrees_of_freedom': 1,\n",
       " 'observed': [[4, 4], [2, 2]],\n",
       " 'expected': [[4.0, 4.0], [2.0, 2.0]]}"
      ]
     },
     "execution_count": 8,
     "metadata": {},
     "output_type": "execute_result"
    }
   ],
   "source": [
    "testing.run_chi2_test(cgp, row_field=\"Strain\", col_field=\"Lobe\")"
   ]
  },
  {
   "cell_type": "code",
   "execution_count": 9,
   "id": "f21fe91c",
   "metadata": {},
   "outputs": [
    {
     "data": {
      "text/plain": [
       "{'test': 'correlation',\n",
       " 'method': 'pearson',\n",
       " 'gates': ['Donor/CD4+/5', 'Recipient/CD4+/5'],\n",
       " 'metrics': 'Count',\n",
       " 'n': 12,\n",
       " 'correlation': -0.143888658994571,\n",
       " 'p_value': 0.6554936985187627}"
      ]
     },
     "execution_count": 9,
     "metadata": {},
     "output_type": "execute_result"
    }
   ],
   "source": [
    "testing.run_correlation(cgp, node_a=[\"Donor\", \"CD4+\", \"5\"], node_b=[\"Recipient\", \"CD4+\", \"5\"])"
   ]
  },
  {
   "cell_type": "code",
   "execution_count": 10,
   "id": "d7c9448d",
   "metadata": {},
   "outputs": [
    {
     "data": {
      "text/plain": [
       "{'test': 'correlation',\n",
       " 'method': 'pearson',\n",
       " 'gates': ['Donor/CD4+/5:Count', 'Donor/CD4+/5:pct_parent'],\n",
       " 'metrics': 'Count vs pct_parent',\n",
       " 'n': 12,\n",
       " 'correlation': 0.6029104493145697,\n",
       " 'p_value': 0.03797428767841035}"
      ]
     },
     "execution_count": 10,
     "metadata": {},
     "output_type": "execute_result"
    }
   ],
   "source": [
    "testing.run_correlation(cgp, node_a=[\"Donor\", \"CD4+\", \"5\"], metric=[\"Count\", \"pct_parent\"])"
   ]
  }
 ],
 "metadata": {
  "kernelspec": {
   "display_name": "CytoGateParser-env",
   "language": "python",
   "name": "python3"
  },
  "language_info": {
   "codemirror_mode": {
    "name": "ipython",
    "version": 3
   },
   "file_extension": ".py",
   "mimetype": "text/x-python",
   "name": "python",
   "nbconvert_exporter": "python",
   "pygments_lexer": "ipython3",
   "version": "3.13.2"
  }
 },
 "nbformat": 4,
 "nbformat_minor": 5
}
